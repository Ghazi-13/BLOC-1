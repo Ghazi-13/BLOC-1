{
 "cells": [
  {
   "cell_type": "code",
   "execution_count": 1,
   "metadata": {},
   "outputs": [],
   "source": [
    "#!pip install Scrapy"
   ]
  },
  {
   "cell_type": "code",
   "execution_count": 2,
   "metadata": {},
   "outputs": [],
   "source": [
    "import requests\n",
    "\n",
    "# Import os => Library used to easily manipulate operating systems\n",
    "## More info => https://docs.python.org/3/library/os.html\n",
    "import os \n",
    "\n",
    "# Import logging => Library used for logs manipulation \n",
    "## More info => https://docs.python.org/3/library/logging.html\n",
    "import logging\n",
    "\n",
    "# Import scrapy and scrapy.crawler \n",
    "import scrapy\n",
    "from scrapy.crawler import CrawlerProcess\n",
    "\n",
    "import pandas as pd\n",
    "import numpy as np"
   ]
  },
  {
   "cell_type": "code",
   "execution_count": 3,
   "metadata": {},
   "outputs": [],
   "source": [
    "#List of cities\n",
    "cities_list=['Mont Saint Michel', 'St Malo', 'Bayeux', 'Le Havre', 'Rouen', 'Paris', 'Amiens', 'Lille', 'Strasbourg',\n",
    "              'Chateau du Haut Koenigsbourg', 'Colmar', 'Eguisheim', 'Besancon', 'Dijon', 'Annecy', 'Grenoble', 'Lyon',\n",
    "              'Gorges du Verdon', 'Bormes les Mimosas', 'Cassis', 'Marseille', 'Aix en Provence', 'Avignon', 'Uzes', 'Nimes',\n",
    "              'Aigues Mortes', 'Saintes Maries de la mer', 'Collioure', 'Carcassonne', 'Ariege', 'Toulouse', 'Montauban',\n",
    "              'Biarritz', 'Bayonne', 'La Rochelle'\n",
    "             ]\n",
    "#create de dictionnary\n",
    "cities_dict={\"city\": cities_list}"
   ]
  },
  {
   "cell_type": "markdown",
   "metadata": {},
   "source": [
    "## COLLECT CITIES COORDINATES"
   ]
  },
  {
   "cell_type": "code",
   "execution_count": 4,
   "metadata": {},
   "outputs": [],
   "source": [
    "#get gps informations with request\n",
    "request_cities_gps = [requests.get(\"https://nominatim.openstreetmap.org/?addressdetails=1&q={}&format=json&limit=1\".format(cities)).json() for cities in cities_list]  \n",
    "\n"
   ]
  },
  {
   "cell_type": "code",
   "execution_count": 5,
   "metadata": {},
   "outputs": [
    {
     "data": {
      "text/plain": [
       "dict"
      ]
     },
     "execution_count": 5,
     "metadata": {},
     "output_type": "execute_result"
    }
   ],
   "source": [
    "#type of the collected data\n",
    "type(request_cities_gps[0][0])"
   ]
  },
  {
   "cell_type": "code",
   "execution_count": 6,
   "metadata": {},
   "outputs": [
    {
     "data": {
      "text/plain": [
       "{'place_id': 151486647,\n",
       " 'licence': 'Data © OpenStreetMap contributors, ODbL 1.0. https://osm.org/copyright',\n",
       " 'osm_type': 'way',\n",
       " 'osm_id': 211285890,\n",
       " 'boundingbox': ['48.6349172', '48.637031', '-1.5133292', '-1.5094796'],\n",
       " 'lat': '48.6359541',\n",
       " 'lon': '-1.511459954959514',\n",
       " 'display_name': 'Mont Saint-Michel, Le Mont-Saint-Michel, Avranches, Manche, Normandie, France métropolitaine, 50170, France',\n",
       " 'class': 'place',\n",
       " 'type': 'islet',\n",
       " 'importance': 0.755436556781574,\n",
       " 'address': {'place': 'Mont Saint-Michel',\n",
       "  'village': 'Le Mont-Saint-Michel',\n",
       "  'municipality': 'Avranches',\n",
       "  'county': 'Manche',\n",
       "  'ISO3166-2-lvl6': 'FR-50',\n",
       "  'state': 'Normandie',\n",
       "  'region': 'France métropolitaine',\n",
       "  'postcode': '50170',\n",
       "  'country': 'France',\n",
       "  'country_code': 'fr'}}"
      ]
     },
     "metadata": {},
     "output_type": "display_data"
    }
   ],
   "source": [
    "#display collected data\n",
    "display(request_cities_gps[0][0])"
   ]
  },
  {
   "cell_type": "code",
   "execution_count": 7,
   "metadata": {},
   "outputs": [
    {
     "data": {
      "text/plain": [
       "['48.6359541',\n",
       " '48.649518',\n",
       " '49.2764624',\n",
       " '49.4938975',\n",
       " '49.4404591',\n",
       " '48.8588897',\n",
       " '49.8941708',\n",
       " '50.6365654',\n",
       " '48.584614',\n",
       " '48.249489800000006',\n",
       " '48.0777517',\n",
       " '48.0447968',\n",
       " '47.2380222',\n",
       " '47.3215806',\n",
       " '45.8992348',\n",
       " '45.1875602',\n",
       " '45.7578137',\n",
       " '43.7496562',\n",
       " '43.1572172',\n",
       " '43.2140359',\n",
       " '43.2961743',\n",
       " '43.5298424',\n",
       " '43.9492493',\n",
       " '44.0121279',\n",
       " '43.8374249',\n",
       " '43.5658225',\n",
       " '43.4522771',\n",
       " '42.52505',\n",
       " '43.2130358',\n",
       " '42.9455368',\n",
       " '43.6044622',\n",
       " '44.0175835',\n",
       " '43.4832523',\n",
       " '43.4933379',\n",
       " '46.1591126']"
      ]
     },
     "execution_count": 7,
     "metadata": {},
     "output_type": "execute_result"
    }
   ],
   "source": [
    "#get gps coordinate : latitude\n",
    "latitude=[request_cities_gps[i][0]['lat'] for i in range(len(cities_list))]\n",
    "latitude"
   ]
  },
  {
   "cell_type": "code",
   "execution_count": 8,
   "metadata": {},
   "outputs": [
    {
     "data": {
      "text/plain": [
       "['-1.511459954959514',\n",
       " '-2.0260409',\n",
       " '-0.7024738',\n",
       " '0.1079732',\n",
       " '1.0939658',\n",
       " '2.3200410217200766',\n",
       " '2.2956951',\n",
       " '3.0635282',\n",
       " '7.7507127',\n",
       " '7.34429620253195',\n",
       " '7.3579641',\n",
       " '7.3079618',\n",
       " '6.0243622',\n",
       " '5.0414701',\n",
       " '6.1288847',\n",
       " '5.7357819',\n",
       " '4.8320114',\n",
       " '6.3285616',\n",
       " '6.329253867921363',\n",
       " '5.5396318',\n",
       " '5.3699525',\n",
       " '5.4474738',\n",
       " '4.8059012',\n",
       " '4.4196718',\n",
       " '4.3600687',\n",
       " '4.1912837',\n",
       " '4.4287172',\n",
       " '3.0831554',\n",
       " '2.3491069',\n",
       " '1.4065544156065486',\n",
       " '1.4442469',\n",
       " '1.3549991',\n",
       " '-1.5592776',\n",
       " '-1.475099',\n",
       " '-1.1520434']"
      ]
     },
     "execution_count": 8,
     "metadata": {},
     "output_type": "execute_result"
    }
   ],
   "source": [
    "#get gps coordinate : latitude\n",
    "longitude=[request_cities_gps[i][0]['lon'] for i in range(len(cities_list))]\n",
    "longitude"
   ]
  },
  {
   "cell_type": "code",
   "execution_count": 9,
   "metadata": {},
   "outputs": [],
   "source": [
    "#create a dictionnary\n",
    "cities_dict={\"city\": cities_list,\"latitude\":latitude, \"longitude\":longitude }"
   ]
  },
  {
   "cell_type": "code",
   "execution_count": 10,
   "metadata": {},
   "outputs": [
    {
     "data": {
      "text/html": [
       "<div>\n",
       "<style scoped>\n",
       "    .dataframe tbody tr th:only-of-type {\n",
       "        vertical-align: middle;\n",
       "    }\n",
       "\n",
       "    .dataframe tbody tr th {\n",
       "        vertical-align: top;\n",
       "    }\n",
       "\n",
       "    .dataframe thead th {\n",
       "        text-align: right;\n",
       "    }\n",
       "</style>\n",
       "<table border=\"1\" class=\"dataframe\">\n",
       "  <thead>\n",
       "    <tr style=\"text-align: right;\">\n",
       "      <th></th>\n",
       "      <th>city</th>\n",
       "      <th>latitude</th>\n",
       "      <th>longitude</th>\n",
       "    </tr>\n",
       "  </thead>\n",
       "  <tbody>\n",
       "    <tr>\n",
       "      <th>0</th>\n",
       "      <td>Mont Saint Michel</td>\n",
       "      <td>48.6359541</td>\n",
       "      <td>-1.511459954959514</td>\n",
       "    </tr>\n",
       "    <tr>\n",
       "      <th>1</th>\n",
       "      <td>St Malo</td>\n",
       "      <td>48.649518</td>\n",
       "      <td>-2.0260409</td>\n",
       "    </tr>\n",
       "    <tr>\n",
       "      <th>2</th>\n",
       "      <td>Bayeux</td>\n",
       "      <td>49.2764624</td>\n",
       "      <td>-0.7024738</td>\n",
       "    </tr>\n",
       "    <tr>\n",
       "      <th>3</th>\n",
       "      <td>Le Havre</td>\n",
       "      <td>49.4938975</td>\n",
       "      <td>0.1079732</td>\n",
       "    </tr>\n",
       "    <tr>\n",
       "      <th>4</th>\n",
       "      <td>Rouen</td>\n",
       "      <td>49.4404591</td>\n",
       "      <td>1.0939658</td>\n",
       "    </tr>\n",
       "  </tbody>\n",
       "</table>\n",
       "</div>"
      ],
      "text/plain": [
       "                city    latitude           longitude\n",
       "0  Mont Saint Michel  48.6359541  -1.511459954959514\n",
       "1            St Malo   48.649518          -2.0260409\n",
       "2             Bayeux  49.2764624          -0.7024738\n",
       "3           Le Havre  49.4938975           0.1079732\n",
       "4              Rouen  49.4404591           1.0939658"
      ]
     },
     "execution_count": 10,
     "metadata": {},
     "output_type": "execute_result"
    }
   ],
   "source": [
    "#create dataframe\n",
    "df=pd.DataFrame(cities_dict)\n",
    "df.head()"
   ]
  },
  {
   "cell_type": "code",
   "execution_count": 11,
   "metadata": {},
   "outputs": [],
   "source": [
    "# round coordinates\n",
    "for i in range (len(df)):\n",
    "    df['latitude'][i]=round(float(df['latitude'][i]), 4)\n",
    "    df['longitude'][i]=round(float(df['longitude'][i]), 4)"
   ]
  },
  {
   "cell_type": "code",
   "execution_count": 12,
   "metadata": {},
   "outputs": [
    {
     "data": {
      "text/html": [
       "<div>\n",
       "<style scoped>\n",
       "    .dataframe tbody tr th:only-of-type {\n",
       "        vertical-align: middle;\n",
       "    }\n",
       "\n",
       "    .dataframe tbody tr th {\n",
       "        vertical-align: top;\n",
       "    }\n",
       "\n",
       "    .dataframe thead th {\n",
       "        text-align: right;\n",
       "    }\n",
       "</style>\n",
       "<table border=\"1\" class=\"dataframe\">\n",
       "  <thead>\n",
       "    <tr style=\"text-align: right;\">\n",
       "      <th></th>\n",
       "      <th>city</th>\n",
       "      <th>latitude</th>\n",
       "      <th>longitude</th>\n",
       "    </tr>\n",
       "  </thead>\n",
       "  <tbody>\n",
       "    <tr>\n",
       "      <th>0</th>\n",
       "      <td>Mont Saint Michel</td>\n",
       "      <td>48.636</td>\n",
       "      <td>-1.5115</td>\n",
       "    </tr>\n",
       "    <tr>\n",
       "      <th>1</th>\n",
       "      <td>St Malo</td>\n",
       "      <td>48.6495</td>\n",
       "      <td>-2.026</td>\n",
       "    </tr>\n",
       "    <tr>\n",
       "      <th>2</th>\n",
       "      <td>Bayeux</td>\n",
       "      <td>49.2765</td>\n",
       "      <td>-0.7025</td>\n",
       "    </tr>\n",
       "    <tr>\n",
       "      <th>3</th>\n",
       "      <td>Le Havre</td>\n",
       "      <td>49.4939</td>\n",
       "      <td>0.108</td>\n",
       "    </tr>\n",
       "    <tr>\n",
       "      <th>4</th>\n",
       "      <td>Rouen</td>\n",
       "      <td>49.4405</td>\n",
       "      <td>1.094</td>\n",
       "    </tr>\n",
       "  </tbody>\n",
       "</table>\n",
       "</div>"
      ],
      "text/plain": [
       "                city latitude longitude\n",
       "0  Mont Saint Michel   48.636   -1.5115\n",
       "1            St Malo  48.6495    -2.026\n",
       "2             Bayeux  49.2765   -0.7025\n",
       "3           Le Havre  49.4939     0.108\n",
       "4              Rouen  49.4405     1.094"
      ]
     },
     "execution_count": 12,
     "metadata": {},
     "output_type": "execute_result"
    }
   ],
   "source": [
    "df.head()"
   ]
  },
  {
   "cell_type": "markdown",
   "metadata": {},
   "source": [
    "# COLLECT WEATHER INFORMATIONS"
   ]
  },
  {
   "cell_type": "code",
   "execution_count": 13,
   "metadata": {},
   "outputs": [],
   "source": [
    "#get weather informations with request\n",
    "request_weather= [requests.get(\"https://api.openweathermap.org/data/2.5/onecall?lat={}&lon={}&exclude=hourly,minutely&appid=820f9f15d2c1ba9a082c4093c4170efa&units=metric\".format(df['latitude'][i], df['longitude'][i])).json() for i in range(len(df))]  \n"
   ]
  },
  {
   "cell_type": "code",
   "execution_count": 14,
   "metadata": {
    "tags": []
   },
   "outputs": [
    {
     "data": {
      "text/plain": [
       "{'lat': 48.636,\n",
       " 'lon': -1.5115,\n",
       " 'timezone': 'Europe/Paris',\n",
       " 'timezone_offset': 7200,\n",
       " 'current': {'dt': 1657451759,\n",
       "  'sunrise': 1657426459,\n",
       "  'sunset': 1657483683,\n",
       "  'temp': 25.39,\n",
       "  'feels_like': 24.77,\n",
       "  'pressure': 1025,\n",
       "  'humidity': 30,\n",
       "  'dew_point': 6.58,\n",
       "  'uvi': 7.76,\n",
       "  'clouds': 0,\n",
       "  'visibility': 10000,\n",
       "  'wind_speed': 4.41,\n",
       "  'wind_deg': 81,\n",
       "  'wind_gust': 5.76,\n",
       "  'weather': [{'id': 800,\n",
       "    'main': 'Clear',\n",
       "    'description': 'clear sky',\n",
       "    'icon': '01d'}]},\n",
       " 'daily': [{'dt': 1657454400,\n",
       "   'sunrise': 1657426459,\n",
       "   'sunset': 1657483683,\n",
       "   'moonrise': 1657472160,\n",
       "   'moonset': 1657414200,\n",
       "   'moon_phase': 0.37,\n",
       "   'temp': {'day': 25.98,\n",
       "    'min': 13.21,\n",
       "    'max': 29.82,\n",
       "    'night': 20.06,\n",
       "    'eve': 27.48,\n",
       "    'morn': 16.13},\n",
       "   'feels_like': {'day': 25.98, 'night': 19.48, 'eve': 26.91, 'morn': 15.42},\n",
       "   'pressure': 1025,\n",
       "   'humidity': 29,\n",
       "   'dew_point': 6.59,\n",
       "   'wind_speed': 7.33,\n",
       "   'wind_deg': 55,\n",
       "   'wind_gust': 12.73,\n",
       "   'weather': [{'id': 800,\n",
       "     'main': 'Clear',\n",
       "     'description': 'clear sky',\n",
       "     'icon': '01d'}],\n",
       "   'clouds': 0,\n",
       "   'pop': 0,\n",
       "   'uvi': 8.37},\n",
       "  {'dt': 1657540800,\n",
       "   'sunrise': 1657512914,\n",
       "   'sunset': 1657570043,\n",
       "   'moonrise': 1657563600,\n",
       "   'moonset': 1657502640,\n",
       "   'moon_phase': 0.41,\n",
       "   'temp': {'day': 30.05,\n",
       "    'min': 17.07,\n",
       "    'max': 30.79,\n",
       "    'night': 21.27,\n",
       "    'eve': 28.73,\n",
       "    'morn': 19.75},\n",
       "   'feels_like': {'day': 28.87, 'night': 20.91, 'eve': 28.03, 'morn': 19.32},\n",
       "   'pressure': 1020,\n",
       "   'humidity': 31,\n",
       "   'dew_point': 10.74,\n",
       "   'wind_speed': 5.55,\n",
       "   'wind_deg': 50,\n",
       "   'wind_gust': 11.96,\n",
       "   'weather': [{'id': 800,\n",
       "     'main': 'Clear',\n",
       "     'description': 'clear sky',\n",
       "     'icon': '01d'}],\n",
       "   'clouds': 0,\n",
       "   'pop': 0,\n",
       "   'uvi': 7.89},\n",
       "  {'dt': 1657627200,\n",
       "   'sunrise': 1657599371,\n",
       "   'sunset': 1657656401,\n",
       "   'moonrise': 1657654560,\n",
       "   'moonset': 1657591740,\n",
       "   'moon_phase': 0.45,\n",
       "   'temp': {'day': 32.59,\n",
       "    'min': 18.65,\n",
       "    'max': 33.57,\n",
       "    'night': 21.92,\n",
       "    'eve': 30.3,\n",
       "    'morn': 21.27},\n",
       "   'feels_like': {'day': 31.03, 'night': 21.6, 'eve': 29.04, 'morn': 20.81},\n",
       "   'pressure': 1021,\n",
       "   'humidity': 26,\n",
       "   'dew_point': 9.98,\n",
       "   'wind_speed': 6.04,\n",
       "   'wind_deg': 337,\n",
       "   'wind_gust': 8.23,\n",
       "   'weather': [{'id': 803,\n",
       "     'main': 'Clouds',\n",
       "     'description': 'broken clouds',\n",
       "     'icon': '04d'}],\n",
       "   'clouds': 61,\n",
       "   'pop': 0,\n",
       "   'uvi': 7.93},\n",
       "  {'dt': 1657713600,\n",
       "   'sunrise': 1657685830,\n",
       "   'sunset': 1657742757,\n",
       "   'moonrise': 1657744500,\n",
       "   'moonset': 1657681920,\n",
       "   'moon_phase': 0.5,\n",
       "   'temp': {'day': 27.12,\n",
       "    'min': 17.72,\n",
       "    'max': 27.12,\n",
       "    'night': 17.72,\n",
       "    'eve': 22.98,\n",
       "    'morn': 21.76},\n",
       "   'feels_like': {'day': 26.9, 'night': 17.85, 'eve': 22.72, 'morn': 21.43},\n",
       "   'pressure': 1022,\n",
       "   'humidity': 39,\n",
       "   'dew_point': 11.46,\n",
       "   'wind_speed': 7.28,\n",
       "   'wind_deg': 339,\n",
       "   'wind_gust': 10.45,\n",
       "   'weather': [{'id': 802,\n",
       "     'main': 'Clouds',\n",
       "     'description': 'scattered clouds',\n",
       "     'icon': '03d'}],\n",
       "   'clouds': 35,\n",
       "   'pop': 0,\n",
       "   'uvi': 7.43},\n",
       "  {'dt': 1657800000,\n",
       "   'sunrise': 1657772291,\n",
       "   'sunset': 1657829110,\n",
       "   'moonrise': 1657833600,\n",
       "   'moonset': 1657773000,\n",
       "   'moon_phase': 0.53,\n",
       "   'temp': {'day': 25.63,\n",
       "    'min': 15.59,\n",
       "    'max': 25.63,\n",
       "    'night': 17.53,\n",
       "    'eve': 22.87,\n",
       "    'morn': 17.35},\n",
       "   'feels_like': {'day': 25.16, 'night': 16.75, 'eve': 22.28, 'morn': 16.81},\n",
       "   'pressure': 1023,\n",
       "   'humidity': 35,\n",
       "   'dew_point': 8.53,\n",
       "   'wind_speed': 7.95,\n",
       "   'wind_deg': 330,\n",
       "   'wind_gust': 8.28,\n",
       "   'weather': [{'id': 803,\n",
       "     'main': 'Clouds',\n",
       "     'description': 'broken clouds',\n",
       "     'icon': '04d'}],\n",
       "   'clouds': 61,\n",
       "   'pop': 0,\n",
       "   'uvi': 7.99},\n",
       "  {'dt': 1657886400,\n",
       "   'sunrise': 1657858753,\n",
       "   'sunset': 1657915461,\n",
       "   'moonrise': 1657921920,\n",
       "   'moonset': 1657864620,\n",
       "   'moon_phase': 0.56,\n",
       "   'temp': {'day': 26.98,\n",
       "    'min': 14.06,\n",
       "    'max': 27.12,\n",
       "    'night': 19.09,\n",
       "    'eve': 25.57,\n",
       "    'morn': 16.83},\n",
       "   'feels_like': {'day': 26.53, 'night': 18.67, 'eve': 25.28, 'morn': 16.21},\n",
       "   'pressure': 1021,\n",
       "   'humidity': 33,\n",
       "   'dew_point': 8.63,\n",
       "   'wind_speed': 5.48,\n",
       "   'wind_deg': 319,\n",
       "   'wind_gust': 5.71,\n",
       "   'weather': [{'id': 803,\n",
       "     'main': 'Clouds',\n",
       "     'description': 'broken clouds',\n",
       "     'icon': '04d'}],\n",
       "   'clouds': 59,\n",
       "   'pop': 0,\n",
       "   'uvi': 8},\n",
       "  {'dt': 1657972800,\n",
       "   'sunrise': 1657945216,\n",
       "   'sunset': 1658001810,\n",
       "   'moonrise': 0,\n",
       "   'moonset': 1657956240,\n",
       "   'moon_phase': 0.6,\n",
       "   'temp': {'day': 34.69,\n",
       "    'min': 16.93,\n",
       "    'max': 35.71,\n",
       "    'night': 27.66,\n",
       "    'eve': 35.4,\n",
       "    'morn': 20.14},\n",
       "   'feels_like': {'day': 32.7, 'night': 26.81, 'eve': 33.26, 'morn': 19.46},\n",
       "   'pressure': 1017,\n",
       "   'humidity': 20,\n",
       "   'dew_point': 7.36,\n",
       "   'wind_speed': 5.48,\n",
       "   'wind_deg': 82,\n",
       "   'wind_gust': 10.77,\n",
       "   'weather': [{'id': 802,\n",
       "     'main': 'Clouds',\n",
       "     'description': 'scattered clouds',\n",
       "     'icon': '03d'}],\n",
       "   'clouds': 26,\n",
       "   'pop': 0,\n",
       "   'uvi': 8},\n",
       "  {'dt': 1658059200,\n",
       "   'sunrise': 1658031681,\n",
       "   'sunset': 1658088156,\n",
       "   'moonrise': 1658009700,\n",
       "   'moonset': 1658047620,\n",
       "   'moon_phase': 0.64,\n",
       "   'temp': {'day': 30.83,\n",
       "    'min': 17.44,\n",
       "    'max': 34.47,\n",
       "    'night': 17.44,\n",
       "    'eve': 23.03,\n",
       "    'morn': 26.89},\n",
       "   'feels_like': {'day': 29.95, 'night': 17.67, 'eve': 23.01, 'morn': 26.35},\n",
       "   'pressure': 1012,\n",
       "   'humidity': 34,\n",
       "   'dew_point': 12.25,\n",
       "   'wind_speed': 7,\n",
       "   'wind_deg': 314,\n",
       "   'wind_gust': 12.52,\n",
       "   'weather': [{'id': 801,\n",
       "     'main': 'Clouds',\n",
       "     'description': 'few clouds',\n",
       "     'icon': '02d'}],\n",
       "   'clouds': 12,\n",
       "   'pop': 0,\n",
       "   'uvi': 8}]}"
      ]
     },
     "metadata": {},
     "output_type": "display_data"
    }
   ],
   "source": [
    "#display collected informations for the first city\n",
    "display(request_weather[0])"
   ]
  },
  {
   "cell_type": "code",
   "execution_count": 15,
   "metadata": {
    "tags": []
   },
   "outputs": [
    {
     "data": {
      "text/plain": [
       "[{'dt': 1657454400,\n",
       "  'sunrise': 1657426459,\n",
       "  'sunset': 1657483683,\n",
       "  'moonrise': 1657472160,\n",
       "  'moonset': 1657414200,\n",
       "  'moon_phase': 0.37,\n",
       "  'temp': {'day': 25.98,\n",
       "   'min': 13.21,\n",
       "   'max': 29.82,\n",
       "   'night': 20.06,\n",
       "   'eve': 27.48,\n",
       "   'morn': 16.13},\n",
       "  'feels_like': {'day': 25.98, 'night': 19.48, 'eve': 26.91, 'morn': 15.42},\n",
       "  'pressure': 1025,\n",
       "  'humidity': 29,\n",
       "  'dew_point': 6.59,\n",
       "  'wind_speed': 7.33,\n",
       "  'wind_deg': 55,\n",
       "  'wind_gust': 12.73,\n",
       "  'weather': [{'id': 800,\n",
       "    'main': 'Clear',\n",
       "    'description': 'clear sky',\n",
       "    'icon': '01d'}],\n",
       "  'clouds': 0,\n",
       "  'pop': 0,\n",
       "  'uvi': 8.37},\n",
       " {'dt': 1657540800,\n",
       "  'sunrise': 1657512914,\n",
       "  'sunset': 1657570043,\n",
       "  'moonrise': 1657563600,\n",
       "  'moonset': 1657502640,\n",
       "  'moon_phase': 0.41,\n",
       "  'temp': {'day': 30.05,\n",
       "   'min': 17.07,\n",
       "   'max': 30.79,\n",
       "   'night': 21.27,\n",
       "   'eve': 28.73,\n",
       "   'morn': 19.75},\n",
       "  'feels_like': {'day': 28.87, 'night': 20.91, 'eve': 28.03, 'morn': 19.32},\n",
       "  'pressure': 1020,\n",
       "  'humidity': 31,\n",
       "  'dew_point': 10.74,\n",
       "  'wind_speed': 5.55,\n",
       "  'wind_deg': 50,\n",
       "  'wind_gust': 11.96,\n",
       "  'weather': [{'id': 800,\n",
       "    'main': 'Clear',\n",
       "    'description': 'clear sky',\n",
       "    'icon': '01d'}],\n",
       "  'clouds': 0,\n",
       "  'pop': 0,\n",
       "  'uvi': 7.89},\n",
       " {'dt': 1657627200,\n",
       "  'sunrise': 1657599371,\n",
       "  'sunset': 1657656401,\n",
       "  'moonrise': 1657654560,\n",
       "  'moonset': 1657591740,\n",
       "  'moon_phase': 0.45,\n",
       "  'temp': {'day': 32.59,\n",
       "   'min': 18.65,\n",
       "   'max': 33.57,\n",
       "   'night': 21.92,\n",
       "   'eve': 30.3,\n",
       "   'morn': 21.27},\n",
       "  'feels_like': {'day': 31.03, 'night': 21.6, 'eve': 29.04, 'morn': 20.81},\n",
       "  'pressure': 1021,\n",
       "  'humidity': 26,\n",
       "  'dew_point': 9.98,\n",
       "  'wind_speed': 6.04,\n",
       "  'wind_deg': 337,\n",
       "  'wind_gust': 8.23,\n",
       "  'weather': [{'id': 803,\n",
       "    'main': 'Clouds',\n",
       "    'description': 'broken clouds',\n",
       "    'icon': '04d'}],\n",
       "  'clouds': 61,\n",
       "  'pop': 0,\n",
       "  'uvi': 7.93},\n",
       " {'dt': 1657713600,\n",
       "  'sunrise': 1657685830,\n",
       "  'sunset': 1657742757,\n",
       "  'moonrise': 1657744500,\n",
       "  'moonset': 1657681920,\n",
       "  'moon_phase': 0.5,\n",
       "  'temp': {'day': 27.12,\n",
       "   'min': 17.72,\n",
       "   'max': 27.12,\n",
       "   'night': 17.72,\n",
       "   'eve': 22.98,\n",
       "   'morn': 21.76},\n",
       "  'feels_like': {'day': 26.9, 'night': 17.85, 'eve': 22.72, 'morn': 21.43},\n",
       "  'pressure': 1022,\n",
       "  'humidity': 39,\n",
       "  'dew_point': 11.46,\n",
       "  'wind_speed': 7.28,\n",
       "  'wind_deg': 339,\n",
       "  'wind_gust': 10.45,\n",
       "  'weather': [{'id': 802,\n",
       "    'main': 'Clouds',\n",
       "    'description': 'scattered clouds',\n",
       "    'icon': '03d'}],\n",
       "  'clouds': 35,\n",
       "  'pop': 0,\n",
       "  'uvi': 7.43},\n",
       " {'dt': 1657800000,\n",
       "  'sunrise': 1657772291,\n",
       "  'sunset': 1657829110,\n",
       "  'moonrise': 1657833600,\n",
       "  'moonset': 1657773000,\n",
       "  'moon_phase': 0.53,\n",
       "  'temp': {'day': 25.63,\n",
       "   'min': 15.59,\n",
       "   'max': 25.63,\n",
       "   'night': 17.53,\n",
       "   'eve': 22.87,\n",
       "   'morn': 17.35},\n",
       "  'feels_like': {'day': 25.16, 'night': 16.75, 'eve': 22.28, 'morn': 16.81},\n",
       "  'pressure': 1023,\n",
       "  'humidity': 35,\n",
       "  'dew_point': 8.53,\n",
       "  'wind_speed': 7.95,\n",
       "  'wind_deg': 330,\n",
       "  'wind_gust': 8.28,\n",
       "  'weather': [{'id': 803,\n",
       "    'main': 'Clouds',\n",
       "    'description': 'broken clouds',\n",
       "    'icon': '04d'}],\n",
       "  'clouds': 61,\n",
       "  'pop': 0,\n",
       "  'uvi': 7.99},\n",
       " {'dt': 1657886400,\n",
       "  'sunrise': 1657858753,\n",
       "  'sunset': 1657915461,\n",
       "  'moonrise': 1657921920,\n",
       "  'moonset': 1657864620,\n",
       "  'moon_phase': 0.56,\n",
       "  'temp': {'day': 26.98,\n",
       "   'min': 14.06,\n",
       "   'max': 27.12,\n",
       "   'night': 19.09,\n",
       "   'eve': 25.57,\n",
       "   'morn': 16.83},\n",
       "  'feels_like': {'day': 26.53, 'night': 18.67, 'eve': 25.28, 'morn': 16.21},\n",
       "  'pressure': 1021,\n",
       "  'humidity': 33,\n",
       "  'dew_point': 8.63,\n",
       "  'wind_speed': 5.48,\n",
       "  'wind_deg': 319,\n",
       "  'wind_gust': 5.71,\n",
       "  'weather': [{'id': 803,\n",
       "    'main': 'Clouds',\n",
       "    'description': 'broken clouds',\n",
       "    'icon': '04d'}],\n",
       "  'clouds': 59,\n",
       "  'pop': 0,\n",
       "  'uvi': 8},\n",
       " {'dt': 1657972800,\n",
       "  'sunrise': 1657945216,\n",
       "  'sunset': 1658001810,\n",
       "  'moonrise': 0,\n",
       "  'moonset': 1657956240,\n",
       "  'moon_phase': 0.6,\n",
       "  'temp': {'day': 34.69,\n",
       "   'min': 16.93,\n",
       "   'max': 35.71,\n",
       "   'night': 27.66,\n",
       "   'eve': 35.4,\n",
       "   'morn': 20.14},\n",
       "  'feels_like': {'day': 32.7, 'night': 26.81, 'eve': 33.26, 'morn': 19.46},\n",
       "  'pressure': 1017,\n",
       "  'humidity': 20,\n",
       "  'dew_point': 7.36,\n",
       "  'wind_speed': 5.48,\n",
       "  'wind_deg': 82,\n",
       "  'wind_gust': 10.77,\n",
       "  'weather': [{'id': 802,\n",
       "    'main': 'Clouds',\n",
       "    'description': 'scattered clouds',\n",
       "    'icon': '03d'}],\n",
       "  'clouds': 26,\n",
       "  'pop': 0,\n",
       "  'uvi': 8},\n",
       " {'dt': 1658059200,\n",
       "  'sunrise': 1658031681,\n",
       "  'sunset': 1658088156,\n",
       "  'moonrise': 1658009700,\n",
       "  'moonset': 1658047620,\n",
       "  'moon_phase': 0.64,\n",
       "  'temp': {'day': 30.83,\n",
       "   'min': 17.44,\n",
       "   'max': 34.47,\n",
       "   'night': 17.44,\n",
       "   'eve': 23.03,\n",
       "   'morn': 26.89},\n",
       "  'feels_like': {'day': 29.95, 'night': 17.67, 'eve': 23.01, 'morn': 26.35},\n",
       "  'pressure': 1012,\n",
       "  'humidity': 34,\n",
       "  'dew_point': 12.25,\n",
       "  'wind_speed': 7,\n",
       "  'wind_deg': 314,\n",
       "  'wind_gust': 12.52,\n",
       "  'weather': [{'id': 801,\n",
       "    'main': 'Clouds',\n",
       "    'description': 'few clouds',\n",
       "    'icon': '02d'}],\n",
       "  'clouds': 12,\n",
       "  'pop': 0,\n",
       "  'uvi': 8}]"
      ]
     },
     "metadata": {},
     "output_type": "display_data"
    }
   ],
   "source": [
    "#display collected daily informations for the first city\n",
    "display(request_weather[0]['daily'])"
   ]
  },
  {
   "cell_type": "code",
   "execution_count": 18,
   "metadata": {},
   "outputs": [
    {
     "data": {
      "text/html": [
       "<div>\n",
       "<style scoped>\n",
       "    .dataframe tbody tr th:only-of-type {\n",
       "        vertical-align: middle;\n",
       "    }\n",
       "\n",
       "    .dataframe tbody tr th {\n",
       "        vertical-align: top;\n",
       "    }\n",
       "\n",
       "    .dataframe thead th {\n",
       "        text-align: right;\n",
       "    }\n",
       "</style>\n",
       "<table border=\"1\" class=\"dataframe\">\n",
       "  <thead>\n",
       "    <tr style=\"text-align: right;\">\n",
       "      <th></th>\n",
       "      <th>city</th>\n",
       "      <th>latitude</th>\n",
       "      <th>longitude</th>\n",
       "      <th>weekly_temp</th>\n",
       "      <th>weekly_temp_feels_like</th>\n",
       "      <th>weekly_wind_speed</th>\n",
       "      <th>weekly_humidity</th>\n",
       "      <th>weekly_main_weather</th>\n",
       "      <th>weekly_pop</th>\n",
       "    </tr>\n",
       "  </thead>\n",
       "  <tbody>\n",
       "    <tr>\n",
       "      <th>0</th>\n",
       "      <td>Mont Saint Michel</td>\n",
       "      <td>48.636</td>\n",
       "      <td>-1.5115</td>\n",
       "      <td></td>\n",
       "      <td></td>\n",
       "      <td></td>\n",
       "      <td></td>\n",
       "      <td></td>\n",
       "      <td></td>\n",
       "    </tr>\n",
       "    <tr>\n",
       "      <th>1</th>\n",
       "      <td>St Malo</td>\n",
       "      <td>48.6495</td>\n",
       "      <td>-2.026</td>\n",
       "      <td></td>\n",
       "      <td></td>\n",
       "      <td></td>\n",
       "      <td></td>\n",
       "      <td></td>\n",
       "      <td></td>\n",
       "    </tr>\n",
       "    <tr>\n",
       "      <th>2</th>\n",
       "      <td>Bayeux</td>\n",
       "      <td>49.2765</td>\n",
       "      <td>-0.7025</td>\n",
       "      <td></td>\n",
       "      <td></td>\n",
       "      <td></td>\n",
       "      <td></td>\n",
       "      <td></td>\n",
       "      <td></td>\n",
       "    </tr>\n",
       "    <tr>\n",
       "      <th>3</th>\n",
       "      <td>Le Havre</td>\n",
       "      <td>49.4939</td>\n",
       "      <td>0.108</td>\n",
       "      <td></td>\n",
       "      <td></td>\n",
       "      <td></td>\n",
       "      <td></td>\n",
       "      <td></td>\n",
       "      <td></td>\n",
       "    </tr>\n",
       "    <tr>\n",
       "      <th>4</th>\n",
       "      <td>Rouen</td>\n",
       "      <td>49.4405</td>\n",
       "      <td>1.094</td>\n",
       "      <td></td>\n",
       "      <td></td>\n",
       "      <td></td>\n",
       "      <td></td>\n",
       "      <td></td>\n",
       "      <td></td>\n",
       "    </tr>\n",
       "  </tbody>\n",
       "</table>\n",
       "</div>"
      ],
      "text/plain": [
       "                city latitude longitude weekly_temp weekly_temp_feels_like  \\\n",
       "0  Mont Saint Michel   48.636   -1.5115                                      \n",
       "1            St Malo  48.6495    -2.026                                      \n",
       "2             Bayeux  49.2765   -0.7025                                      \n",
       "3           Le Havre  49.4939     0.108                                      \n",
       "4              Rouen  49.4405     1.094                                      \n",
       "\n",
       "  weekly_wind_speed weekly_humidity weekly_main_weather weekly_pop  \n",
       "0                                                                   \n",
       "1                                                                   \n",
       "2                                                                   \n",
       "3                                                                   \n",
       "4                                                                   "
      ]
     },
     "execution_count": 18,
     "metadata": {},
     "output_type": "execute_result"
    }
   ],
   "source": [
    "#Select the weather criteria list\n",
    "weather_list=['weekly_temp', 'weekly_temp_feels_like', 'weekly_wind_speed', 'weekly_humidity', 'weekly_main_weather', 'weekly_pop']\n",
    "\n",
    "#create columns\n",
    "for weather in weather_list:\n",
    "    df[weather]=\"\"\n",
    "df.head()"
   ]
  },
  {
   "cell_type": "code",
   "execution_count": 19,
   "metadata": {},
   "outputs": [
    {
     "data": {
      "text/html": [
       "<div>\n",
       "<style scoped>\n",
       "    .dataframe tbody tr th:only-of-type {\n",
       "        vertical-align: middle;\n",
       "    }\n",
       "\n",
       "    .dataframe tbody tr th {\n",
       "        vertical-align: top;\n",
       "    }\n",
       "\n",
       "    .dataframe thead th {\n",
       "        text-align: right;\n",
       "    }\n",
       "</style>\n",
       "<table border=\"1\" class=\"dataframe\">\n",
       "  <thead>\n",
       "    <tr style=\"text-align: right;\">\n",
       "      <th></th>\n",
       "      <th>city</th>\n",
       "      <th>latitude</th>\n",
       "      <th>longitude</th>\n",
       "      <th>weekly_temp</th>\n",
       "      <th>weekly_temp_feels_like</th>\n",
       "      <th>weekly_wind_speed</th>\n",
       "      <th>weekly_humidity</th>\n",
       "      <th>weekly_main_weather</th>\n",
       "      <th>weekly_pop</th>\n",
       "    </tr>\n",
       "  </thead>\n",
       "  <tbody>\n",
       "    <tr>\n",
       "      <th>0</th>\n",
       "      <td>Mont Saint Michel</td>\n",
       "      <td>48.636</td>\n",
       "      <td>-1.5115</td>\n",
       "      <td>[25.98, 30.05, 32.59, 27.12, 25.63, 26.98, 34.69]</td>\n",
       "      <td>[25.98, 28.87, 31.03, 26.9, 25.16, 26.53, 32.7]</td>\n",
       "      <td>[7.33, 5.55, 6.04, 7.28, 7.95, 5.48, 5.48]</td>\n",
       "      <td>[0, 0, 0, 0, 0, 0, 0]</td>\n",
       "      <td>[Clear, Clear, Clouds, Clouds, Clouds, Clouds,...</td>\n",
       "      <td>[0, 0, 0, 0, 0, 0, 0]</td>\n",
       "    </tr>\n",
       "    <tr>\n",
       "      <th>1</th>\n",
       "      <td>St Malo</td>\n",
       "      <td>48.6495</td>\n",
       "      <td>-2.026</td>\n",
       "      <td>[25.52, 25.54, 28.68, 23.13, 20.97, 23.12, 28.54]</td>\n",
       "      <td>[25.17, 25.46, 28.37, 23.07, 20.53, 22.85, 27.93]</td>\n",
       "      <td>[8.18, 8.02, 6.22, 6.96, 7.76, 5.05, 5.71]</td>\n",
       "      <td>[0, 0, 0, 0, 0, 0, 0]</td>\n",
       "      <td>[Clear, Clear, Clouds, Clouds, Clouds, Clouds,...</td>\n",
       "      <td>[0, 0, 0, 0, 0, 0, 0]</td>\n",
       "    </tr>\n",
       "    <tr>\n",
       "      <th>2</th>\n",
       "      <td>Bayeux</td>\n",
       "      <td>49.2765</td>\n",
       "      <td>-0.7025</td>\n",
       "      <td>[24.08, 27.3, 32.34, 25.25, 21.49, 25.85, 31.4]</td>\n",
       "      <td>[23.56, 27.03, 30.87, 25.06, 20.9, 25.51, 29.65]</td>\n",
       "      <td>[6.34, 6.15, 5.91, 5.2, 5.81, 5, 4.99]</td>\n",
       "      <td>[0, 0, 0, 0, 0, 0, 0]</td>\n",
       "      <td>[Clear, Clear, Clouds, Clouds, Clouds, Clouds,...</td>\n",
       "      <td>[0, 0, 0, 0, 0, 0, 0]</td>\n",
       "    </tr>\n",
       "    <tr>\n",
       "      <th>3</th>\n",
       "      <td>Le Havre</td>\n",
       "      <td>49.4939</td>\n",
       "      <td>0.108</td>\n",
       "      <td>[21.83, 24.14, 26.16, 22.41, 20.56, 21.95, 24.26]</td>\n",
       "      <td>[21.58, 24.12, 26.16, 22.4, 20.34, 21.61, 23.89]</td>\n",
       "      <td>[8.37, 7.81, 4.99, 5.94, 6.59, 5.52, 5.12]</td>\n",
       "      <td>[0, 0, 0, 0, 0, 0, 0]</td>\n",
       "      <td>[Clouds, Clear, Clouds, Clouds, Clouds, Clouds...</td>\n",
       "      <td>[0, 0, 0, 0, 0, 0, 0]</td>\n",
       "    </tr>\n",
       "    <tr>\n",
       "      <th>4</th>\n",
       "      <td>Rouen</td>\n",
       "      <td>49.4405</td>\n",
       "      <td>1.094</td>\n",
       "      <td>[25.61, 29.82, 33.05, 34.43, 26.82, 29.46, 34.65]</td>\n",
       "      <td>[25.3, 28.59, 31.23, 32.53, 26.6, 27.91, 32.23]</td>\n",
       "      <td>[5.35, 4.75, 5.19, 6.47, 6.95, 5.16, 4.76]</td>\n",
       "      <td>[0, 0, 0, 0, 0, 0, 0]</td>\n",
       "      <td>[Clear, Clear, Clouds, Clouds, Clouds, Clouds,...</td>\n",
       "      <td>[0, 0, 0, 0, 0, 0, 0]</td>\n",
       "    </tr>\n",
       "  </tbody>\n",
       "</table>\n",
       "</div>"
      ],
      "text/plain": [
       "                city latitude longitude  \\\n",
       "0  Mont Saint Michel   48.636   -1.5115   \n",
       "1            St Malo  48.6495    -2.026   \n",
       "2             Bayeux  49.2765   -0.7025   \n",
       "3           Le Havre  49.4939     0.108   \n",
       "4              Rouen  49.4405     1.094   \n",
       "\n",
       "                                         weekly_temp  \\\n",
       "0  [25.98, 30.05, 32.59, 27.12, 25.63, 26.98, 34.69]   \n",
       "1  [25.52, 25.54, 28.68, 23.13, 20.97, 23.12, 28.54]   \n",
       "2    [24.08, 27.3, 32.34, 25.25, 21.49, 25.85, 31.4]   \n",
       "3  [21.83, 24.14, 26.16, 22.41, 20.56, 21.95, 24.26]   \n",
       "4  [25.61, 29.82, 33.05, 34.43, 26.82, 29.46, 34.65]   \n",
       "\n",
       "                              weekly_temp_feels_like  \\\n",
       "0    [25.98, 28.87, 31.03, 26.9, 25.16, 26.53, 32.7]   \n",
       "1  [25.17, 25.46, 28.37, 23.07, 20.53, 22.85, 27.93]   \n",
       "2   [23.56, 27.03, 30.87, 25.06, 20.9, 25.51, 29.65]   \n",
       "3   [21.58, 24.12, 26.16, 22.4, 20.34, 21.61, 23.89]   \n",
       "4    [25.3, 28.59, 31.23, 32.53, 26.6, 27.91, 32.23]   \n",
       "\n",
       "                            weekly_wind_speed        weekly_humidity  \\\n",
       "0  [7.33, 5.55, 6.04, 7.28, 7.95, 5.48, 5.48]  [0, 0, 0, 0, 0, 0, 0]   \n",
       "1  [8.18, 8.02, 6.22, 6.96, 7.76, 5.05, 5.71]  [0, 0, 0, 0, 0, 0, 0]   \n",
       "2      [6.34, 6.15, 5.91, 5.2, 5.81, 5, 4.99]  [0, 0, 0, 0, 0, 0, 0]   \n",
       "3  [8.37, 7.81, 4.99, 5.94, 6.59, 5.52, 5.12]  [0, 0, 0, 0, 0, 0, 0]   \n",
       "4  [5.35, 4.75, 5.19, 6.47, 6.95, 5.16, 4.76]  [0, 0, 0, 0, 0, 0, 0]   \n",
       "\n",
       "                                 weekly_main_weather             weekly_pop  \n",
       "0  [Clear, Clear, Clouds, Clouds, Clouds, Clouds,...  [0, 0, 0, 0, 0, 0, 0]  \n",
       "1  [Clear, Clear, Clouds, Clouds, Clouds, Clouds,...  [0, 0, 0, 0, 0, 0, 0]  \n",
       "2  [Clear, Clear, Clouds, Clouds, Clouds, Clouds,...  [0, 0, 0, 0, 0, 0, 0]  \n",
       "3  [Clouds, Clear, Clouds, Clouds, Clouds, Clouds...  [0, 0, 0, 0, 0, 0, 0]  \n",
       "4  [Clear, Clear, Clouds, Clouds, Clouds, Clouds,...  [0, 0, 0, 0, 0, 0, 0]  "
      ]
     },
     "execution_count": 19,
     "metadata": {},
     "output_type": "execute_result"
    }
   ],
   "source": [
    "#collect weather listed informations\n",
    "for city in cities_list:\n",
    "    index=cities_list.index(city)\n",
    "    daily_weather=request_weather[index]['daily']\n",
    "    \n",
    "    list_day_temp=[daily_weather[i]['temp']['day'] for i in range(7) ]\n",
    "    list_day_temp_feels_like=[daily_weather[i]['feels_like']['day'] for i in range(7)]\n",
    "    list_day_wind_speed=[daily_weather[i]['wind_speed'] for i in range(7)]\n",
    "    list_day_humidity=[daily_weather[i]['pop'] for i in range(7)]\n",
    "    list_day_main_weather=[daily_weather[i]['weather'][0]['main'] for i in range(7)]\n",
    "    list_day_pop=[daily_weather[i]['pop'] for i in range(7)]\n",
    "\n",
    "    #put informations in the dataframe    \n",
    "    df['weekly_temp'][index]=list_day_temp\n",
    "    df['weekly_temp_feels_like'][index]=list_day_temp_feels_like\n",
    "    df['weekly_wind_speed'][index]=list_day_wind_speed\n",
    "    df['weekly_humidity'][index]=list_day_humidity\n",
    "    df['weekly_main_weather'][index]=list_day_main_weather\n",
    "    df['weekly_pop'][index]=list_day_pop\n",
    "    \n",
    "df.head()\n",
    "    "
   ]
  },
  {
   "cell_type": "code",
   "execution_count": 20,
   "metadata": {},
   "outputs": [],
   "source": [
    "#define function average\n",
    "def Average(lst):\n",
    "    return sum(lst) / len(lst)"
   ]
  },
  {
   "cell_type": "code",
   "execution_count": 21,
   "metadata": {},
   "outputs": [],
   "source": [
    "#we will take the avg weekly temp feels like because it take into acccount the temperature, the wind and the humidity\n",
    "df['avg_weekly_temp_feels_like']=[Average(temp_list) for temp_list in df['weekly_temp_feels_like']]\n"
   ]
  },
  {
   "cell_type": "code",
   "execution_count": 22,
   "metadata": {},
   "outputs": [],
   "source": [
    "# define main weather\n",
    "from statistics import mode\n",
    "df['main_weather']=[mode(weather) for weather in df['weekly_main_weather']]"
   ]
  },
  {
   "cell_type": "code",
   "execution_count": 23,
   "metadata": {},
   "outputs": [
    {
     "data": {
      "text/html": [
       "<div>\n",
       "<style scoped>\n",
       "    .dataframe tbody tr th:only-of-type {\n",
       "        vertical-align: middle;\n",
       "    }\n",
       "\n",
       "    .dataframe tbody tr th {\n",
       "        vertical-align: top;\n",
       "    }\n",
       "\n",
       "    .dataframe thead th {\n",
       "        text-align: right;\n",
       "    }\n",
       "</style>\n",
       "<table border=\"1\" class=\"dataframe\">\n",
       "  <thead>\n",
       "    <tr style=\"text-align: right;\">\n",
       "      <th></th>\n",
       "      <th>city</th>\n",
       "      <th>latitude</th>\n",
       "      <th>longitude</th>\n",
       "      <th>weekly_temp</th>\n",
       "      <th>weekly_temp_feels_like</th>\n",
       "      <th>weekly_wind_speed</th>\n",
       "      <th>weekly_humidity</th>\n",
       "      <th>weekly_main_weather</th>\n",
       "      <th>weekly_pop</th>\n",
       "      <th>avg_weekly_temp_feels_like</th>\n",
       "      <th>main_weather</th>\n",
       "    </tr>\n",
       "  </thead>\n",
       "  <tbody>\n",
       "    <tr>\n",
       "      <th>0</th>\n",
       "      <td>Mont Saint Michel</td>\n",
       "      <td>48.636</td>\n",
       "      <td>-1.5115</td>\n",
       "      <td>[25.98, 30.05, 32.59, 27.12, 25.63, 26.98, 34.69]</td>\n",
       "      <td>[25.98, 28.87, 31.03, 26.9, 25.16, 26.53, 32.7]</td>\n",
       "      <td>[7.33, 5.55, 6.04, 7.28, 7.95, 5.48, 5.48]</td>\n",
       "      <td>[0, 0, 0, 0, 0, 0, 0]</td>\n",
       "      <td>[Clear, Clear, Clouds, Clouds, Clouds, Clouds,...</td>\n",
       "      <td>[0, 0, 0, 0, 0, 0, 0]</td>\n",
       "      <td>28.167143</td>\n",
       "      <td>Clouds</td>\n",
       "    </tr>\n",
       "    <tr>\n",
       "      <th>1</th>\n",
       "      <td>St Malo</td>\n",
       "      <td>48.6495</td>\n",
       "      <td>-2.026</td>\n",
       "      <td>[25.52, 25.54, 28.68, 23.13, 20.97, 23.12, 28.54]</td>\n",
       "      <td>[25.17, 25.46, 28.37, 23.07, 20.53, 22.85, 27.93]</td>\n",
       "      <td>[8.18, 8.02, 6.22, 6.96, 7.76, 5.05, 5.71]</td>\n",
       "      <td>[0, 0, 0, 0, 0, 0, 0]</td>\n",
       "      <td>[Clear, Clear, Clouds, Clouds, Clouds, Clouds,...</td>\n",
       "      <td>[0, 0, 0, 0, 0, 0, 0]</td>\n",
       "      <td>24.768571</td>\n",
       "      <td>Clouds</td>\n",
       "    </tr>\n",
       "    <tr>\n",
       "      <th>2</th>\n",
       "      <td>Bayeux</td>\n",
       "      <td>49.2765</td>\n",
       "      <td>-0.7025</td>\n",
       "      <td>[24.08, 27.3, 32.34, 25.25, 21.49, 25.85, 31.4]</td>\n",
       "      <td>[23.56, 27.03, 30.87, 25.06, 20.9, 25.51, 29.65]</td>\n",
       "      <td>[6.34, 6.15, 5.91, 5.2, 5.81, 5, 4.99]</td>\n",
       "      <td>[0, 0, 0, 0, 0, 0, 0]</td>\n",
       "      <td>[Clear, Clear, Clouds, Clouds, Clouds, Clouds,...</td>\n",
       "      <td>[0, 0, 0, 0, 0, 0, 0]</td>\n",
       "      <td>26.082857</td>\n",
       "      <td>Clouds</td>\n",
       "    </tr>\n",
       "    <tr>\n",
       "      <th>3</th>\n",
       "      <td>Le Havre</td>\n",
       "      <td>49.4939</td>\n",
       "      <td>0.108</td>\n",
       "      <td>[21.83, 24.14, 26.16, 22.41, 20.56, 21.95, 24.26]</td>\n",
       "      <td>[21.58, 24.12, 26.16, 22.4, 20.34, 21.61, 23.89]</td>\n",
       "      <td>[8.37, 7.81, 4.99, 5.94, 6.59, 5.52, 5.12]</td>\n",
       "      <td>[0, 0, 0, 0, 0, 0, 0]</td>\n",
       "      <td>[Clouds, Clear, Clouds, Clouds, Clouds, Clouds...</td>\n",
       "      <td>[0, 0, 0, 0, 0, 0, 0]</td>\n",
       "      <td>22.871429</td>\n",
       "      <td>Clouds</td>\n",
       "    </tr>\n",
       "    <tr>\n",
       "      <th>4</th>\n",
       "      <td>Rouen</td>\n",
       "      <td>49.4405</td>\n",
       "      <td>1.094</td>\n",
       "      <td>[25.61, 29.82, 33.05, 34.43, 26.82, 29.46, 34.65]</td>\n",
       "      <td>[25.3, 28.59, 31.23, 32.53, 26.6, 27.91, 32.23]</td>\n",
       "      <td>[5.35, 4.75, 5.19, 6.47, 6.95, 5.16, 4.76]</td>\n",
       "      <td>[0, 0, 0, 0, 0, 0, 0]</td>\n",
       "      <td>[Clear, Clear, Clouds, Clouds, Clouds, Clouds,...</td>\n",
       "      <td>[0, 0, 0, 0, 0, 0, 0]</td>\n",
       "      <td>29.198571</td>\n",
       "      <td>Clouds</td>\n",
       "    </tr>\n",
       "  </tbody>\n",
       "</table>\n",
       "</div>"
      ],
      "text/plain": [
       "                city latitude longitude  \\\n",
       "0  Mont Saint Michel   48.636   -1.5115   \n",
       "1            St Malo  48.6495    -2.026   \n",
       "2             Bayeux  49.2765   -0.7025   \n",
       "3           Le Havre  49.4939     0.108   \n",
       "4              Rouen  49.4405     1.094   \n",
       "\n",
       "                                         weekly_temp  \\\n",
       "0  [25.98, 30.05, 32.59, 27.12, 25.63, 26.98, 34.69]   \n",
       "1  [25.52, 25.54, 28.68, 23.13, 20.97, 23.12, 28.54]   \n",
       "2    [24.08, 27.3, 32.34, 25.25, 21.49, 25.85, 31.4]   \n",
       "3  [21.83, 24.14, 26.16, 22.41, 20.56, 21.95, 24.26]   \n",
       "4  [25.61, 29.82, 33.05, 34.43, 26.82, 29.46, 34.65]   \n",
       "\n",
       "                              weekly_temp_feels_like  \\\n",
       "0    [25.98, 28.87, 31.03, 26.9, 25.16, 26.53, 32.7]   \n",
       "1  [25.17, 25.46, 28.37, 23.07, 20.53, 22.85, 27.93]   \n",
       "2   [23.56, 27.03, 30.87, 25.06, 20.9, 25.51, 29.65]   \n",
       "3   [21.58, 24.12, 26.16, 22.4, 20.34, 21.61, 23.89]   \n",
       "4    [25.3, 28.59, 31.23, 32.53, 26.6, 27.91, 32.23]   \n",
       "\n",
       "                            weekly_wind_speed        weekly_humidity  \\\n",
       "0  [7.33, 5.55, 6.04, 7.28, 7.95, 5.48, 5.48]  [0, 0, 0, 0, 0, 0, 0]   \n",
       "1  [8.18, 8.02, 6.22, 6.96, 7.76, 5.05, 5.71]  [0, 0, 0, 0, 0, 0, 0]   \n",
       "2      [6.34, 6.15, 5.91, 5.2, 5.81, 5, 4.99]  [0, 0, 0, 0, 0, 0, 0]   \n",
       "3  [8.37, 7.81, 4.99, 5.94, 6.59, 5.52, 5.12]  [0, 0, 0, 0, 0, 0, 0]   \n",
       "4  [5.35, 4.75, 5.19, 6.47, 6.95, 5.16, 4.76]  [0, 0, 0, 0, 0, 0, 0]   \n",
       "\n",
       "                                 weekly_main_weather             weekly_pop  \\\n",
       "0  [Clear, Clear, Clouds, Clouds, Clouds, Clouds,...  [0, 0, 0, 0, 0, 0, 0]   \n",
       "1  [Clear, Clear, Clouds, Clouds, Clouds, Clouds,...  [0, 0, 0, 0, 0, 0, 0]   \n",
       "2  [Clear, Clear, Clouds, Clouds, Clouds, Clouds,...  [0, 0, 0, 0, 0, 0, 0]   \n",
       "3  [Clouds, Clear, Clouds, Clouds, Clouds, Clouds...  [0, 0, 0, 0, 0, 0, 0]   \n",
       "4  [Clear, Clear, Clouds, Clouds, Clouds, Clouds,...  [0, 0, 0, 0, 0, 0, 0]   \n",
       "\n",
       "   avg_weekly_temp_feels_like main_weather  \n",
       "0                   28.167143       Clouds  \n",
       "1                   24.768571       Clouds  \n",
       "2                   26.082857       Clouds  \n",
       "3                   22.871429       Clouds  \n",
       "4                   29.198571       Clouds  "
      ]
     },
     "execution_count": 23,
     "metadata": {},
     "output_type": "execute_result"
    }
   ],
   "source": [
    "df.head()"
   ]
  },
  {
   "cell_type": "code",
   "execution_count": 24,
   "metadata": {},
   "outputs": [
    {
     "data": {
      "text/html": [
       "<div>\n",
       "<style scoped>\n",
       "    .dataframe tbody tr th:only-of-type {\n",
       "        vertical-align: middle;\n",
       "    }\n",
       "\n",
       "    .dataframe tbody tr th {\n",
       "        vertical-align: top;\n",
       "    }\n",
       "\n",
       "    .dataframe thead th {\n",
       "        text-align: right;\n",
       "    }\n",
       "</style>\n",
       "<table border=\"1\" class=\"dataframe\">\n",
       "  <thead>\n",
       "    <tr style=\"text-align: right;\">\n",
       "      <th></th>\n",
       "      <th>city</th>\n",
       "      <th>latitude</th>\n",
       "      <th>longitude</th>\n",
       "      <th>weekly_temp</th>\n",
       "      <th>weekly_temp_feels_like</th>\n",
       "      <th>weekly_wind_speed</th>\n",
       "      <th>weekly_humidity</th>\n",
       "      <th>weekly_main_weather</th>\n",
       "      <th>weekly_pop</th>\n",
       "      <th>avg_weekly_temp_feels_like</th>\n",
       "      <th>main_weather</th>\n",
       "    </tr>\n",
       "  </thead>\n",
       "  <tbody>\n",
       "    <tr>\n",
       "      <th>28</th>\n",
       "      <td>Carcassonne</td>\n",
       "      <td>43.213</td>\n",
       "      <td>2.3491</td>\n",
       "      <td>[32.32, 34.82, 35.93, 36.87, 38.69, 39.65, 42.38]</td>\n",
       "      <td>[31.06, 32.96, 34.42, 34.9, 36.15, 36.99, 39.37]</td>\n",
       "      <td>[4.57, 6.26, 3.17, 5.48, 5.76, 5.63, 5.51]</td>\n",
       "      <td>[0, 0, 0, 0, 0, 0, 0]</td>\n",
       "      <td>[Clear, Clear, Clear, Clear, Clouds, Clear, Cl...</td>\n",
       "      <td>[0, 0, 0, 0, 0, 0, 0]</td>\n",
       "      <td>35.121429</td>\n",
       "      <td>Clear</td>\n",
       "    </tr>\n",
       "    <tr>\n",
       "      <th>30</th>\n",
       "      <td>Toulouse</td>\n",
       "      <td>43.6045</td>\n",
       "      <td>1.4442</td>\n",
       "      <td>[29.97, 35.54, 36.43, 39.93, 37.97, 38.87, 41.59]</td>\n",
       "      <td>[28.88, 33.53, 34.7, 37.1, 35.53, 36.34, 38.57]</td>\n",
       "      <td>[3.59, 3.78, 4.54, 4.6, 5.19, 4.85, 4.81]</td>\n",
       "      <td>[0, 0, 0, 0, 0, 0, 0]</td>\n",
       "      <td>[Clear, Clear, Clear, Clouds, Clouds, Clouds, ...</td>\n",
       "      <td>[0, 0, 0, 0, 0, 0, 0]</td>\n",
       "      <td>34.950000</td>\n",
       "      <td>Clouds</td>\n",
       "    </tr>\n",
       "    <tr>\n",
       "      <th>31</th>\n",
       "      <td>Montauban</td>\n",
       "      <td>44.0176</td>\n",
       "      <td>1.355</td>\n",
       "      <td>[30.28, 34.94, 36.45, 39.59, 37.78, 39.15, 41.66]</td>\n",
       "      <td>[28.54, 33.23, 35.07, 36.93, 35.47, 36.47, 38.89]</td>\n",
       "      <td>[4.11, 3.86, 3.64, 4.48, 5.37, 5.27, 4.56]</td>\n",
       "      <td>[0, 0, 0, 0, 0, 0, 0]</td>\n",
       "      <td>[Clear, Clear, Clear, Clouds, Clouds, Clouds, ...</td>\n",
       "      <td>[0, 0, 0, 0, 0, 0, 0]</td>\n",
       "      <td>34.942857</td>\n",
       "      <td>Clouds</td>\n",
       "    </tr>\n",
       "    <tr>\n",
       "      <th>22</th>\n",
       "      <td>Avignon</td>\n",
       "      <td>43.9492</td>\n",
       "      <td>4.8059</td>\n",
       "      <td>[31.48, 33.26, 35.03, 37.39, 38.11, 38.54, 38.02]</td>\n",
       "      <td>[30.46, 31.78, 32.86, 35.05, 36.38, 35.99, 35.59]</td>\n",
       "      <td>[9.82, 8.58, 6.33, 7.4, 7.7, 9.09, 8.51]</td>\n",
       "      <td>[0, 0, 0, 0, 0, 0, 0]</td>\n",
       "      <td>[Clear, Clear, Clouds, Clouds, Clear, Clouds, ...</td>\n",
       "      <td>[0, 0, 0, 0, 0, 0, 0]</td>\n",
       "      <td>34.015714</td>\n",
       "      <td>Clouds</td>\n",
       "    </tr>\n",
       "    <tr>\n",
       "      <th>24</th>\n",
       "      <td>Nimes</td>\n",
       "      <td>43.8374</td>\n",
       "      <td>4.3601</td>\n",
       "      <td>[31.97, 32.75, 35.03, 36.87, 36.64, 39.38, 38.55]</td>\n",
       "      <td>[30.29, 30.92, 33.08, 34.76, 35.31, 36.71, 35.85]</td>\n",
       "      <td>[9.37, 6.3, 4.7, 6.62, 6.43, 5.87, 7.21]</td>\n",
       "      <td>[0, 0, 0, 0, 0, 0, 0]</td>\n",
       "      <td>[Clear, Clear, Clear, Clouds, Clouds, Clouds, ...</td>\n",
       "      <td>[0, 0, 0, 0, 0, 0, 0]</td>\n",
       "      <td>33.845714</td>\n",
       "      <td>Clouds</td>\n",
       "    </tr>\n",
       "  </tbody>\n",
       "</table>\n",
       "</div>"
      ],
      "text/plain": [
       "           city latitude longitude  \\\n",
       "28  Carcassonne   43.213    2.3491   \n",
       "30     Toulouse  43.6045    1.4442   \n",
       "31    Montauban  44.0176     1.355   \n",
       "22      Avignon  43.9492    4.8059   \n",
       "24        Nimes  43.8374    4.3601   \n",
       "\n",
       "                                          weekly_temp  \\\n",
       "28  [32.32, 34.82, 35.93, 36.87, 38.69, 39.65, 42.38]   \n",
       "30  [29.97, 35.54, 36.43, 39.93, 37.97, 38.87, 41.59]   \n",
       "31  [30.28, 34.94, 36.45, 39.59, 37.78, 39.15, 41.66]   \n",
       "22  [31.48, 33.26, 35.03, 37.39, 38.11, 38.54, 38.02]   \n",
       "24  [31.97, 32.75, 35.03, 36.87, 36.64, 39.38, 38.55]   \n",
       "\n",
       "                               weekly_temp_feels_like  \\\n",
       "28   [31.06, 32.96, 34.42, 34.9, 36.15, 36.99, 39.37]   \n",
       "30    [28.88, 33.53, 34.7, 37.1, 35.53, 36.34, 38.57]   \n",
       "31  [28.54, 33.23, 35.07, 36.93, 35.47, 36.47, 38.89]   \n",
       "22  [30.46, 31.78, 32.86, 35.05, 36.38, 35.99, 35.59]   \n",
       "24  [30.29, 30.92, 33.08, 34.76, 35.31, 36.71, 35.85]   \n",
       "\n",
       "                             weekly_wind_speed        weekly_humidity  \\\n",
       "28  [4.57, 6.26, 3.17, 5.48, 5.76, 5.63, 5.51]  [0, 0, 0, 0, 0, 0, 0]   \n",
       "30   [3.59, 3.78, 4.54, 4.6, 5.19, 4.85, 4.81]  [0, 0, 0, 0, 0, 0, 0]   \n",
       "31  [4.11, 3.86, 3.64, 4.48, 5.37, 5.27, 4.56]  [0, 0, 0, 0, 0, 0, 0]   \n",
       "22    [9.82, 8.58, 6.33, 7.4, 7.7, 9.09, 8.51]  [0, 0, 0, 0, 0, 0, 0]   \n",
       "24    [9.37, 6.3, 4.7, 6.62, 6.43, 5.87, 7.21]  [0, 0, 0, 0, 0, 0, 0]   \n",
       "\n",
       "                                  weekly_main_weather             weekly_pop  \\\n",
       "28  [Clear, Clear, Clear, Clear, Clouds, Clear, Cl...  [0, 0, 0, 0, 0, 0, 0]   \n",
       "30  [Clear, Clear, Clear, Clouds, Clouds, Clouds, ...  [0, 0, 0, 0, 0, 0, 0]   \n",
       "31  [Clear, Clear, Clear, Clouds, Clouds, Clouds, ...  [0, 0, 0, 0, 0, 0, 0]   \n",
       "22  [Clear, Clear, Clouds, Clouds, Clear, Clouds, ...  [0, 0, 0, 0, 0, 0, 0]   \n",
       "24  [Clear, Clear, Clear, Clouds, Clouds, Clouds, ...  [0, 0, 0, 0, 0, 0, 0]   \n",
       "\n",
       "    avg_weekly_temp_feels_like main_weather  \n",
       "28                   35.121429        Clear  \n",
       "30                   34.950000       Clouds  \n",
       "31                   34.942857       Clouds  \n",
       "22                   34.015714       Clouds  \n",
       "24                   33.845714       Clouds  "
      ]
     },
     "execution_count": 24,
     "metadata": {},
     "output_type": "execute_result"
    }
   ],
   "source": [
    "#sort values by avg_weekly_temp_feels_like\n",
    "df.sort_values(by='avg_weekly_temp_feels_like', ascending=False, inplace=True)\n",
    "df.head()"
   ]
  },
  {
   "cell_type": "code",
   "execution_count": 25,
   "metadata": {},
   "outputs": [
    {
     "data": {
      "text/html": [
       "<div>\n",
       "<style scoped>\n",
       "    .dataframe tbody tr th:only-of-type {\n",
       "        vertical-align: middle;\n",
       "    }\n",
       "\n",
       "    .dataframe tbody tr th {\n",
       "        vertical-align: top;\n",
       "    }\n",
       "\n",
       "    .dataframe thead th {\n",
       "        text-align: right;\n",
       "    }\n",
       "</style>\n",
       "<table border=\"1\" class=\"dataframe\">\n",
       "  <thead>\n",
       "    <tr style=\"text-align: right;\">\n",
       "      <th></th>\n",
       "      <th>city</th>\n",
       "      <th>latitude</th>\n",
       "      <th>longitude</th>\n",
       "      <th>weekly_temp</th>\n",
       "      <th>weekly_temp_feels_like</th>\n",
       "      <th>weekly_wind_speed</th>\n",
       "      <th>weekly_humidity</th>\n",
       "      <th>weekly_main_weather</th>\n",
       "      <th>weekly_pop</th>\n",
       "      <th>avg_weekly_temp_feels_like</th>\n",
       "      <th>main_weather</th>\n",
       "      <th>main_weather_score</th>\n",
       "    </tr>\n",
       "  </thead>\n",
       "  <tbody>\n",
       "    <tr>\n",
       "      <th>28</th>\n",
       "      <td>Carcassonne</td>\n",
       "      <td>43.213</td>\n",
       "      <td>2.3491</td>\n",
       "      <td>[32.32, 34.82, 35.93, 36.87, 38.69, 39.65, 42.38]</td>\n",
       "      <td>[31.06, 32.96, 34.42, 34.9, 36.15, 36.99, 39.37]</td>\n",
       "      <td>[4.57, 6.26, 3.17, 5.48, 5.76, 5.63, 5.51]</td>\n",
       "      <td>[0, 0, 0, 0, 0, 0, 0]</td>\n",
       "      <td>[Clear, Clear, Clear, Clear, Clouds, Clear, Cl...</td>\n",
       "      <td>[0, 0, 0, 0, 0, 0, 0]</td>\n",
       "      <td>35.121429</td>\n",
       "      <td>Clear</td>\n",
       "      <td>1</td>\n",
       "    </tr>\n",
       "    <tr>\n",
       "      <th>30</th>\n",
       "      <td>Toulouse</td>\n",
       "      <td>43.6045</td>\n",
       "      <td>1.4442</td>\n",
       "      <td>[29.97, 35.54, 36.43, 39.93, 37.97, 38.87, 41.59]</td>\n",
       "      <td>[28.88, 33.53, 34.7, 37.1, 35.53, 36.34, 38.57]</td>\n",
       "      <td>[3.59, 3.78, 4.54, 4.6, 5.19, 4.85, 4.81]</td>\n",
       "      <td>[0, 0, 0, 0, 0, 0, 0]</td>\n",
       "      <td>[Clear, Clear, Clear, Clouds, Clouds, Clouds, ...</td>\n",
       "      <td>[0, 0, 0, 0, 0, 0, 0]</td>\n",
       "      <td>34.950000</td>\n",
       "      <td>Clouds</td>\n",
       "      <td>6</td>\n",
       "    </tr>\n",
       "    <tr>\n",
       "      <th>31</th>\n",
       "      <td>Montauban</td>\n",
       "      <td>44.0176</td>\n",
       "      <td>1.355</td>\n",
       "      <td>[30.28, 34.94, 36.45, 39.59, 37.78, 39.15, 41.66]</td>\n",
       "      <td>[28.54, 33.23, 35.07, 36.93, 35.47, 36.47, 38.89]</td>\n",
       "      <td>[4.11, 3.86, 3.64, 4.48, 5.37, 5.27, 4.56]</td>\n",
       "      <td>[0, 0, 0, 0, 0, 0, 0]</td>\n",
       "      <td>[Clear, Clear, Clear, Clouds, Clouds, Clouds, ...</td>\n",
       "      <td>[0, 0, 0, 0, 0, 0, 0]</td>\n",
       "      <td>34.942857</td>\n",
       "      <td>Clouds</td>\n",
       "      <td>6</td>\n",
       "    </tr>\n",
       "    <tr>\n",
       "      <th>22</th>\n",
       "      <td>Avignon</td>\n",
       "      <td>43.9492</td>\n",
       "      <td>4.8059</td>\n",
       "      <td>[31.48, 33.26, 35.03, 37.39, 38.11, 38.54, 38.02]</td>\n",
       "      <td>[30.46, 31.78, 32.86, 35.05, 36.38, 35.99, 35.59]</td>\n",
       "      <td>[9.82, 8.58, 6.33, 7.4, 7.7, 9.09, 8.51]</td>\n",
       "      <td>[0, 0, 0, 0, 0, 0, 0]</td>\n",
       "      <td>[Clear, Clear, Clouds, Clouds, Clear, Clouds, ...</td>\n",
       "      <td>[0, 0, 0, 0, 0, 0, 0]</td>\n",
       "      <td>34.015714</td>\n",
       "      <td>Clouds</td>\n",
       "      <td>6</td>\n",
       "    </tr>\n",
       "    <tr>\n",
       "      <th>24</th>\n",
       "      <td>Nimes</td>\n",
       "      <td>43.8374</td>\n",
       "      <td>4.3601</td>\n",
       "      <td>[31.97, 32.75, 35.03, 36.87, 36.64, 39.38, 38.55]</td>\n",
       "      <td>[30.29, 30.92, 33.08, 34.76, 35.31, 36.71, 35.85]</td>\n",
       "      <td>[9.37, 6.3, 4.7, 6.62, 6.43, 5.87, 7.21]</td>\n",
       "      <td>[0, 0, 0, 0, 0, 0, 0]</td>\n",
       "      <td>[Clear, Clear, Clear, Clouds, Clouds, Clouds, ...</td>\n",
       "      <td>[0, 0, 0, 0, 0, 0, 0]</td>\n",
       "      <td>33.845714</td>\n",
       "      <td>Clouds</td>\n",
       "      <td>6</td>\n",
       "    </tr>\n",
       "  </tbody>\n",
       "</table>\n",
       "</div>"
      ],
      "text/plain": [
       "           city latitude longitude  \\\n",
       "28  Carcassonne   43.213    2.3491   \n",
       "30     Toulouse  43.6045    1.4442   \n",
       "31    Montauban  44.0176     1.355   \n",
       "22      Avignon  43.9492    4.8059   \n",
       "24        Nimes  43.8374    4.3601   \n",
       "\n",
       "                                          weekly_temp  \\\n",
       "28  [32.32, 34.82, 35.93, 36.87, 38.69, 39.65, 42.38]   \n",
       "30  [29.97, 35.54, 36.43, 39.93, 37.97, 38.87, 41.59]   \n",
       "31  [30.28, 34.94, 36.45, 39.59, 37.78, 39.15, 41.66]   \n",
       "22  [31.48, 33.26, 35.03, 37.39, 38.11, 38.54, 38.02]   \n",
       "24  [31.97, 32.75, 35.03, 36.87, 36.64, 39.38, 38.55]   \n",
       "\n",
       "                               weekly_temp_feels_like  \\\n",
       "28   [31.06, 32.96, 34.42, 34.9, 36.15, 36.99, 39.37]   \n",
       "30    [28.88, 33.53, 34.7, 37.1, 35.53, 36.34, 38.57]   \n",
       "31  [28.54, 33.23, 35.07, 36.93, 35.47, 36.47, 38.89]   \n",
       "22  [30.46, 31.78, 32.86, 35.05, 36.38, 35.99, 35.59]   \n",
       "24  [30.29, 30.92, 33.08, 34.76, 35.31, 36.71, 35.85]   \n",
       "\n",
       "                             weekly_wind_speed        weekly_humidity  \\\n",
       "28  [4.57, 6.26, 3.17, 5.48, 5.76, 5.63, 5.51]  [0, 0, 0, 0, 0, 0, 0]   \n",
       "30   [3.59, 3.78, 4.54, 4.6, 5.19, 4.85, 4.81]  [0, 0, 0, 0, 0, 0, 0]   \n",
       "31  [4.11, 3.86, 3.64, 4.48, 5.37, 5.27, 4.56]  [0, 0, 0, 0, 0, 0, 0]   \n",
       "22    [9.82, 8.58, 6.33, 7.4, 7.7, 9.09, 8.51]  [0, 0, 0, 0, 0, 0, 0]   \n",
       "24    [9.37, 6.3, 4.7, 6.62, 6.43, 5.87, 7.21]  [0, 0, 0, 0, 0, 0, 0]   \n",
       "\n",
       "                                  weekly_main_weather             weekly_pop  \\\n",
       "28  [Clear, Clear, Clear, Clear, Clouds, Clear, Cl...  [0, 0, 0, 0, 0, 0, 0]   \n",
       "30  [Clear, Clear, Clear, Clouds, Clouds, Clouds, ...  [0, 0, 0, 0, 0, 0, 0]   \n",
       "31  [Clear, Clear, Clear, Clouds, Clouds, Clouds, ...  [0, 0, 0, 0, 0, 0, 0]   \n",
       "22  [Clear, Clear, Clouds, Clouds, Clear, Clouds, ...  [0, 0, 0, 0, 0, 0, 0]   \n",
       "24  [Clear, Clear, Clear, Clouds, Clouds, Clouds, ...  [0, 0, 0, 0, 0, 0, 0]   \n",
       "\n",
       "    avg_weekly_temp_feels_like main_weather  main_weather_score  \n",
       "28                   35.121429        Clear                   1  \n",
       "30                   34.950000       Clouds                   6  \n",
       "31                   34.942857       Clouds                   6  \n",
       "22                   34.015714       Clouds                   6  \n",
       "24                   33.845714       Clouds                   6  "
      ]
     },
     "execution_count": 25,
     "metadata": {},
     "output_type": "execute_result"
    }
   ],
   "source": [
    "#Make a score for the main weather\n",
    "df['main_weather_score']=[1 if x==\"Clear\" else 2 if x==\"Mist\" else 3 if x==\"Drizzle\" else 4 if x==\"Rain\" else 5 if x==\"Snow\" else 6 for x in df.main_weather]\n",
    "df.head()"
   ]
  },
  {
   "cell_type": "code",
   "execution_count": 26,
   "metadata": {},
   "outputs": [
    {
     "data": {
      "text/html": [
       "<div>\n",
       "<style scoped>\n",
       "    .dataframe tbody tr th:only-of-type {\n",
       "        vertical-align: middle;\n",
       "    }\n",
       "\n",
       "    .dataframe tbody tr th {\n",
       "        vertical-align: top;\n",
       "    }\n",
       "\n",
       "    .dataframe thead th {\n",
       "        text-align: right;\n",
       "    }\n",
       "</style>\n",
       "<table border=\"1\" class=\"dataframe\">\n",
       "  <thead>\n",
       "    <tr style=\"text-align: right;\">\n",
       "      <th></th>\n",
       "      <th>city</th>\n",
       "      <th>latitude</th>\n",
       "      <th>longitude</th>\n",
       "      <th>weekly_temp</th>\n",
       "      <th>weekly_temp_feels_like</th>\n",
       "      <th>weekly_wind_speed</th>\n",
       "      <th>weekly_humidity</th>\n",
       "      <th>weekly_main_weather</th>\n",
       "      <th>weekly_pop</th>\n",
       "      <th>avg_weekly_temp_feels_like</th>\n",
       "      <th>main_weather</th>\n",
       "      <th>main_weather_score</th>\n",
       "      <th>best_temp_diff</th>\n",
       "    </tr>\n",
       "  </thead>\n",
       "  <tbody>\n",
       "    <tr>\n",
       "      <th>28</th>\n",
       "      <td>Carcassonne</td>\n",
       "      <td>43.213</td>\n",
       "      <td>2.3491</td>\n",
       "      <td>[32.32, 34.82, 35.93, 36.87, 38.69, 39.65, 42.38]</td>\n",
       "      <td>[31.06, 32.96, 34.42, 34.9, 36.15, 36.99, 39.37]</td>\n",
       "      <td>[4.57, 6.26, 3.17, 5.48, 5.76, 5.63, 5.51]</td>\n",
       "      <td>[0, 0, 0, 0, 0, 0, 0]</td>\n",
       "      <td>[Clear, Clear, Clear, Clear, Clouds, Clear, Cl...</td>\n",
       "      <td>[0, 0, 0, 0, 0, 0, 0]</td>\n",
       "      <td>35.121429</td>\n",
       "      <td>Clear</td>\n",
       "      <td>1</td>\n",
       "      <td>8.121429</td>\n",
       "    </tr>\n",
       "    <tr>\n",
       "      <th>30</th>\n",
       "      <td>Toulouse</td>\n",
       "      <td>43.6045</td>\n",
       "      <td>1.4442</td>\n",
       "      <td>[29.97, 35.54, 36.43, 39.93, 37.97, 38.87, 41.59]</td>\n",
       "      <td>[28.88, 33.53, 34.7, 37.1, 35.53, 36.34, 38.57]</td>\n",
       "      <td>[3.59, 3.78, 4.54, 4.6, 5.19, 4.85, 4.81]</td>\n",
       "      <td>[0, 0, 0, 0, 0, 0, 0]</td>\n",
       "      <td>[Clear, Clear, Clear, Clouds, Clouds, Clouds, ...</td>\n",
       "      <td>[0, 0, 0, 0, 0, 0, 0]</td>\n",
       "      <td>34.950000</td>\n",
       "      <td>Clouds</td>\n",
       "      <td>6</td>\n",
       "      <td>7.950000</td>\n",
       "    </tr>\n",
       "    <tr>\n",
       "      <th>31</th>\n",
       "      <td>Montauban</td>\n",
       "      <td>44.0176</td>\n",
       "      <td>1.355</td>\n",
       "      <td>[30.28, 34.94, 36.45, 39.59, 37.78, 39.15, 41.66]</td>\n",
       "      <td>[28.54, 33.23, 35.07, 36.93, 35.47, 36.47, 38.89]</td>\n",
       "      <td>[4.11, 3.86, 3.64, 4.48, 5.37, 5.27, 4.56]</td>\n",
       "      <td>[0, 0, 0, 0, 0, 0, 0]</td>\n",
       "      <td>[Clear, Clear, Clear, Clouds, Clouds, Clouds, ...</td>\n",
       "      <td>[0, 0, 0, 0, 0, 0, 0]</td>\n",
       "      <td>34.942857</td>\n",
       "      <td>Clouds</td>\n",
       "      <td>6</td>\n",
       "      <td>7.942857</td>\n",
       "    </tr>\n",
       "    <tr>\n",
       "      <th>22</th>\n",
       "      <td>Avignon</td>\n",
       "      <td>43.9492</td>\n",
       "      <td>4.8059</td>\n",
       "      <td>[31.48, 33.26, 35.03, 37.39, 38.11, 38.54, 38.02]</td>\n",
       "      <td>[30.46, 31.78, 32.86, 35.05, 36.38, 35.99, 35.59]</td>\n",
       "      <td>[9.82, 8.58, 6.33, 7.4, 7.7, 9.09, 8.51]</td>\n",
       "      <td>[0, 0, 0, 0, 0, 0, 0]</td>\n",
       "      <td>[Clear, Clear, Clouds, Clouds, Clear, Clouds, ...</td>\n",
       "      <td>[0, 0, 0, 0, 0, 0, 0]</td>\n",
       "      <td>34.015714</td>\n",
       "      <td>Clouds</td>\n",
       "      <td>6</td>\n",
       "      <td>7.015714</td>\n",
       "    </tr>\n",
       "    <tr>\n",
       "      <th>24</th>\n",
       "      <td>Nimes</td>\n",
       "      <td>43.8374</td>\n",
       "      <td>4.3601</td>\n",
       "      <td>[31.97, 32.75, 35.03, 36.87, 36.64, 39.38, 38.55]</td>\n",
       "      <td>[30.29, 30.92, 33.08, 34.76, 35.31, 36.71, 35.85]</td>\n",
       "      <td>[9.37, 6.3, 4.7, 6.62, 6.43, 5.87, 7.21]</td>\n",
       "      <td>[0, 0, 0, 0, 0, 0, 0]</td>\n",
       "      <td>[Clear, Clear, Clear, Clouds, Clouds, Clouds, ...</td>\n",
       "      <td>[0, 0, 0, 0, 0, 0, 0]</td>\n",
       "      <td>33.845714</td>\n",
       "      <td>Clouds</td>\n",
       "      <td>6</td>\n",
       "      <td>6.845714</td>\n",
       "    </tr>\n",
       "  </tbody>\n",
       "</table>\n",
       "</div>"
      ],
      "text/plain": [
       "           city latitude longitude  \\\n",
       "28  Carcassonne   43.213    2.3491   \n",
       "30     Toulouse  43.6045    1.4442   \n",
       "31    Montauban  44.0176     1.355   \n",
       "22      Avignon  43.9492    4.8059   \n",
       "24        Nimes  43.8374    4.3601   \n",
       "\n",
       "                                          weekly_temp  \\\n",
       "28  [32.32, 34.82, 35.93, 36.87, 38.69, 39.65, 42.38]   \n",
       "30  [29.97, 35.54, 36.43, 39.93, 37.97, 38.87, 41.59]   \n",
       "31  [30.28, 34.94, 36.45, 39.59, 37.78, 39.15, 41.66]   \n",
       "22  [31.48, 33.26, 35.03, 37.39, 38.11, 38.54, 38.02]   \n",
       "24  [31.97, 32.75, 35.03, 36.87, 36.64, 39.38, 38.55]   \n",
       "\n",
       "                               weekly_temp_feels_like  \\\n",
       "28   [31.06, 32.96, 34.42, 34.9, 36.15, 36.99, 39.37]   \n",
       "30    [28.88, 33.53, 34.7, 37.1, 35.53, 36.34, 38.57]   \n",
       "31  [28.54, 33.23, 35.07, 36.93, 35.47, 36.47, 38.89]   \n",
       "22  [30.46, 31.78, 32.86, 35.05, 36.38, 35.99, 35.59]   \n",
       "24  [30.29, 30.92, 33.08, 34.76, 35.31, 36.71, 35.85]   \n",
       "\n",
       "                             weekly_wind_speed        weekly_humidity  \\\n",
       "28  [4.57, 6.26, 3.17, 5.48, 5.76, 5.63, 5.51]  [0, 0, 0, 0, 0, 0, 0]   \n",
       "30   [3.59, 3.78, 4.54, 4.6, 5.19, 4.85, 4.81]  [0, 0, 0, 0, 0, 0, 0]   \n",
       "31  [4.11, 3.86, 3.64, 4.48, 5.37, 5.27, 4.56]  [0, 0, 0, 0, 0, 0, 0]   \n",
       "22    [9.82, 8.58, 6.33, 7.4, 7.7, 9.09, 8.51]  [0, 0, 0, 0, 0, 0, 0]   \n",
       "24    [9.37, 6.3, 4.7, 6.62, 6.43, 5.87, 7.21]  [0, 0, 0, 0, 0, 0, 0]   \n",
       "\n",
       "                                  weekly_main_weather             weekly_pop  \\\n",
       "28  [Clear, Clear, Clear, Clear, Clouds, Clear, Cl...  [0, 0, 0, 0, 0, 0, 0]   \n",
       "30  [Clear, Clear, Clear, Clouds, Clouds, Clouds, ...  [0, 0, 0, 0, 0, 0, 0]   \n",
       "31  [Clear, Clear, Clear, Clouds, Clouds, Clouds, ...  [0, 0, 0, 0, 0, 0, 0]   \n",
       "22  [Clear, Clear, Clouds, Clouds, Clear, Clouds, ...  [0, 0, 0, 0, 0, 0, 0]   \n",
       "24  [Clear, Clear, Clear, Clouds, Clouds, Clouds, ...  [0, 0, 0, 0, 0, 0, 0]   \n",
       "\n",
       "    avg_weekly_temp_feels_like main_weather  main_weather_score  \\\n",
       "28                   35.121429        Clear                   1   \n",
       "30                   34.950000       Clouds                   6   \n",
       "31                   34.942857       Clouds                   6   \n",
       "22                   34.015714       Clouds                   6   \n",
       "24                   33.845714       Clouds                   6   \n",
       "\n",
       "    best_temp_diff  \n",
       "28        8.121429  \n",
       "30        7.950000  \n",
       "31        7.942857  \n",
       "22        7.015714  \n",
       "24        6.845714  "
      ]
     },
     "execution_count": 26,
     "metadata": {},
     "output_type": "execute_result"
    }
   ],
   "source": [
    "# we will take the 27°C as best feels like temp to travel (because it's summer) \n",
    "#let's calculate the difference between the weekly temp feels like and the best temperature to travel\n",
    "df['best_temp_diff']=[abs(27-x) for x in df.avg_weekly_temp_feels_like]\n",
    "df.head()"
   ]
  },
  {
   "cell_type": "code",
   "execution_count": 27,
   "metadata": {},
   "outputs": [
    {
     "data": {
      "text/html": [
       "<div>\n",
       "<style scoped>\n",
       "    .dataframe tbody tr th:only-of-type {\n",
       "        vertical-align: middle;\n",
       "    }\n",
       "\n",
       "    .dataframe tbody tr th {\n",
       "        vertical-align: top;\n",
       "    }\n",
       "\n",
       "    .dataframe thead th {\n",
       "        text-align: right;\n",
       "    }\n",
       "</style>\n",
       "<table border=\"1\" class=\"dataframe\">\n",
       "  <thead>\n",
       "    <tr style=\"text-align: right;\">\n",
       "      <th></th>\n",
       "      <th>city</th>\n",
       "      <th>latitude</th>\n",
       "      <th>longitude</th>\n",
       "      <th>weekly_temp</th>\n",
       "      <th>weekly_temp_feels_like</th>\n",
       "      <th>weekly_wind_speed</th>\n",
       "      <th>weekly_humidity</th>\n",
       "      <th>weekly_main_weather</th>\n",
       "      <th>weekly_pop</th>\n",
       "      <th>avg_weekly_temp_feels_like</th>\n",
       "      <th>main_weather</th>\n",
       "      <th>main_weather_score</th>\n",
       "      <th>best_temp_diff</th>\n",
       "      <th>Rank</th>\n",
       "    </tr>\n",
       "  </thead>\n",
       "  <tbody>\n",
       "    <tr>\n",
       "      <th>11</th>\n",
       "      <td>Eguisheim</td>\n",
       "      <td>48.0448</td>\n",
       "      <td>7.308</td>\n",
       "      <td>[22.21, 24.14, 25.68, 31.35, 33.91, 28.53, 29.91]</td>\n",
       "      <td>[21.77, 23.81, 25.37, 29.91, 32.17, 27.79, 28.6]</td>\n",
       "      <td>[5.18, 4.87, 2.46, 2, 3.04, 2.68, 2.24]</td>\n",
       "      <td>[0, 0, 0, 0, 0.02, 0, 0]</td>\n",
       "      <td>[Clear, Clouds, Clouds, Clouds, Clouds, Clear,...</td>\n",
       "      <td>[0, 0, 0, 0, 0.02, 0, 0]</td>\n",
       "      <td>27.060000</td>\n",
       "      <td>Clouds</td>\n",
       "      <td>6</td>\n",
       "      <td>0.060000</td>\n",
       "      <td>1</td>\n",
       "    </tr>\n",
       "    <tr>\n",
       "      <th>10</th>\n",
       "      <td>Colmar</td>\n",
       "      <td>48.0778</td>\n",
       "      <td>7.358</td>\n",
       "      <td>[22.31, 24.32, 25.78, 31.38, 33.67, 28.61, 30.1]</td>\n",
       "      <td>[21.88, 23.98, 25.48, 29.86, 32.02, 27.79, 28.64]</td>\n",
       "      <td>[5.35, 5.04, 2.48, 2.05, 3.09, 2.89, 2.39]</td>\n",
       "      <td>[0, 0, 0, 0, 0.03, 0, 0]</td>\n",
       "      <td>[Clear, Clouds, Clouds, Clouds, Clouds, Clear,...</td>\n",
       "      <td>[0, 0, 0, 0, 0.03, 0, 0]</td>\n",
       "      <td>27.092857</td>\n",
       "      <td>Clouds</td>\n",
       "      <td>6</td>\n",
       "      <td>0.092857</td>\n",
       "      <td>2</td>\n",
       "    </tr>\n",
       "    <tr>\n",
       "      <th>8</th>\n",
       "      <td>Strasbourg</td>\n",
       "      <td>48.5846</td>\n",
       "      <td>7.7507</td>\n",
       "      <td>[21.26, 24.92, 26.64, 32.13, 33.65, 28.4, 30.85]</td>\n",
       "      <td>[20.72, 24.59, 26.64, 30.29, 31.99, 27.39, 28.99]</td>\n",
       "      <td>[5.23, 5.68, 2.87, 2.78, 5.03, 4.36, 2.83]</td>\n",
       "      <td>[0, 0, 0, 0, 0, 0, 0]</td>\n",
       "      <td>[Clouds, Clouds, Clouds, Clouds, Clouds, Cloud...</td>\n",
       "      <td>[0, 0, 0, 0, 0, 0, 0]</td>\n",
       "      <td>27.230000</td>\n",
       "      <td>Clouds</td>\n",
       "      <td>6</td>\n",
       "      <td>0.230000</td>\n",
       "      <td>3</td>\n",
       "    </tr>\n",
       "    <tr>\n",
       "      <th>12</th>\n",
       "      <td>Besancon</td>\n",
       "      <td>47.238</td>\n",
       "      <td>6.0244</td>\n",
       "      <td>[24.15, 25.19, 27.22, 31.65, 32.65, 29.82, 31.2]</td>\n",
       "      <td>[23.35, 24.78, 26.6, 29.76, 31.1, 28.46, 29.6]</td>\n",
       "      <td>[5.22, 5.63, 4.39, 2.3, 3.97, 2.61, 2.77]</td>\n",
       "      <td>[0, 0, 0, 0, 0, 0, 0]</td>\n",
       "      <td>[Clear, Clear, Clouds, Clouds, Clouds, Clouds,...</td>\n",
       "      <td>[0, 0, 0, 0, 0, 0, 0]</td>\n",
       "      <td>27.664286</td>\n",
       "      <td>Clouds</td>\n",
       "      <td>6</td>\n",
       "      <td>0.664286</td>\n",
       "      <td>4</td>\n",
       "    </tr>\n",
       "    <tr>\n",
       "      <th>6</th>\n",
       "      <td>Amiens</td>\n",
       "      <td>49.8942</td>\n",
       "      <td>2.2957</td>\n",
       "      <td>[23.47, 26.42, 29.68, 33.16, 28.55, 26.49, 32.73]</td>\n",
       "      <td>[23, 26.42, 28.68, 31.45, 27.56, 26.49, 30.61]</td>\n",
       "      <td>[4.16, 3.81, 3.22, 6.16, 6.68, 2.53, 4.91]</td>\n",
       "      <td>[0, 0, 0, 0, 0, 0, 0]</td>\n",
       "      <td>[Clear, Clear, Clouds, Clouds, Clouds, Clouds,...</td>\n",
       "      <td>[0, 0, 0, 0, 0, 0, 0]</td>\n",
       "      <td>27.744286</td>\n",
       "      <td>Clouds</td>\n",
       "      <td>6</td>\n",
       "      <td>0.744286</td>\n",
       "      <td>5</td>\n",
       "    </tr>\n",
       "    <tr>\n",
       "      <th>2</th>\n",
       "      <td>Bayeux</td>\n",
       "      <td>49.2765</td>\n",
       "      <td>-0.7025</td>\n",
       "      <td>[24.08, 27.3, 32.34, 25.25, 21.49, 25.85, 31.4]</td>\n",
       "      <td>[23.56, 27.03, 30.87, 25.06, 20.9, 25.51, 29.65]</td>\n",
       "      <td>[6.34, 6.15, 5.91, 5.2, 5.81, 5, 4.99]</td>\n",
       "      <td>[0, 0, 0, 0, 0, 0, 0]</td>\n",
       "      <td>[Clear, Clear, Clouds, Clouds, Clouds, Clouds,...</td>\n",
       "      <td>[0, 0, 0, 0, 0, 0, 0]</td>\n",
       "      <td>26.082857</td>\n",
       "      <td>Clouds</td>\n",
       "      <td>6</td>\n",
       "      <td>0.917143</td>\n",
       "      <td>6</td>\n",
       "    </tr>\n",
       "    <tr>\n",
       "      <th>7</th>\n",
       "      <td>Lille</td>\n",
       "      <td>50.6366</td>\n",
       "      <td>3.0635</td>\n",
       "      <td>[23.95, 25.92, 28.37, 28.18, 25.76, 24.23, 30.62]</td>\n",
       "      <td>[23.6, 25.56, 27.65, 27.62, 25.49, 23.6, 28.83]</td>\n",
       "      <td>[4.68, 4.06, 2.89, 4.57, 6.36, 3.26, 3.83]</td>\n",
       "      <td>[0, 0, 0, 0, 0, 0, 0]</td>\n",
       "      <td>[Clouds, Clear, Clouds, Clouds, Clouds, Clouds...</td>\n",
       "      <td>[0, 0, 0, 0, 0, 0, 0]</td>\n",
       "      <td>26.050000</td>\n",
       "      <td>Clouds</td>\n",
       "      <td>6</td>\n",
       "      <td>0.950000</td>\n",
       "      <td>7</td>\n",
       "    </tr>\n",
       "    <tr>\n",
       "      <th>0</th>\n",
       "      <td>Mont Saint Michel</td>\n",
       "      <td>48.636</td>\n",
       "      <td>-1.5115</td>\n",
       "      <td>[25.98, 30.05, 32.59, 27.12, 25.63, 26.98, 34.69]</td>\n",
       "      <td>[25.98, 28.87, 31.03, 26.9, 25.16, 26.53, 32.7]</td>\n",
       "      <td>[7.33, 5.55, 6.04, 7.28, 7.95, 5.48, 5.48]</td>\n",
       "      <td>[0, 0, 0, 0, 0, 0, 0]</td>\n",
       "      <td>[Clear, Clear, Clouds, Clouds, Clouds, Clouds,...</td>\n",
       "      <td>[0, 0, 0, 0, 0, 0, 0]</td>\n",
       "      <td>28.167143</td>\n",
       "      <td>Clouds</td>\n",
       "      <td>6</td>\n",
       "      <td>1.167143</td>\n",
       "      <td>8</td>\n",
       "    </tr>\n",
       "    <tr>\n",
       "      <th>14</th>\n",
       "      <td>Annecy</td>\n",
       "      <td>45.8992</td>\n",
       "      <td>6.1289</td>\n",
       "      <td>[26.56, 25.02, 26.67, 30.49, 33.12, 31.41, 30.9]</td>\n",
       "      <td>[26.56, 24.78, 26.67, 29.39, 31.22, 30.07, 29.54]</td>\n",
       "      <td>[3.9, 3.01, 3.12, 1.66, 1.65, 2.14, 2.34]</td>\n",
       "      <td>[0, 0, 0, 0, 0, 0, 0]</td>\n",
       "      <td>[Clear, Clear, Clouds, Clear, Clouds, Clear, C...</td>\n",
       "      <td>[0, 0, 0, 0, 0, 0, 0]</td>\n",
       "      <td>28.318571</td>\n",
       "      <td>Clear</td>\n",
       "      <td>1</td>\n",
       "      <td>1.318571</td>\n",
       "      <td>9</td>\n",
       "    </tr>\n",
       "    <tr>\n",
       "      <th>29</th>\n",
       "      <td>Ariege</td>\n",
       "      <td>42.9455</td>\n",
       "      <td>1.4066</td>\n",
       "      <td>[25.91, 28.08, 29.2, 32.03, 30.1, 31.08, 33.68]</td>\n",
       "      <td>[25.5, 26.88, 27.67, 29.84, 28.23, 29.05, 31.31]</td>\n",
       "      <td>[2.75, 2.86, 2.74, 2.98, 3.09, 2.68, 3.11]</td>\n",
       "      <td>[0, 0, 0, 0, 0, 0, 0.14]</td>\n",
       "      <td>[Clear, Clear, Clear, Clear, Clouds, Clear, Cl...</td>\n",
       "      <td>[0, 0, 0, 0, 0, 0, 0.14]</td>\n",
       "      <td>28.354286</td>\n",
       "      <td>Clear</td>\n",
       "      <td>1</td>\n",
       "      <td>1.354286</td>\n",
       "      <td>10</td>\n",
       "    </tr>\n",
       "  </tbody>\n",
       "</table>\n",
       "</div>"
      ],
      "text/plain": [
       "                 city latitude longitude  \\\n",
       "11          Eguisheim  48.0448     7.308   \n",
       "10             Colmar  48.0778     7.358   \n",
       "8          Strasbourg  48.5846    7.7507   \n",
       "12           Besancon   47.238    6.0244   \n",
       "6              Amiens  49.8942    2.2957   \n",
       "2              Bayeux  49.2765   -0.7025   \n",
       "7               Lille  50.6366    3.0635   \n",
       "0   Mont Saint Michel   48.636   -1.5115   \n",
       "14             Annecy  45.8992    6.1289   \n",
       "29             Ariege  42.9455    1.4066   \n",
       "\n",
       "                                          weekly_temp  \\\n",
       "11  [22.21, 24.14, 25.68, 31.35, 33.91, 28.53, 29.91]   \n",
       "10   [22.31, 24.32, 25.78, 31.38, 33.67, 28.61, 30.1]   \n",
       "8    [21.26, 24.92, 26.64, 32.13, 33.65, 28.4, 30.85]   \n",
       "12   [24.15, 25.19, 27.22, 31.65, 32.65, 29.82, 31.2]   \n",
       "6   [23.47, 26.42, 29.68, 33.16, 28.55, 26.49, 32.73]   \n",
       "2     [24.08, 27.3, 32.34, 25.25, 21.49, 25.85, 31.4]   \n",
       "7   [23.95, 25.92, 28.37, 28.18, 25.76, 24.23, 30.62]   \n",
       "0   [25.98, 30.05, 32.59, 27.12, 25.63, 26.98, 34.69]   \n",
       "14   [26.56, 25.02, 26.67, 30.49, 33.12, 31.41, 30.9]   \n",
       "29    [25.91, 28.08, 29.2, 32.03, 30.1, 31.08, 33.68]   \n",
       "\n",
       "                               weekly_temp_feels_like  \\\n",
       "11   [21.77, 23.81, 25.37, 29.91, 32.17, 27.79, 28.6]   \n",
       "10  [21.88, 23.98, 25.48, 29.86, 32.02, 27.79, 28.64]   \n",
       "8   [20.72, 24.59, 26.64, 30.29, 31.99, 27.39, 28.99]   \n",
       "12     [23.35, 24.78, 26.6, 29.76, 31.1, 28.46, 29.6]   \n",
       "6      [23, 26.42, 28.68, 31.45, 27.56, 26.49, 30.61]   \n",
       "2    [23.56, 27.03, 30.87, 25.06, 20.9, 25.51, 29.65]   \n",
       "7     [23.6, 25.56, 27.65, 27.62, 25.49, 23.6, 28.83]   \n",
       "0     [25.98, 28.87, 31.03, 26.9, 25.16, 26.53, 32.7]   \n",
       "14  [26.56, 24.78, 26.67, 29.39, 31.22, 30.07, 29.54]   \n",
       "29   [25.5, 26.88, 27.67, 29.84, 28.23, 29.05, 31.31]   \n",
       "\n",
       "                             weekly_wind_speed           weekly_humidity  \\\n",
       "11     [5.18, 4.87, 2.46, 2, 3.04, 2.68, 2.24]  [0, 0, 0, 0, 0.02, 0, 0]   \n",
       "10  [5.35, 5.04, 2.48, 2.05, 3.09, 2.89, 2.39]  [0, 0, 0, 0, 0.03, 0, 0]   \n",
       "8   [5.23, 5.68, 2.87, 2.78, 5.03, 4.36, 2.83]     [0, 0, 0, 0, 0, 0, 0]   \n",
       "12   [5.22, 5.63, 4.39, 2.3, 3.97, 2.61, 2.77]     [0, 0, 0, 0, 0, 0, 0]   \n",
       "6   [4.16, 3.81, 3.22, 6.16, 6.68, 2.53, 4.91]     [0, 0, 0, 0, 0, 0, 0]   \n",
       "2       [6.34, 6.15, 5.91, 5.2, 5.81, 5, 4.99]     [0, 0, 0, 0, 0, 0, 0]   \n",
       "7   [4.68, 4.06, 2.89, 4.57, 6.36, 3.26, 3.83]     [0, 0, 0, 0, 0, 0, 0]   \n",
       "0   [7.33, 5.55, 6.04, 7.28, 7.95, 5.48, 5.48]     [0, 0, 0, 0, 0, 0, 0]   \n",
       "14   [3.9, 3.01, 3.12, 1.66, 1.65, 2.14, 2.34]     [0, 0, 0, 0, 0, 0, 0]   \n",
       "29  [2.75, 2.86, 2.74, 2.98, 3.09, 2.68, 3.11]  [0, 0, 0, 0, 0, 0, 0.14]   \n",
       "\n",
       "                                  weekly_main_weather  \\\n",
       "11  [Clear, Clouds, Clouds, Clouds, Clouds, Clear,...   \n",
       "10  [Clear, Clouds, Clouds, Clouds, Clouds, Clear,...   \n",
       "8   [Clouds, Clouds, Clouds, Clouds, Clouds, Cloud...   \n",
       "12  [Clear, Clear, Clouds, Clouds, Clouds, Clouds,...   \n",
       "6   [Clear, Clear, Clouds, Clouds, Clouds, Clouds,...   \n",
       "2   [Clear, Clear, Clouds, Clouds, Clouds, Clouds,...   \n",
       "7   [Clouds, Clear, Clouds, Clouds, Clouds, Clouds...   \n",
       "0   [Clear, Clear, Clouds, Clouds, Clouds, Clouds,...   \n",
       "14  [Clear, Clear, Clouds, Clear, Clouds, Clear, C...   \n",
       "29  [Clear, Clear, Clear, Clear, Clouds, Clear, Cl...   \n",
       "\n",
       "                  weekly_pop  avg_weekly_temp_feels_like main_weather  \\\n",
       "11  [0, 0, 0, 0, 0.02, 0, 0]                   27.060000       Clouds   \n",
       "10  [0, 0, 0, 0, 0.03, 0, 0]                   27.092857       Clouds   \n",
       "8      [0, 0, 0, 0, 0, 0, 0]                   27.230000       Clouds   \n",
       "12     [0, 0, 0, 0, 0, 0, 0]                   27.664286       Clouds   \n",
       "6      [0, 0, 0, 0, 0, 0, 0]                   27.744286       Clouds   \n",
       "2      [0, 0, 0, 0, 0, 0, 0]                   26.082857       Clouds   \n",
       "7      [0, 0, 0, 0, 0, 0, 0]                   26.050000       Clouds   \n",
       "0      [0, 0, 0, 0, 0, 0, 0]                   28.167143       Clouds   \n",
       "14     [0, 0, 0, 0, 0, 0, 0]                   28.318571        Clear   \n",
       "29  [0, 0, 0, 0, 0, 0, 0.14]                   28.354286        Clear   \n",
       "\n",
       "    main_weather_score  best_temp_diff  Rank  \n",
       "11                   6        0.060000     1  \n",
       "10                   6        0.092857     2  \n",
       "8                    6        0.230000     3  \n",
       "12                   6        0.664286     4  \n",
       "6                    6        0.744286     5  \n",
       "2                    6        0.917143     6  \n",
       "7                    6        0.950000     7  \n",
       "0                    6        1.167143     8  \n",
       "14                   1        1.318571     9  \n",
       "29                   1        1.354286    10  "
      ]
     },
     "execution_count": 27,
     "metadata": {},
     "output_type": "execute_result"
    }
   ],
   "source": [
    "#Rank the cities by temp and weather\n",
    "df[\"Rank\"] = df[[\"best_temp_diff\",\"main_weather_score\"]].apply(tuple,axis=1)\\\n",
    "             .rank(method='dense',ascending=True).astype(int)\n",
    "\n",
    "df.sort_values(by='Rank', ascending=True, inplace=True)\n",
    "\n",
    "df.head(10)"
   ]
  },
  {
   "cell_type": "code",
   "execution_count": 28,
   "metadata": {},
   "outputs": [],
   "source": [
    "#delete useless columns\n",
    "df.drop([\"weekly_pop\",\"best_temp_diff\",\"main_weather_score\"], axis=1, inplace=True )\n",
    "\n",
    "#Save the final result in a csv file\n",
    "df.to_csv(\"WEATHER_DATABASE.csv\")\n"
   ]
  },
  {
   "cell_type": "markdown",
   "metadata": {},
   "source": [
    "# VISUALIZE WEEKLY AVERAGE TEMPERATURE DISTRIBUTION"
   ]
  },
  {
   "cell_type": "code",
   "execution_count": 29,
   "metadata": {},
   "outputs": [],
   "source": [
    "#select top 5 destinations\n",
    "top5=df.iloc[:5,:]"
   ]
  },
  {
   "cell_type": "code",
   "execution_count": 30,
   "metadata": {},
   "outputs": [
    {
     "data": {
      "text/html": [
       "<div>\n",
       "<style scoped>\n",
       "    .dataframe tbody tr th:only-of-type {\n",
       "        vertical-align: middle;\n",
       "    }\n",
       "\n",
       "    .dataframe tbody tr th {\n",
       "        vertical-align: top;\n",
       "    }\n",
       "\n",
       "    .dataframe thead th {\n",
       "        text-align: right;\n",
       "    }\n",
       "</style>\n",
       "<table border=\"1\" class=\"dataframe\">\n",
       "  <thead>\n",
       "    <tr style=\"text-align: right;\">\n",
       "      <th></th>\n",
       "      <th>city</th>\n",
       "      <th>latitude</th>\n",
       "      <th>longitude</th>\n",
       "      <th>weekly_temp</th>\n",
       "      <th>weekly_temp_feels_like</th>\n",
       "      <th>weekly_wind_speed</th>\n",
       "      <th>weekly_humidity</th>\n",
       "      <th>weekly_main_weather</th>\n",
       "      <th>avg_weekly_temp_feels_like</th>\n",
       "      <th>main_weather</th>\n",
       "      <th>Rank</th>\n",
       "    </tr>\n",
       "  </thead>\n",
       "  <tbody>\n",
       "    <tr>\n",
       "      <th>0</th>\n",
       "      <td>Eguisheim</td>\n",
       "      <td>48.0448</td>\n",
       "      <td>7.308</td>\n",
       "      <td>[22.21, 24.14, 25.68, 31.35, 33.91, 28.53, 29.91]</td>\n",
       "      <td>[21.77, 23.81, 25.37, 29.91, 32.17, 27.79, 28.6]</td>\n",
       "      <td>[5.18, 4.87, 2.46, 2, 3.04, 2.68, 2.24]</td>\n",
       "      <td>[0, 0, 0, 0, 0.02, 0, 0]</td>\n",
       "      <td>[Clear, Clouds, Clouds, Clouds, Clouds, Clear,...</td>\n",
       "      <td>27.060000</td>\n",
       "      <td>Clouds</td>\n",
       "      <td>1</td>\n",
       "    </tr>\n",
       "    <tr>\n",
       "      <th>1</th>\n",
       "      <td>Colmar</td>\n",
       "      <td>48.0778</td>\n",
       "      <td>7.358</td>\n",
       "      <td>[22.31, 24.32, 25.78, 31.38, 33.67, 28.61, 30.1]</td>\n",
       "      <td>[21.88, 23.98, 25.48, 29.86, 32.02, 27.79, 28.64]</td>\n",
       "      <td>[5.35, 5.04, 2.48, 2.05, 3.09, 2.89, 2.39]</td>\n",
       "      <td>[0, 0, 0, 0, 0.03, 0, 0]</td>\n",
       "      <td>[Clear, Clouds, Clouds, Clouds, Clouds, Clear,...</td>\n",
       "      <td>27.092857</td>\n",
       "      <td>Clouds</td>\n",
       "      <td>2</td>\n",
       "    </tr>\n",
       "    <tr>\n",
       "      <th>2</th>\n",
       "      <td>Strasbourg</td>\n",
       "      <td>48.5846</td>\n",
       "      <td>7.7507</td>\n",
       "      <td>[21.26, 24.92, 26.64, 32.13, 33.65, 28.4, 30.85]</td>\n",
       "      <td>[20.72, 24.59, 26.64, 30.29, 31.99, 27.39, 28.99]</td>\n",
       "      <td>[5.23, 5.68, 2.87, 2.78, 5.03, 4.36, 2.83]</td>\n",
       "      <td>[0, 0, 0, 0, 0, 0, 0]</td>\n",
       "      <td>[Clouds, Clouds, Clouds, Clouds, Clouds, Cloud...</td>\n",
       "      <td>27.230000</td>\n",
       "      <td>Clouds</td>\n",
       "      <td>3</td>\n",
       "    </tr>\n",
       "    <tr>\n",
       "      <th>3</th>\n",
       "      <td>Besancon</td>\n",
       "      <td>47.238</td>\n",
       "      <td>6.0244</td>\n",
       "      <td>[24.15, 25.19, 27.22, 31.65, 32.65, 29.82, 31.2]</td>\n",
       "      <td>[23.35, 24.78, 26.6, 29.76, 31.1, 28.46, 29.6]</td>\n",
       "      <td>[5.22, 5.63, 4.39, 2.3, 3.97, 2.61, 2.77]</td>\n",
       "      <td>[0, 0, 0, 0, 0, 0, 0]</td>\n",
       "      <td>[Clear, Clear, Clouds, Clouds, Clouds, Clouds,...</td>\n",
       "      <td>27.664286</td>\n",
       "      <td>Clouds</td>\n",
       "      <td>4</td>\n",
       "    </tr>\n",
       "    <tr>\n",
       "      <th>4</th>\n",
       "      <td>Amiens</td>\n",
       "      <td>49.8942</td>\n",
       "      <td>2.2957</td>\n",
       "      <td>[23.47, 26.42, 29.68, 33.16, 28.55, 26.49, 32.73]</td>\n",
       "      <td>[23, 26.42, 28.68, 31.45, 27.56, 26.49, 30.61]</td>\n",
       "      <td>[4.16, 3.81, 3.22, 6.16, 6.68, 2.53, 4.91]</td>\n",
       "      <td>[0, 0, 0, 0, 0, 0, 0]</td>\n",
       "      <td>[Clear, Clear, Clouds, Clouds, Clouds, Clouds,...</td>\n",
       "      <td>27.744286</td>\n",
       "      <td>Clouds</td>\n",
       "      <td>5</td>\n",
       "    </tr>\n",
       "  </tbody>\n",
       "</table>\n",
       "</div>"
      ],
      "text/plain": [
       "         city latitude longitude  \\\n",
       "0   Eguisheim  48.0448     7.308   \n",
       "1      Colmar  48.0778     7.358   \n",
       "2  Strasbourg  48.5846    7.7507   \n",
       "3    Besancon   47.238    6.0244   \n",
       "4      Amiens  49.8942    2.2957   \n",
       "\n",
       "                                         weekly_temp  \\\n",
       "0  [22.21, 24.14, 25.68, 31.35, 33.91, 28.53, 29.91]   \n",
       "1   [22.31, 24.32, 25.78, 31.38, 33.67, 28.61, 30.1]   \n",
       "2   [21.26, 24.92, 26.64, 32.13, 33.65, 28.4, 30.85]   \n",
       "3   [24.15, 25.19, 27.22, 31.65, 32.65, 29.82, 31.2]   \n",
       "4  [23.47, 26.42, 29.68, 33.16, 28.55, 26.49, 32.73]   \n",
       "\n",
       "                              weekly_temp_feels_like  \\\n",
       "0   [21.77, 23.81, 25.37, 29.91, 32.17, 27.79, 28.6]   \n",
       "1  [21.88, 23.98, 25.48, 29.86, 32.02, 27.79, 28.64]   \n",
       "2  [20.72, 24.59, 26.64, 30.29, 31.99, 27.39, 28.99]   \n",
       "3     [23.35, 24.78, 26.6, 29.76, 31.1, 28.46, 29.6]   \n",
       "4     [23, 26.42, 28.68, 31.45, 27.56, 26.49, 30.61]   \n",
       "\n",
       "                            weekly_wind_speed           weekly_humidity  \\\n",
       "0     [5.18, 4.87, 2.46, 2, 3.04, 2.68, 2.24]  [0, 0, 0, 0, 0.02, 0, 0]   \n",
       "1  [5.35, 5.04, 2.48, 2.05, 3.09, 2.89, 2.39]  [0, 0, 0, 0, 0.03, 0, 0]   \n",
       "2  [5.23, 5.68, 2.87, 2.78, 5.03, 4.36, 2.83]     [0, 0, 0, 0, 0, 0, 0]   \n",
       "3   [5.22, 5.63, 4.39, 2.3, 3.97, 2.61, 2.77]     [0, 0, 0, 0, 0, 0, 0]   \n",
       "4  [4.16, 3.81, 3.22, 6.16, 6.68, 2.53, 4.91]     [0, 0, 0, 0, 0, 0, 0]   \n",
       "\n",
       "                                 weekly_main_weather  \\\n",
       "0  [Clear, Clouds, Clouds, Clouds, Clouds, Clear,...   \n",
       "1  [Clear, Clouds, Clouds, Clouds, Clouds, Clear,...   \n",
       "2  [Clouds, Clouds, Clouds, Clouds, Clouds, Cloud...   \n",
       "3  [Clear, Clear, Clouds, Clouds, Clouds, Clouds,...   \n",
       "4  [Clear, Clear, Clouds, Clouds, Clouds, Clouds,...   \n",
       "\n",
       "   avg_weekly_temp_feels_like main_weather  Rank  \n",
       "0                   27.060000       Clouds     1  \n",
       "1                   27.092857       Clouds     2  \n",
       "2                   27.230000       Clouds     3  \n",
       "3                   27.664286       Clouds     4  \n",
       "4                   27.744286       Clouds     5  "
      ]
     },
     "execution_count": 30,
     "metadata": {},
     "output_type": "execute_result"
    }
   ],
   "source": [
    "#reset top5 dataframe index\n",
    "top5.reset_index(drop=True,inplace=True)\n",
    "top5.head()"
   ]
  },
  {
   "cell_type": "code",
   "execution_count": 31,
   "metadata": {},
   "outputs": [
    {
     "data": {
      "application/vnd.plotly.v1+json": {
       "config": {
        "plotlyServerURL": "https://plot.ly"
       },
       "data": [
        {
         "hovertemplate": "<b>%{hovertext}</b><br><br>avg_weekly_temp_feels_like=%{marker.color}<br>latitude=%{lat}<br>longitude=%{lon}<extra></extra>",
         "hovertext": [
          "Eguisheim",
          "Colmar",
          "Strasbourg",
          "Besancon",
          "Amiens"
         ],
         "lat": [
          48.0448,
          48.0778,
          48.5846,
          47.238,
          49.8942
         ],
         "legendgroup": "",
         "lon": [
          7.308,
          7.358,
          7.7507,
          6.0244,
          2.2957
         ],
         "marker": {
          "color": [
           27.06,
           27.092857142857138,
           27.23,
           27.664285714285715,
           27.744285714285713
          ],
          "coloraxis": "coloraxis",
          "size": [
           27.06,
           27.092857142857138,
           27.23,
           27.664285714285715,
           27.744285714285713
          ],
          "sizemode": "area",
          "sizeref": 0.06936071428571428
         },
         "mode": "markers",
         "name": "",
         "showlegend": false,
         "subplot": "mapbox",
         "type": "scattermapbox"
        }
       ],
       "layout": {
        "coloraxis": {
         "colorbar": {
          "title": {
           "text": "avg_weekly_temp_feels_like"
          }
         },
         "colorscale": [
          [
           0,
           "#0d0887"
          ],
          [
           0.1111111111111111,
           "#46039f"
          ],
          [
           0.2222222222222222,
           "#7201a8"
          ],
          [
           0.3333333333333333,
           "#9c179e"
          ],
          [
           0.4444444444444444,
           "#bd3786"
          ],
          [
           0.5555555555555556,
           "#d8576b"
          ],
          [
           0.6666666666666666,
           "#ed7953"
          ],
          [
           0.7777777777777778,
           "#fb9f3a"
          ],
          [
           0.8888888888888888,
           "#fdca26"
          ],
          [
           1,
           "#f0f921"
          ]
         ]
        },
        "height": 700,
        "legend": {
         "itemsizing": "constant",
         "tracegroupgap": 0
        },
        "mapbox": {
         "center": {
          "lat": 47,
          "lon": 2
         },
         "domain": {
          "x": [
           0,
           1
          ],
          "y": [
           0,
           1
          ]
         },
         "style": "carto-positron",
         "zoom": 4.9
        },
        "template": {
         "data": {
          "bar": [
           {
            "error_x": {
             "color": "#2a3f5f"
            },
            "error_y": {
             "color": "#2a3f5f"
            },
            "marker": {
             "line": {
              "color": "#E5ECF6",
              "width": 0.5
             },
             "pattern": {
              "fillmode": "overlay",
              "size": 10,
              "solidity": 0.2
             }
            },
            "type": "bar"
           }
          ],
          "barpolar": [
           {
            "marker": {
             "line": {
              "color": "#E5ECF6",
              "width": 0.5
             },
             "pattern": {
              "fillmode": "overlay",
              "size": 10,
              "solidity": 0.2
             }
            },
            "type": "barpolar"
           }
          ],
          "carpet": [
           {
            "aaxis": {
             "endlinecolor": "#2a3f5f",
             "gridcolor": "white",
             "linecolor": "white",
             "minorgridcolor": "white",
             "startlinecolor": "#2a3f5f"
            },
            "baxis": {
             "endlinecolor": "#2a3f5f",
             "gridcolor": "white",
             "linecolor": "white",
             "minorgridcolor": "white",
             "startlinecolor": "#2a3f5f"
            },
            "type": "carpet"
           }
          ],
          "choropleth": [
           {
            "colorbar": {
             "outlinewidth": 0,
             "ticks": ""
            },
            "type": "choropleth"
           }
          ],
          "contour": [
           {
            "colorbar": {
             "outlinewidth": 0,
             "ticks": ""
            },
            "colorscale": [
             [
              0,
              "#0d0887"
             ],
             [
              0.1111111111111111,
              "#46039f"
             ],
             [
              0.2222222222222222,
              "#7201a8"
             ],
             [
              0.3333333333333333,
              "#9c179e"
             ],
             [
              0.4444444444444444,
              "#bd3786"
             ],
             [
              0.5555555555555556,
              "#d8576b"
             ],
             [
              0.6666666666666666,
              "#ed7953"
             ],
             [
              0.7777777777777778,
              "#fb9f3a"
             ],
             [
              0.8888888888888888,
              "#fdca26"
             ],
             [
              1,
              "#f0f921"
             ]
            ],
            "type": "contour"
           }
          ],
          "contourcarpet": [
           {
            "colorbar": {
             "outlinewidth": 0,
             "ticks": ""
            },
            "type": "contourcarpet"
           }
          ],
          "heatmap": [
           {
            "colorbar": {
             "outlinewidth": 0,
             "ticks": ""
            },
            "colorscale": [
             [
              0,
              "#0d0887"
             ],
             [
              0.1111111111111111,
              "#46039f"
             ],
             [
              0.2222222222222222,
              "#7201a8"
             ],
             [
              0.3333333333333333,
              "#9c179e"
             ],
             [
              0.4444444444444444,
              "#bd3786"
             ],
             [
              0.5555555555555556,
              "#d8576b"
             ],
             [
              0.6666666666666666,
              "#ed7953"
             ],
             [
              0.7777777777777778,
              "#fb9f3a"
             ],
             [
              0.8888888888888888,
              "#fdca26"
             ],
             [
              1,
              "#f0f921"
             ]
            ],
            "type": "heatmap"
           }
          ],
          "heatmapgl": [
           {
            "colorbar": {
             "outlinewidth": 0,
             "ticks": ""
            },
            "colorscale": [
             [
              0,
              "#0d0887"
             ],
             [
              0.1111111111111111,
              "#46039f"
             ],
             [
              0.2222222222222222,
              "#7201a8"
             ],
             [
              0.3333333333333333,
              "#9c179e"
             ],
             [
              0.4444444444444444,
              "#bd3786"
             ],
             [
              0.5555555555555556,
              "#d8576b"
             ],
             [
              0.6666666666666666,
              "#ed7953"
             ],
             [
              0.7777777777777778,
              "#fb9f3a"
             ],
             [
              0.8888888888888888,
              "#fdca26"
             ],
             [
              1,
              "#f0f921"
             ]
            ],
            "type": "heatmapgl"
           }
          ],
          "histogram": [
           {
            "marker": {
             "pattern": {
              "fillmode": "overlay",
              "size": 10,
              "solidity": 0.2
             }
            },
            "type": "histogram"
           }
          ],
          "histogram2d": [
           {
            "colorbar": {
             "outlinewidth": 0,
             "ticks": ""
            },
            "colorscale": [
             [
              0,
              "#0d0887"
             ],
             [
              0.1111111111111111,
              "#46039f"
             ],
             [
              0.2222222222222222,
              "#7201a8"
             ],
             [
              0.3333333333333333,
              "#9c179e"
             ],
             [
              0.4444444444444444,
              "#bd3786"
             ],
             [
              0.5555555555555556,
              "#d8576b"
             ],
             [
              0.6666666666666666,
              "#ed7953"
             ],
             [
              0.7777777777777778,
              "#fb9f3a"
             ],
             [
              0.8888888888888888,
              "#fdca26"
             ],
             [
              1,
              "#f0f921"
             ]
            ],
            "type": "histogram2d"
           }
          ],
          "histogram2dcontour": [
           {
            "colorbar": {
             "outlinewidth": 0,
             "ticks": ""
            },
            "colorscale": [
             [
              0,
              "#0d0887"
             ],
             [
              0.1111111111111111,
              "#46039f"
             ],
             [
              0.2222222222222222,
              "#7201a8"
             ],
             [
              0.3333333333333333,
              "#9c179e"
             ],
             [
              0.4444444444444444,
              "#bd3786"
             ],
             [
              0.5555555555555556,
              "#d8576b"
             ],
             [
              0.6666666666666666,
              "#ed7953"
             ],
             [
              0.7777777777777778,
              "#fb9f3a"
             ],
             [
              0.8888888888888888,
              "#fdca26"
             ],
             [
              1,
              "#f0f921"
             ]
            ],
            "type": "histogram2dcontour"
           }
          ],
          "mesh3d": [
           {
            "colorbar": {
             "outlinewidth": 0,
             "ticks": ""
            },
            "type": "mesh3d"
           }
          ],
          "parcoords": [
           {
            "line": {
             "colorbar": {
              "outlinewidth": 0,
              "ticks": ""
             }
            },
            "type": "parcoords"
           }
          ],
          "pie": [
           {
            "automargin": true,
            "type": "pie"
           }
          ],
          "scatter": [
           {
            "marker": {
             "colorbar": {
              "outlinewidth": 0,
              "ticks": ""
             }
            },
            "type": "scatter"
           }
          ],
          "scatter3d": [
           {
            "line": {
             "colorbar": {
              "outlinewidth": 0,
              "ticks": ""
             }
            },
            "marker": {
             "colorbar": {
              "outlinewidth": 0,
              "ticks": ""
             }
            },
            "type": "scatter3d"
           }
          ],
          "scattercarpet": [
           {
            "marker": {
             "colorbar": {
              "outlinewidth": 0,
              "ticks": ""
             }
            },
            "type": "scattercarpet"
           }
          ],
          "scattergeo": [
           {
            "marker": {
             "colorbar": {
              "outlinewidth": 0,
              "ticks": ""
             }
            },
            "type": "scattergeo"
           }
          ],
          "scattergl": [
           {
            "marker": {
             "colorbar": {
              "outlinewidth": 0,
              "ticks": ""
             }
            },
            "type": "scattergl"
           }
          ],
          "scattermapbox": [
           {
            "marker": {
             "colorbar": {
              "outlinewidth": 0,
              "ticks": ""
             }
            },
            "type": "scattermapbox"
           }
          ],
          "scatterpolar": [
           {
            "marker": {
             "colorbar": {
              "outlinewidth": 0,
              "ticks": ""
             }
            },
            "type": "scatterpolar"
           }
          ],
          "scatterpolargl": [
           {
            "marker": {
             "colorbar": {
              "outlinewidth": 0,
              "ticks": ""
             }
            },
            "type": "scatterpolargl"
           }
          ],
          "scatterternary": [
           {
            "marker": {
             "colorbar": {
              "outlinewidth": 0,
              "ticks": ""
             }
            },
            "type": "scatterternary"
           }
          ],
          "surface": [
           {
            "colorbar": {
             "outlinewidth": 0,
             "ticks": ""
            },
            "colorscale": [
             [
              0,
              "#0d0887"
             ],
             [
              0.1111111111111111,
              "#46039f"
             ],
             [
              0.2222222222222222,
              "#7201a8"
             ],
             [
              0.3333333333333333,
              "#9c179e"
             ],
             [
              0.4444444444444444,
              "#bd3786"
             ],
             [
              0.5555555555555556,
              "#d8576b"
             ],
             [
              0.6666666666666666,
              "#ed7953"
             ],
             [
              0.7777777777777778,
              "#fb9f3a"
             ],
             [
              0.8888888888888888,
              "#fdca26"
             ],
             [
              1,
              "#f0f921"
             ]
            ],
            "type": "surface"
           }
          ],
          "table": [
           {
            "cells": {
             "fill": {
              "color": "#EBF0F8"
             },
             "line": {
              "color": "white"
             }
            },
            "header": {
             "fill": {
              "color": "#C8D4E3"
             },
             "line": {
              "color": "white"
             }
            },
            "type": "table"
           }
          ]
         },
         "layout": {
          "annotationdefaults": {
           "arrowcolor": "#2a3f5f",
           "arrowhead": 0,
           "arrowwidth": 1
          },
          "autotypenumbers": "strict",
          "coloraxis": {
           "colorbar": {
            "outlinewidth": 0,
            "ticks": ""
           }
          },
          "colorscale": {
           "diverging": [
            [
             0,
             "#8e0152"
            ],
            [
             0.1,
             "#c51b7d"
            ],
            [
             0.2,
             "#de77ae"
            ],
            [
             0.3,
             "#f1b6da"
            ],
            [
             0.4,
             "#fde0ef"
            ],
            [
             0.5,
             "#f7f7f7"
            ],
            [
             0.6,
             "#e6f5d0"
            ],
            [
             0.7,
             "#b8e186"
            ],
            [
             0.8,
             "#7fbc41"
            ],
            [
             0.9,
             "#4d9221"
            ],
            [
             1,
             "#276419"
            ]
           ],
           "sequential": [
            [
             0,
             "#0d0887"
            ],
            [
             0.1111111111111111,
             "#46039f"
            ],
            [
             0.2222222222222222,
             "#7201a8"
            ],
            [
             0.3333333333333333,
             "#9c179e"
            ],
            [
             0.4444444444444444,
             "#bd3786"
            ],
            [
             0.5555555555555556,
             "#d8576b"
            ],
            [
             0.6666666666666666,
             "#ed7953"
            ],
            [
             0.7777777777777778,
             "#fb9f3a"
            ],
            [
             0.8888888888888888,
             "#fdca26"
            ],
            [
             1,
             "#f0f921"
            ]
           ],
           "sequentialminus": [
            [
             0,
             "#0d0887"
            ],
            [
             0.1111111111111111,
             "#46039f"
            ],
            [
             0.2222222222222222,
             "#7201a8"
            ],
            [
             0.3333333333333333,
             "#9c179e"
            ],
            [
             0.4444444444444444,
             "#bd3786"
            ],
            [
             0.5555555555555556,
             "#d8576b"
            ],
            [
             0.6666666666666666,
             "#ed7953"
            ],
            [
             0.7777777777777778,
             "#fb9f3a"
            ],
            [
             0.8888888888888888,
             "#fdca26"
            ],
            [
             1,
             "#f0f921"
            ]
           ]
          },
          "colorway": [
           "#636efa",
           "#EF553B",
           "#00cc96",
           "#ab63fa",
           "#FFA15A",
           "#19d3f3",
           "#FF6692",
           "#B6E880",
           "#FF97FF",
           "#FECB52"
          ],
          "font": {
           "color": "#2a3f5f"
          },
          "geo": {
           "bgcolor": "white",
           "lakecolor": "white",
           "landcolor": "#E5ECF6",
           "showlakes": true,
           "showland": true,
           "subunitcolor": "white"
          },
          "hoverlabel": {
           "align": "left"
          },
          "hovermode": "closest",
          "mapbox": {
           "style": "light"
          },
          "paper_bgcolor": "white",
          "plot_bgcolor": "#E5ECF6",
          "polar": {
           "angularaxis": {
            "gridcolor": "white",
            "linecolor": "white",
            "ticks": ""
           },
           "bgcolor": "#E5ECF6",
           "radialaxis": {
            "gridcolor": "white",
            "linecolor": "white",
            "ticks": ""
           }
          },
          "scene": {
           "xaxis": {
            "backgroundcolor": "#E5ECF6",
            "gridcolor": "white",
            "gridwidth": 2,
            "linecolor": "white",
            "showbackground": true,
            "ticks": "",
            "zerolinecolor": "white"
           },
           "yaxis": {
            "backgroundcolor": "#E5ECF6",
            "gridcolor": "white",
            "gridwidth": 2,
            "linecolor": "white",
            "showbackground": true,
            "ticks": "",
            "zerolinecolor": "white"
           },
           "zaxis": {
            "backgroundcolor": "#E5ECF6",
            "gridcolor": "white",
            "gridwidth": 2,
            "linecolor": "white",
            "showbackground": true,
            "ticks": "",
            "zerolinecolor": "white"
           }
          },
          "shapedefaults": {
           "line": {
            "color": "#2a3f5f"
           }
          },
          "ternary": {
           "aaxis": {
            "gridcolor": "white",
            "linecolor": "white",
            "ticks": ""
           },
           "baxis": {
            "gridcolor": "white",
            "linecolor": "white",
            "ticks": ""
           },
           "bgcolor": "#E5ECF6",
           "caxis": {
            "gridcolor": "white",
            "linecolor": "white",
            "ticks": ""
           }
          },
          "title": {
           "x": 0.05
          },
          "xaxis": {
           "automargin": true,
           "gridcolor": "white",
           "linecolor": "white",
           "ticks": "",
           "title": {
            "standoff": 15
           },
           "zerolinecolor": "white",
           "zerolinewidth": 2
          },
          "yaxis": {
           "automargin": true,
           "gridcolor": "white",
           "linecolor": "white",
           "ticks": "",
           "title": {
            "standoff": 15
           },
           "zerolinecolor": "white",
           "zerolinewidth": 2
          }
         }
        },
        "title": {
         "text": "TOP 5 CITIES"
        }
       }
      }
     },
     "metadata": {},
     "output_type": "display_data"
    }
   ],
   "source": [
    "import plotly.express as px\n",
    "\n",
    "#display the weekly temperature map \n",
    "fig = px.scatter_mapbox(top5, lat=\"latitude\", lon=\"longitude\",\n",
    "                        size=\"avg_weekly_temp_feels_like\", \n",
    "                        hover_name = \"city\", mapbox_style=\"carto-positron\",\n",
    "                        color=\"avg_weekly_temp_feels_like\",\n",
    "                        title=\"TOP 5 CITIES\",\n",
    "                        height=700, zoom=4.9, center={'lat':47.0000, 'lon':2.0000})\n",
    "fig.show()\n"
   ]
  },
  {
   "cell_type": "markdown",
   "metadata": {},
   "source": [
    "# SCRAP HOTEL INFORMATIONS FROM BOOKING.COM"
   ]
  },
  {
   "cell_type": "code",
   "execution_count": 32,
   "metadata": {},
   "outputs": [],
   "source": [
    "#define url by city where to scrap hotels data\n",
    "url_list = [f'https://www.booking.com/city/fr/{cities_list[i].replace(\" \", \"-\").lower()}.fr.html' for i in range(len(cities_list))]"
   ]
  },
  {
   "cell_type": "code",
   "execution_count": 33,
   "metadata": {},
   "outputs": [
    {
     "name": "stdout",
     "output_type": "stream",
     "text": [
      "['https://www.booking.com/city/fr/mont-saint-michel.fr.html', 'https://www.booking.com/city/fr/st-malo.fr.html', 'https://www.booking.com/city/fr/bayeux.fr.html', 'https://www.booking.com/city/fr/le-havre.fr.html', 'https://www.booking.com/city/fr/rouen.fr.html', 'https://www.booking.com/city/fr/paris.fr.html', 'https://www.booking.com/city/fr/amiens.fr.html', 'https://www.booking.com/city/fr/lille.fr.html', 'https://www.booking.com/city/fr/strasbourg.fr.html', 'https://www.booking.com/city/fr/chateau-du-haut-koenigsbourg.fr.html', 'https://www.booking.com/city/fr/colmar.fr.html', 'https://www.booking.com/city/fr/eguisheim.fr.html', 'https://www.booking.com/city/fr/besancon.fr.html', 'https://www.booking.com/city/fr/dijon.fr.html', 'https://www.booking.com/city/fr/annecy.fr.html', 'https://www.booking.com/city/fr/grenoble.fr.html', 'https://www.booking.com/city/fr/lyon.fr.html', 'https://www.booking.com/city/fr/gorges-du-verdon.fr.html', 'https://www.booking.com/city/fr/bormes-les-mimosas.fr.html', 'https://www.booking.com/city/fr/cassis.fr.html', 'https://www.booking.com/city/fr/marseille.fr.html', 'https://www.booking.com/city/fr/aix-en-provence.fr.html', 'https://www.booking.com/city/fr/avignon.fr.html', 'https://www.booking.com/city/fr/uzes.fr.html', 'https://www.booking.com/city/fr/nimes.fr.html', 'https://www.booking.com/city/fr/aigues-mortes.fr.html', 'https://www.booking.com/city/fr/saintes-maries-de-la-mer.fr.html', 'https://www.booking.com/city/fr/collioure.fr.html', 'https://www.booking.com/city/fr/carcassonne.fr.html', 'https://www.booking.com/city/fr/ariege.fr.html', 'https://www.booking.com/city/fr/toulouse.fr.html', 'https://www.booking.com/city/fr/montauban.fr.html', 'https://www.booking.com/city/fr/biarritz.fr.html', 'https://www.booking.com/city/fr/bayonne.fr.html', 'https://www.booking.com/city/fr/la-rochelle.fr.html']\n"
     ]
    }
   ],
   "source": [
    "#print url list\n",
    "print(url_list)"
   ]
  },
  {
   "cell_type": "code",
   "execution_count": 34,
   "metadata": {},
   "outputs": [],
   "source": [
    "#defining a scrapping class with scrapy.spider \n",
    "class BookingSpider(scrapy.Spider):\n",
    "    name = \"BookingSpider\" # Name of spider\n",
    "    RESULTS_PER_PAGE = 20 #20 results per page  \n",
    "    \n",
    "    def start_requests(self):\n",
    "        urls = url_list #defined when calling crawl\n",
    "        for index, url in enumerate(urls):\n",
    "            yield scrapy.Request(url, meta={'index':index}) #to keep in memory the city index we are scrapping data for\n",
    "    \n",
    "    # Callback function that will be called when starting the spider\n",
    "    def parse(self, response):\n",
    "        for link in response.css('header.bui-spacer--medium a::attr(href)'):\n",
    "            hotel_link = 'https://www.booking.com' + link.get()\n",
    "            yield response.follow(hotel_link, callback=self.hotel_infos, meta={'index': response.meta['index']})\n",
    "        \n",
    "    def hotel_infos(self, response):\n",
    "        yield {\n",
    "        \n",
    "        'Hotel_name': response.css('h2.hp__hotel-name::text').getall()[1].strip(),\n",
    "        'Rating': response.css('div.b5cd09854e.d10a6220b4::text').get(1),\n",
    "        'Coordinates':response.css('a.jq_tooltip.loc_block_link_underline_fix.bui-link.show_on_map_hp_link::attr(data-atlas-latlng)').get(),\n",
    "        'Description':response.css('div.hp_desc_main_content p::text').getall(),\n",
    "        'Link': str(response),\n",
    "        'City':response.meta['index']\n",
    "        \n",
    "        }  "
   ]
  },
  {
   "cell_type": "code",
   "execution_count": 37,
   "metadata": {},
   "outputs": [
    {
     "name": "stderr",
     "output_type": "stream",
     "text": [
      "2022-07-10 13:16:08 [scrapy.utils.log] INFO: Scrapy 2.6.1 started (bot: scrapybot)\n",
      "2022-07-10 13:16:08 [scrapy.utils.log] INFO: Versions: lxml 4.8.0.0, libxml2 2.9.12, cssselect 1.1.0, parsel 1.6.0, w3lib 1.22.0, Twisted 22.2.0, Python 3.10.5 (tags/v3.10.5:f377153, Jun  6 2022, 16:14:13) [MSC v.1929 64 bit (AMD64)], pyOpenSSL 22.0.0 (OpenSSL 1.1.1n  15 Mar 2022), cryptography 36.0.2, Platform Windows-10-10.0.19043-SP0\n",
      "2022-07-10 13:16:08 [scrapy.crawler] INFO: Overridden settings:\n",
      "{'AUTOTHROTTLE_ENABLED': True,\n",
      " 'LOG_LEVEL': 20,\n",
      " 'USER_AGENT': 'Mozilla/5.0 (Windows NT 10.0; Win64; x64) AppleWebKit/537.36 '\n",
      "               '(KHTML, like Gecko) Chrome/98.0.4758.102 Safari/537.36'}\n",
      "2022-07-10 13:16:08 [scrapy.extensions.telnet] INFO: Telnet Password: dd7d772af6d185e3\n",
      "2022-07-10 13:16:08 [scrapy.middleware] INFO: Enabled extensions:\n",
      "['scrapy.extensions.corestats.CoreStats',\n",
      " 'scrapy.extensions.telnet.TelnetConsole',\n",
      " 'scrapy.extensions.feedexport.FeedExporter',\n",
      " 'scrapy.extensions.logstats.LogStats',\n",
      " 'scrapy.extensions.throttle.AutoThrottle']\n",
      "2022-07-10 13:16:08 [scrapy.middleware] INFO: Enabled downloader middlewares:\n",
      "['scrapy.downloadermiddlewares.httpauth.HttpAuthMiddleware',\n",
      " 'scrapy.downloadermiddlewares.downloadtimeout.DownloadTimeoutMiddleware',\n",
      " 'scrapy.downloadermiddlewares.defaultheaders.DefaultHeadersMiddleware',\n",
      " 'scrapy.downloadermiddlewares.useragent.UserAgentMiddleware',\n",
      " 'scrapy.downloadermiddlewares.retry.RetryMiddleware',\n",
      " 'scrapy.downloadermiddlewares.redirect.MetaRefreshMiddleware',\n",
      " 'scrapy.downloadermiddlewares.httpcompression.HttpCompressionMiddleware',\n",
      " 'scrapy.downloadermiddlewares.redirect.RedirectMiddleware',\n",
      " 'scrapy.downloadermiddlewares.cookies.CookiesMiddleware',\n",
      " 'scrapy.downloadermiddlewares.httpproxy.HttpProxyMiddleware',\n",
      " 'scrapy.downloadermiddlewares.stats.DownloaderStats']\n",
      "2022-07-10 13:16:08 [scrapy.middleware] INFO: Enabled spider middlewares:\n",
      "['scrapy.spidermiddlewares.httperror.HttpErrorMiddleware',\n",
      " 'scrapy.spidermiddlewares.offsite.OffsiteMiddleware',\n",
      " 'scrapy.spidermiddlewares.referer.RefererMiddleware',\n",
      " 'scrapy.spidermiddlewares.urllength.UrlLengthMiddleware',\n",
      " 'scrapy.spidermiddlewares.depth.DepthMiddleware']\n",
      "2022-07-10 13:16:08 [scrapy.middleware] INFO: Enabled item pipelines:\n",
      "[]\n",
      "2022-07-10 13:16:08 [scrapy.core.engine] INFO: Spider opened\n",
      "2022-07-10 13:16:09 [scrapy.extensions.logstats] INFO: Crawled 0 pages (at 0 pages/min), scraped 0 items (at 0 items/min)\n",
      "2022-07-10 13:16:09 [scrapy.extensions.telnet] INFO: Telnet console listening on 127.0.0.1:6023\n",
      "2022-07-10 13:16:10 [scrapy.spidermiddlewares.httperror] INFO: Ignoring response <404 https://www.booking.com/city/fr/mont-saint-michel.fr.html>: HTTP status code is not handled or not allowed\n",
      "2022-07-10 13:16:15 [scrapy.spidermiddlewares.httperror] INFO: Ignoring response <404 https://www.booking.com/city/fr/st-malo.fr.html>: HTTP status code is not handled or not allowed\n",
      "2022-07-10 13:16:36 [scrapy.spidermiddlewares.httperror] INFO: Ignoring response <404 https://www.booking.com/city/fr/chateau-du-haut-koenigsbourg.fr.html>: HTTP status code is not handled or not allowed\n",
      "2022-07-10 13:16:42 [scrapy.spidermiddlewares.httperror] INFO: Ignoring response <404 https://www.booking.com/city/fr/gorges-du-verdon.fr.html>: HTTP status code is not handled or not allowed\n",
      "2022-07-10 13:17:09 [scrapy.extensions.logstats] INFO: Crawled 39 pages (at 39 pages/min), scraped 20 items (at 20 items/min)\n",
      "2022-07-10 13:18:09 [scrapy.extensions.logstats] INFO: Crawled 89 pages (at 50 pages/min), scraped 70 items (at 50 items/min)\n",
      "2022-07-10 13:19:09 [scrapy.extensions.logstats] INFO: Crawled 141 pages (at 52 pages/min), scraped 122 items (at 52 items/min)\n",
      "2022-07-10 13:20:09 [scrapy.extensions.logstats] INFO: Crawled 197 pages (at 56 pages/min), scraped 178 items (at 56 items/min)\n",
      "2022-07-10 13:21:09 [scrapy.extensions.logstats] INFO: Crawled 249 pages (at 52 pages/min), scraped 229 items (at 51 items/min)\n",
      "2022-07-10 13:22:09 [scrapy.extensions.logstats] INFO: Crawled 298 pages (at 49 pages/min), scraped 279 items (at 50 items/min)\n",
      "2022-07-10 13:23:09 [scrapy.extensions.logstats] INFO: Crawled 349 pages (at 51 pages/min), scraped 330 items (at 51 items/min)\n",
      "2022-07-10 13:23:42 [scrapy.spidermiddlewares.httperror] INFO: Ignoring response <404 https://www.booking.com/city/fr/ariege.fr.html>: HTTP status code is not handled or not allowed\n",
      "2022-07-10 13:24:09 [scrapy.extensions.logstats] INFO: Crawled 411 pages (at 62 pages/min), scraped 376 items (at 46 items/min)\n",
      "2022-07-10 13:25:09 [scrapy.extensions.logstats] INFO: Crawled 465 pages (at 54 pages/min), scraped 430 items (at 54 items/min)\n",
      "2022-07-10 13:26:09 [scrapy.extensions.logstats] INFO: Crawled 518 pages (at 53 pages/min), scraped 483 items (at 53 items/min)\n",
      "2022-07-10 13:27:09 [scrapy.extensions.logstats] INFO: Crawled 569 pages (at 51 pages/min), scraped 534 items (at 51 items/min)\n",
      "2022-07-10 13:28:09 [scrapy.extensions.logstats] INFO: Crawled 616 pages (at 47 pages/min), scraped 581 items (at 47 items/min)\n",
      "2022-07-10 13:29:09 [scrapy.extensions.logstats] INFO: Crawled 668 pages (at 52 pages/min), scraped 633 items (at 52 items/min)\n",
      "2022-07-10 13:29:55 [scrapy.core.engine] INFO: Closing spider (finished)\n",
      "2022-07-10 13:29:55 [scrapy.extensions.feedexport] INFO: Stored json feed (671 items) in: src/booking_data.json\n",
      "2022-07-10 13:29:55 [scrapy.statscollectors] INFO: Dumping Scrapy stats:\n",
      "{'downloader/request_bytes': 733136,\n",
      " 'downloader/request_count': 706,\n",
      " 'downloader/request_method_count/GET': 706,\n",
      " 'downloader/response_bytes': 197249945,\n",
      " 'downloader/response_count': 706,\n",
      " 'downloader/response_status_count/200': 701,\n",
      " 'downloader/response_status_count/404': 5,\n",
      " 'dupefilter/filtered': 116,\n",
      " 'elapsed_time_seconds': 826.109725,\n",
      " 'feedexport/success_count/FileFeedStorage': 1,\n",
      " 'finish_reason': 'finished',\n",
      " 'finish_time': datetime.datetime(2022, 7, 10, 11, 29, 55, 285819),\n",
      " 'httpcompression/response_bytes': 926362277,\n",
      " 'httpcompression/response_count': 706,\n",
      " 'httperror/response_ignored_count': 5,\n",
      " 'httperror/response_ignored_status_count/404': 5,\n",
      " 'item_scraped_count': 671,\n",
      " 'log_count/INFO': 29,\n",
      " 'request_depth_max': 1,\n",
      " 'response_received_count': 706,\n",
      " 'scheduler/dequeued': 706,\n",
      " 'scheduler/dequeued/memory': 706,\n",
      " 'scheduler/enqueued': 706,\n",
      " 'scheduler/enqueued/memory': 706,\n",
      " 'start_time': datetime.datetime(2022, 7, 10, 11, 16, 9, 176094)}\n",
      "2022-07-10 13:29:55 [scrapy.core.engine] INFO: Spider closed (finished)\n"
     ]
    }
   ],
   "source": [
    "import sys\n",
    "import twisted.internet\n",
    "\n",
    "# Name of the file where the results will be saved\n",
    "filename = \"booking_data.json\"\n",
    "\n",
    "# If file already exists, delete it before crawling (because Scrapy will concatenate the last and new results otherwise)\n",
    "if filename in os.listdir('./src/'):\n",
    "        os.remove('./src/' + filename)\n",
    "\n",
    "# Declare a new CrawlerProcess with some settings\n",
    "process = CrawlerProcess(settings = {\n",
    "    'USER_AGENT': 'Mozilla/5.0 (Windows NT 10.0; Win64; x64) AppleWebKit/537.36 (KHTML, like Gecko) Chrome/98.0.4758.102 Safari/537.36', #changer user \n",
    "    'LOG_LEVEL': logging.INFO,\n",
    "    \"FEEDS\": {\n",
    "        'src/' + filename : {\"format\": \"json\"},\n",
    "    },\n",
    "    \"AUTOTHROTTLE_ENABLED\": True  # AutoThrottle Here!\n",
    "})\n",
    "\n",
    "# Start the crawling using the spider defined above\n",
    "process.crawl(BookingSpider, start_urls=url_list)\n",
    "process.start()"
   ]
  },
  {
   "cell_type": "code",
   "execution_count": 38,
   "metadata": {},
   "outputs": [
    {
     "data": {
      "text/html": [
       "<div>\n",
       "<style scoped>\n",
       "    .dataframe tbody tr th:only-of-type {\n",
       "        vertical-align: middle;\n",
       "    }\n",
       "\n",
       "    .dataframe tbody tr th {\n",
       "        vertical-align: top;\n",
       "    }\n",
       "\n",
       "    .dataframe thead th {\n",
       "        text-align: right;\n",
       "    }\n",
       "</style>\n",
       "<table border=\"1\" class=\"dataframe\">\n",
       "  <thead>\n",
       "    <tr style=\"text-align: right;\">\n",
       "      <th></th>\n",
       "      <th>Hotel_name</th>\n",
       "      <th>Rating</th>\n",
       "      <th>Coordinates</th>\n",
       "      <th>Description</th>\n",
       "      <th>Link</th>\n",
       "      <th>City</th>\n",
       "    </tr>\n",
       "  </thead>\n",
       "  <tbody>\n",
       "    <tr>\n",
       "      <th>0</th>\n",
       "      <td>Hôtel d'Argouges</td>\n",
       "      <td>8,8</td>\n",
       "      <td>49.27899410,-0.70841700</td>\n",
       "      <td>[L'Hôtel d'Argouges est un établissement du XV...</td>\n",
       "      <td>&lt;200 https://www.booking.com/hotel/fr/d-argoug...</td>\n",
       "      <td>2</td>\n",
       "    </tr>\n",
       "    <tr>\n",
       "      <th>1</th>\n",
       "      <td>Best Western ARThotel</td>\n",
       "      <td>7,8</td>\n",
       "      <td>49.49119366,0.10646090</td>\n",
       "      <td>[Vous pouvez bénéficier d'une réduction Genius...</td>\n",
       "      <td>&lt;200 https://www.booking.com/hotel/fr/art.fr.h...</td>\n",
       "      <td>3</td>\n",
       "    </tr>\n",
       "    <tr>\n",
       "      <th>2</th>\n",
       "      <td>Relais Hôtel du Vieux Paris</td>\n",
       "      <td>9,1</td>\n",
       "      <td>48.85394156,2.34287538</td>\n",
       "      <td>[Vous pouvez bénéficier d'une réduction Genius...</td>\n",
       "      <td>&lt;200 https://www.booking.com/hotel/fr/relaisho...</td>\n",
       "      <td>5</td>\n",
       "    </tr>\n",
       "    <tr>\n",
       "      <th>3</th>\n",
       "      <td>Hôtel Paulette Rouen centre NOUVEAU</td>\n",
       "      <td>7,5</td>\n",
       "      <td>49.43872283,1.09135196</td>\n",
       "      <td>[Vous pouvez bénéficier d'une réduction Genius...</td>\n",
       "      <td>&lt;200 https://www.booking.com/hotel/fr/hotel-de...</td>\n",
       "      <td>4</td>\n",
       "    </tr>\n",
       "    <tr>\n",
       "      <th>4</th>\n",
       "      <td>The Originals Boutique Hôtel Amiens Sud</td>\n",
       "      <td>7,7</td>\n",
       "      <td>49.87961282,2.26665102</td>\n",
       "      <td>[Situé à Amiens, à 1,9 km du Zénith, l'établis...</td>\n",
       "      <td>&lt;200 https://www.booking.com/hotel/fr/the-orig...</td>\n",
       "      <td>6</td>\n",
       "    </tr>\n",
       "    <tr>\n",
       "      <th>5</th>\n",
       "      <td>ibis Lille Centre Gares</td>\n",
       "      <td>7,8</td>\n",
       "      <td>50.63470383,3.07080008</td>\n",
       "      <td>[Situé à 100 mètres de la gare de Lille Flandr...</td>\n",
       "      <td>&lt;200 https://www.booking.com/hotel/fr/ibis-lil...</td>\n",
       "      <td>7</td>\n",
       "    </tr>\n",
       "    <tr>\n",
       "      <th>6</th>\n",
       "      <td>Hotel Chagnot</td>\n",
       "      <td>7,8</td>\n",
       "      <td>50.63624596,3.06924239</td>\n",
       "      <td>[L'Hotel Chagnot est situé dans le centre-vill...</td>\n",
       "      <td>&lt;200 https://www.booking.com/hotel/fr/hotel-ba...</td>\n",
       "      <td>7</td>\n",
       "    </tr>\n",
       "    <tr>\n",
       "      <th>7</th>\n",
       "      <td>Best Western Plus Monopole Métropole</td>\n",
       "      <td>8,6</td>\n",
       "      <td>48.58501891,7.73882546</td>\n",
       "      <td>[Vous pouvez bénéficier d'une réduction Genius...</td>\n",
       "      <td>&lt;200 https://www.booking.com/hotel/fr/monopole...</td>\n",
       "      <td>8</td>\n",
       "    </tr>\n",
       "    <tr>\n",
       "      <th>8</th>\n",
       "      <td>Le Hameau d'Eguisheim - Chambres d'hôtes &amp; Gîtes</td>\n",
       "      <td>9,0</td>\n",
       "      <td>48.04252897,7.30712727</td>\n",
       "      <td>[Occupant une maison à colombages typiquement ...</td>\n",
       "      <td>&lt;200 https://www.booking.com/hotel/fr/le-hamea...</td>\n",
       "      <td>11</td>\n",
       "    </tr>\n",
       "    <tr>\n",
       "      <th>9</th>\n",
       "      <td>Hôtel du Ladhof</td>\n",
       "      <td>5,7</td>\n",
       "      <td>48.10698881,7.38608211</td>\n",
       "      <td>[Cet établissement est à 13 minutes à pied de ...</td>\n",
       "      <td>&lt;200 https://www.booking.com/hotel/fr/ha-tel-d...</td>\n",
       "      <td>10</td>\n",
       "    </tr>\n",
       "  </tbody>\n",
       "</table>\n",
       "</div>"
      ],
      "text/plain": [
       "                                         Hotel_name Rating  \\\n",
       "0                                  Hôtel d'Argouges    8,8   \n",
       "1                             Best Western ARThotel    7,8   \n",
       "2                       Relais Hôtel du Vieux Paris    9,1   \n",
       "3               Hôtel Paulette Rouen centre NOUVEAU    7,5   \n",
       "4           The Originals Boutique Hôtel Amiens Sud    7,7   \n",
       "5                           ibis Lille Centre Gares    7,8   \n",
       "6                                     Hotel Chagnot    7,8   \n",
       "7              Best Western Plus Monopole Métropole    8,6   \n",
       "8  Le Hameau d'Eguisheim - Chambres d'hôtes & Gîtes    9,0   \n",
       "9                                   Hôtel du Ladhof    5,7   \n",
       "\n",
       "               Coordinates                                        Description  \\\n",
       "0  49.27899410,-0.70841700  [L'Hôtel d'Argouges est un établissement du XV...   \n",
       "1   49.49119366,0.10646090  [Vous pouvez bénéficier d'une réduction Genius...   \n",
       "2   48.85394156,2.34287538  [Vous pouvez bénéficier d'une réduction Genius...   \n",
       "3   49.43872283,1.09135196  [Vous pouvez bénéficier d'une réduction Genius...   \n",
       "4   49.87961282,2.26665102  [Situé à Amiens, à 1,9 km du Zénith, l'établis...   \n",
       "5   50.63470383,3.07080008  [Situé à 100 mètres de la gare de Lille Flandr...   \n",
       "6   50.63624596,3.06924239  [L'Hotel Chagnot est situé dans le centre-vill...   \n",
       "7   48.58501891,7.73882546  [Vous pouvez bénéficier d'une réduction Genius...   \n",
       "8   48.04252897,7.30712727  [Occupant une maison à colombages typiquement ...   \n",
       "9   48.10698881,7.38608211  [Cet établissement est à 13 minutes à pied de ...   \n",
       "\n",
       "                                                Link  City  \n",
       "0  <200 https://www.booking.com/hotel/fr/d-argoug...     2  \n",
       "1  <200 https://www.booking.com/hotel/fr/art.fr.h...     3  \n",
       "2  <200 https://www.booking.com/hotel/fr/relaisho...     5  \n",
       "3  <200 https://www.booking.com/hotel/fr/hotel-de...     4  \n",
       "4  <200 https://www.booking.com/hotel/fr/the-orig...     6  \n",
       "5  <200 https://www.booking.com/hotel/fr/ibis-lil...     7  \n",
       "6  <200 https://www.booking.com/hotel/fr/hotel-ba...     7  \n",
       "7  <200 https://www.booking.com/hotel/fr/monopole...     8  \n",
       "8  <200 https://www.booking.com/hotel/fr/le-hamea...    11  \n",
       "9  <200 https://www.booking.com/hotel/fr/ha-tel-d...    10  "
      ]
     },
     "execution_count": 38,
     "metadata": {},
     "output_type": "execute_result"
    }
   ],
   "source": [
    "#read the json file as a dataframe\n",
    "hotel_df=pd.read_json(\"./src/booking_data.json\")\n",
    "hotel_df.head(10)"
   ]
  },
  {
   "cell_type": "markdown",
   "metadata": {},
   "source": [
    "## PREPROCESSING AND SAVING DATA INTO A CSV"
   ]
  },
  {
   "cell_type": "code",
   "execution_count": 42,
   "metadata": {},
   "outputs": [
    {
     "data": {
      "text/html": [
       "<div>\n",
       "<style scoped>\n",
       "    .dataframe tbody tr th:only-of-type {\n",
       "        vertical-align: middle;\n",
       "    }\n",
       "\n",
       "    .dataframe tbody tr th {\n",
       "        vertical-align: top;\n",
       "    }\n",
       "\n",
       "    .dataframe thead th {\n",
       "        text-align: right;\n",
       "    }\n",
       "</style>\n",
       "<table border=\"1\" class=\"dataframe\">\n",
       "  <thead>\n",
       "    <tr style=\"text-align: right;\">\n",
       "      <th></th>\n",
       "      <th>Hotel_name</th>\n",
       "      <th>Rating</th>\n",
       "      <th>Coordinates</th>\n",
       "      <th>Description</th>\n",
       "      <th>Link</th>\n",
       "      <th>City_name</th>\n",
       "    </tr>\n",
       "  </thead>\n",
       "  <tbody>\n",
       "    <tr>\n",
       "      <th>0</th>\n",
       "      <td>Hôtel d'Argouges</td>\n",
       "      <td>8,8</td>\n",
       "      <td>49.27899410,-0.70841700</td>\n",
       "      <td>[L'Hôtel d'Argouges est un établissement du XV...</td>\n",
       "      <td>&lt;200 https://www.booking.com/hotel/fr/d-argoug...</td>\n",
       "      <td>Bayeux</td>\n",
       "    </tr>\n",
       "    <tr>\n",
       "      <th>1</th>\n",
       "      <td>Best Western ARThotel</td>\n",
       "      <td>7,8</td>\n",
       "      <td>49.49119366,0.10646090</td>\n",
       "      <td>[Vous pouvez bénéficier d'une réduction Genius...</td>\n",
       "      <td>&lt;200 https://www.booking.com/hotel/fr/art.fr.h...</td>\n",
       "      <td>Le Havre</td>\n",
       "    </tr>\n",
       "    <tr>\n",
       "      <th>2</th>\n",
       "      <td>Relais Hôtel du Vieux Paris</td>\n",
       "      <td>9,1</td>\n",
       "      <td>48.85394156,2.34287538</td>\n",
       "      <td>[Vous pouvez bénéficier d'une réduction Genius...</td>\n",
       "      <td>&lt;200 https://www.booking.com/hotel/fr/relaisho...</td>\n",
       "      <td>Paris</td>\n",
       "    </tr>\n",
       "    <tr>\n",
       "      <th>3</th>\n",
       "      <td>Hôtel Paulette Rouen centre NOUVEAU</td>\n",
       "      <td>7,5</td>\n",
       "      <td>49.43872283,1.09135196</td>\n",
       "      <td>[Vous pouvez bénéficier d'une réduction Genius...</td>\n",
       "      <td>&lt;200 https://www.booking.com/hotel/fr/hotel-de...</td>\n",
       "      <td>Rouen</td>\n",
       "    </tr>\n",
       "    <tr>\n",
       "      <th>4</th>\n",
       "      <td>The Originals Boutique Hôtel Amiens Sud</td>\n",
       "      <td>7,7</td>\n",
       "      <td>49.87961282,2.26665102</td>\n",
       "      <td>[Situé à Amiens, à 1,9 km du Zénith, l'établis...</td>\n",
       "      <td>&lt;200 https://www.booking.com/hotel/fr/the-orig...</td>\n",
       "      <td>Amiens</td>\n",
       "    </tr>\n",
       "    <tr>\n",
       "      <th>...</th>\n",
       "      <td>...</td>\n",
       "      <td>...</td>\n",
       "      <td>...</td>\n",
       "      <td>...</td>\n",
       "      <td>...</td>\n",
       "      <td>...</td>\n",
       "    </tr>\n",
       "    <tr>\n",
       "      <th>95</th>\n",
       "      <td>Campanile Annecy Centre - Gare</td>\n",
       "      <td>8,2</td>\n",
       "      <td>45.90110730,6.12266150</td>\n",
       "      <td>[Situé à Annecy, à 300 mètres de la gare ainsi...</td>\n",
       "      <td>&lt;200 https://www.booking.com/hotel/fr/campanil...</td>\n",
       "      <td>Annecy</td>\n",
       "    </tr>\n",
       "    <tr>\n",
       "      <th>96</th>\n",
       "      <td>Hôtel Les Muses</td>\n",
       "      <td>7,7</td>\n",
       "      <td>45.90611920,6.15546584</td>\n",
       "      <td>[Vous pouvez bénéficier d'une réduction Genius...</td>\n",
       "      <td>&lt;200 https://www.booking.com/hotel/fr/marina-b...</td>\n",
       "      <td>Annecy</td>\n",
       "    </tr>\n",
       "    <tr>\n",
       "      <th>97</th>\n",
       "      <td>Centre Jean XXIII</td>\n",
       "      <td>7,6</td>\n",
       "      <td>45.91832270,6.15250680</td>\n",
       "      <td>[Vous pouvez bénéficier d'une réduction Genius...</td>\n",
       "      <td>&lt;200 https://www.booking.com/hotel/fr/centre-j...</td>\n",
       "      <td>Annecy</td>\n",
       "    </tr>\n",
       "    <tr>\n",
       "      <th>98</th>\n",
       "      <td>Premiere Classe Annecy Cran-Gevrier</td>\n",
       "      <td>6,1</td>\n",
       "      <td>45.89543080,6.10984620</td>\n",
       "      <td>[Doté d’un jardin, le Premiere Classe Annecy S...</td>\n",
       "      <td>&lt;200 https://www.booking.com/hotel/fr/premiere...</td>\n",
       "      <td>Annecy</td>\n",
       "    </tr>\n",
       "    <tr>\n",
       "      <th>99</th>\n",
       "      <td>Best Hotel Annecy</td>\n",
       "      <td>7,8</td>\n",
       "      <td>45.90074937,6.10030085</td>\n",
       "      <td>[Le Best Hôtel Annecy - Cran Gevrier est insta...</td>\n",
       "      <td>&lt;200 https://www.booking.com/hotel/fr/best-ha-...</td>\n",
       "      <td>Annecy</td>\n",
       "    </tr>\n",
       "  </tbody>\n",
       "</table>\n",
       "<p>100 rows × 6 columns</p>\n",
       "</div>"
      ],
      "text/plain": [
       "                                 Hotel_name Rating              Coordinates  \\\n",
       "0                          Hôtel d'Argouges    8,8  49.27899410,-0.70841700   \n",
       "1                     Best Western ARThotel    7,8   49.49119366,0.10646090   \n",
       "2               Relais Hôtel du Vieux Paris    9,1   48.85394156,2.34287538   \n",
       "3       Hôtel Paulette Rouen centre NOUVEAU    7,5   49.43872283,1.09135196   \n",
       "4   The Originals Boutique Hôtel Amiens Sud    7,7   49.87961282,2.26665102   \n",
       "..                                      ...    ...                      ...   \n",
       "95           Campanile Annecy Centre - Gare    8,2   45.90110730,6.12266150   \n",
       "96                          Hôtel Les Muses    7,7   45.90611920,6.15546584   \n",
       "97                        Centre Jean XXIII    7,6   45.91832270,6.15250680   \n",
       "98      Premiere Classe Annecy Cran-Gevrier    6,1   45.89543080,6.10984620   \n",
       "99                        Best Hotel Annecy    7,8   45.90074937,6.10030085   \n",
       "\n",
       "                                          Description  \\\n",
       "0   [L'Hôtel d'Argouges est un établissement du XV...   \n",
       "1   [Vous pouvez bénéficier d'une réduction Genius...   \n",
       "2   [Vous pouvez bénéficier d'une réduction Genius...   \n",
       "3   [Vous pouvez bénéficier d'une réduction Genius...   \n",
       "4   [Situé à Amiens, à 1,9 km du Zénith, l'établis...   \n",
       "..                                                ...   \n",
       "95  [Situé à Annecy, à 300 mètres de la gare ainsi...   \n",
       "96  [Vous pouvez bénéficier d'une réduction Genius...   \n",
       "97  [Vous pouvez bénéficier d'une réduction Genius...   \n",
       "98  [Doté d’un jardin, le Premiere Classe Annecy S...   \n",
       "99  [Le Best Hôtel Annecy - Cran Gevrier est insta...   \n",
       "\n",
       "                                                 Link City_name  \n",
       "0   <200 https://www.booking.com/hotel/fr/d-argoug...    Bayeux  \n",
       "1   <200 https://www.booking.com/hotel/fr/art.fr.h...  Le Havre  \n",
       "2   <200 https://www.booking.com/hotel/fr/relaisho...     Paris  \n",
       "3   <200 https://www.booking.com/hotel/fr/hotel-de...     Rouen  \n",
       "4   <200 https://www.booking.com/hotel/fr/the-orig...    Amiens  \n",
       "..                                                ...       ...  \n",
       "95  <200 https://www.booking.com/hotel/fr/campanil...    Annecy  \n",
       "96  <200 https://www.booking.com/hotel/fr/marina-b...    Annecy  \n",
       "97  <200 https://www.booking.com/hotel/fr/centre-j...    Annecy  \n",
       "98  <200 https://www.booking.com/hotel/fr/premiere...    Annecy  \n",
       "99  <200 https://www.booking.com/hotel/fr/best-ha-...    Annecy  \n",
       "\n",
       "[100 rows x 6 columns]"
      ]
     },
     "execution_count": 42,
     "metadata": {},
     "output_type": "execute_result"
    }
   ],
   "source": [
    "#replace cities index with their names\n",
    "hotel_df['City_name']=[cities_list[x]  for x in hotel_df.City]\n",
    "hotel_df.drop('City', axis=1, inplace=True)\n",
    "hotel_df.head(100)"
   ]
  },
  {
   "cell_type": "code",
   "execution_count": 43,
   "metadata": {},
   "outputs": [
    {
     "data": {
      "text/html": [
       "<div>\n",
       "<style scoped>\n",
       "    .dataframe tbody tr th:only-of-type {\n",
       "        vertical-align: middle;\n",
       "    }\n",
       "\n",
       "    .dataframe tbody tr th {\n",
       "        vertical-align: top;\n",
       "    }\n",
       "\n",
       "    .dataframe thead th {\n",
       "        text-align: right;\n",
       "    }\n",
       "</style>\n",
       "<table border=\"1\" class=\"dataframe\">\n",
       "  <thead>\n",
       "    <tr style=\"text-align: right;\">\n",
       "      <th></th>\n",
       "      <th>Hotel_name</th>\n",
       "      <th>Rating</th>\n",
       "      <th>Coordinates</th>\n",
       "      <th>Description</th>\n",
       "      <th>Link</th>\n",
       "      <th>City_name</th>\n",
       "    </tr>\n",
       "  </thead>\n",
       "  <tbody>\n",
       "    <tr>\n",
       "      <th>0</th>\n",
       "      <td>Hôtel d'Argouges</td>\n",
       "      <td>8,8</td>\n",
       "      <td>49.27899410,-0.70841700</td>\n",
       "      <td>[L'Hôtel d'Argouges est un établissement du XV...</td>\n",
       "      <td>https://www.booking.com/hotel/fr/d-argouges.f...</td>\n",
       "      <td>Bayeux</td>\n",
       "    </tr>\n",
       "    <tr>\n",
       "      <th>1</th>\n",
       "      <td>Best Western ARThotel</td>\n",
       "      <td>7,8</td>\n",
       "      <td>49.49119366,0.10646090</td>\n",
       "      <td>[Vous pouvez bénéficier d'une réduction Genius...</td>\n",
       "      <td>https://www.booking.com/hotel/fr/art.fr.html?...</td>\n",
       "      <td>Le Havre</td>\n",
       "    </tr>\n",
       "    <tr>\n",
       "      <th>2</th>\n",
       "      <td>Relais Hôtel du Vieux Paris</td>\n",
       "      <td>9,1</td>\n",
       "      <td>48.85394156,2.34287538</td>\n",
       "      <td>[Vous pouvez bénéficier d'une réduction Genius...</td>\n",
       "      <td>https://www.booking.com/hotel/fr/relaishotelv...</td>\n",
       "      <td>Paris</td>\n",
       "    </tr>\n",
       "    <tr>\n",
       "      <th>3</th>\n",
       "      <td>Hôtel Paulette Rouen centre NOUVEAU</td>\n",
       "      <td>7,5</td>\n",
       "      <td>49.43872283,1.09135196</td>\n",
       "      <td>[Vous pouvez bénéficier d'une réduction Genius...</td>\n",
       "      <td>https://www.booking.com/hotel/fr/hotel-de-par...</td>\n",
       "      <td>Rouen</td>\n",
       "    </tr>\n",
       "    <tr>\n",
       "      <th>4</th>\n",
       "      <td>The Originals Boutique Hôtel Amiens Sud</td>\n",
       "      <td>7,7</td>\n",
       "      <td>49.87961282,2.26665102</td>\n",
       "      <td>[Situé à Amiens, à 1,9 km du Zénith, l'établis...</td>\n",
       "      <td>https://www.booking.com/hotel/fr/the-original...</td>\n",
       "      <td>Amiens</td>\n",
       "    </tr>\n",
       "  </tbody>\n",
       "</table>\n",
       "</div>"
      ],
      "text/plain": [
       "                                Hotel_name Rating              Coordinates  \\\n",
       "0                         Hôtel d'Argouges    8,8  49.27899410,-0.70841700   \n",
       "1                    Best Western ARThotel    7,8   49.49119366,0.10646090   \n",
       "2              Relais Hôtel du Vieux Paris    9,1   48.85394156,2.34287538   \n",
       "3      Hôtel Paulette Rouen centre NOUVEAU    7,5   49.43872283,1.09135196   \n",
       "4  The Originals Boutique Hôtel Amiens Sud    7,7   49.87961282,2.26665102   \n",
       "\n",
       "                                         Description  \\\n",
       "0  [L'Hôtel d'Argouges est un établissement du XV...   \n",
       "1  [Vous pouvez bénéficier d'une réduction Genius...   \n",
       "2  [Vous pouvez bénéficier d'une réduction Genius...   \n",
       "3  [Vous pouvez bénéficier d'une réduction Genius...   \n",
       "4  [Situé à Amiens, à 1,9 km du Zénith, l'établis...   \n",
       "\n",
       "                                                Link City_name  \n",
       "0   https://www.booking.com/hotel/fr/d-argouges.f...    Bayeux  \n",
       "1   https://www.booking.com/hotel/fr/art.fr.html?...  Le Havre  \n",
       "2   https://www.booking.com/hotel/fr/relaishotelv...     Paris  \n",
       "3   https://www.booking.com/hotel/fr/hotel-de-par...     Rouen  \n",
       "4   https://www.booking.com/hotel/fr/the-original...    Amiens  "
      ]
     },
     "execution_count": 43,
     "metadata": {},
     "output_type": "execute_result"
    }
   ],
   "source": [
    "hotel_df.Link= hotel_df.Link.str.replace(\"<200\",\"\").str.replace(\">\",\"\")\n",
    "hotel_df.head()"
   ]
  },
  {
   "cell_type": "code",
   "execution_count": 44,
   "metadata": {},
   "outputs": [],
   "source": [
    "#convert Rating column to float\n",
    "hotel_df.Rating= hotel_df.Rating.str.replace(\",\",\".\")\n",
    "hotel_df.Rating= hotel_df.Rating.astype(float)"
   ]
  },
  {
   "cell_type": "code",
   "execution_count": 45,
   "metadata": {},
   "outputs": [
    {
     "data": {
      "text/html": [
       "<div>\n",
       "<style scoped>\n",
       "    .dataframe tbody tr th:only-of-type {\n",
       "        vertical-align: middle;\n",
       "    }\n",
       "\n",
       "    .dataframe tbody tr th {\n",
       "        vertical-align: top;\n",
       "    }\n",
       "\n",
       "    .dataframe thead th {\n",
       "        text-align: right;\n",
       "    }\n",
       "</style>\n",
       "<table border=\"1\" class=\"dataframe\">\n",
       "  <thead>\n",
       "    <tr style=\"text-align: right;\">\n",
       "      <th></th>\n",
       "      <th>Hotel_name</th>\n",
       "      <th>Rating</th>\n",
       "      <th>Description</th>\n",
       "      <th>Link</th>\n",
       "      <th>City_name</th>\n",
       "      <th>Lat</th>\n",
       "      <th>Lon</th>\n",
       "    </tr>\n",
       "  </thead>\n",
       "  <tbody>\n",
       "    <tr>\n",
       "      <th>0</th>\n",
       "      <td>Hôtel d'Argouges</td>\n",
       "      <td>8.8</td>\n",
       "      <td>[L'Hôtel d'Argouges est un établissement du XV...</td>\n",
       "      <td>https://www.booking.com/hotel/fr/d-argouges.f...</td>\n",
       "      <td>Bayeux</td>\n",
       "      <td>49.278994</td>\n",
       "      <td>-0.708417</td>\n",
       "    </tr>\n",
       "    <tr>\n",
       "      <th>1</th>\n",
       "      <td>Best Western ARThotel</td>\n",
       "      <td>7.8</td>\n",
       "      <td>[Vous pouvez bénéficier d'une réduction Genius...</td>\n",
       "      <td>https://www.booking.com/hotel/fr/art.fr.html?...</td>\n",
       "      <td>Le Havre</td>\n",
       "      <td>49.491194</td>\n",
       "      <td>0.106461</td>\n",
       "    </tr>\n",
       "    <tr>\n",
       "      <th>2</th>\n",
       "      <td>Relais Hôtel du Vieux Paris</td>\n",
       "      <td>9.1</td>\n",
       "      <td>[Vous pouvez bénéficier d'une réduction Genius...</td>\n",
       "      <td>https://www.booking.com/hotel/fr/relaishotelv...</td>\n",
       "      <td>Paris</td>\n",
       "      <td>48.853942</td>\n",
       "      <td>2.342875</td>\n",
       "    </tr>\n",
       "    <tr>\n",
       "      <th>3</th>\n",
       "      <td>Hôtel Paulette Rouen centre NOUVEAU</td>\n",
       "      <td>7.5</td>\n",
       "      <td>[Vous pouvez bénéficier d'une réduction Genius...</td>\n",
       "      <td>https://www.booking.com/hotel/fr/hotel-de-par...</td>\n",
       "      <td>Rouen</td>\n",
       "      <td>49.438723</td>\n",
       "      <td>1.091352</td>\n",
       "    </tr>\n",
       "    <tr>\n",
       "      <th>4</th>\n",
       "      <td>The Originals Boutique Hôtel Amiens Sud</td>\n",
       "      <td>7.7</td>\n",
       "      <td>[Situé à Amiens, à 1,9 km du Zénith, l'établis...</td>\n",
       "      <td>https://www.booking.com/hotel/fr/the-original...</td>\n",
       "      <td>Amiens</td>\n",
       "      <td>49.879613</td>\n",
       "      <td>2.266651</td>\n",
       "    </tr>\n",
       "  </tbody>\n",
       "</table>\n",
       "</div>"
      ],
      "text/plain": [
       "                                Hotel_name  Rating  \\\n",
       "0                         Hôtel d'Argouges     8.8   \n",
       "1                    Best Western ARThotel     7.8   \n",
       "2              Relais Hôtel du Vieux Paris     9.1   \n",
       "3      Hôtel Paulette Rouen centre NOUVEAU     7.5   \n",
       "4  The Originals Boutique Hôtel Amiens Sud     7.7   \n",
       "\n",
       "                                         Description  \\\n",
       "0  [L'Hôtel d'Argouges est un établissement du XV...   \n",
       "1  [Vous pouvez bénéficier d'une réduction Genius...   \n",
       "2  [Vous pouvez bénéficier d'une réduction Genius...   \n",
       "3  [Vous pouvez bénéficier d'une réduction Genius...   \n",
       "4  [Situé à Amiens, à 1,9 km du Zénith, l'établis...   \n",
       "\n",
       "                                                Link City_name        Lat  \\\n",
       "0   https://www.booking.com/hotel/fr/d-argouges.f...    Bayeux  49.278994   \n",
       "1   https://www.booking.com/hotel/fr/art.fr.html?...  Le Havre  49.491194   \n",
       "2   https://www.booking.com/hotel/fr/relaishotelv...     Paris  48.853942   \n",
       "3   https://www.booking.com/hotel/fr/hotel-de-par...     Rouen  49.438723   \n",
       "4   https://www.booking.com/hotel/fr/the-original...    Amiens  49.879613   \n",
       "\n",
       "        Lon  \n",
       "0 -0.708417  \n",
       "1  0.106461  \n",
       "2  2.342875  \n",
       "3  1.091352  \n",
       "4  2.266651  "
      ]
     },
     "execution_count": 45,
     "metadata": {},
     "output_type": "execute_result"
    }
   ],
   "source": [
    "\n",
    "#split the coordinate into Latitude and longitude \n",
    "hotel_df[['Lat', 'Lon']] = hotel_df['Coordinates'].str.split(',', expand=True)\n",
    "hotel_df.drop('Coordinates',axis=1, inplace=True)\n",
    "hotel_df.Lon=[float(x) for x in hotel_df.Lon]\n",
    "hotel_df.Lat=[float(x) for x in hotel_df.Lat]\n",
    "hotel_df.head()"
   ]
  },
  {
   "cell_type": "code",
   "execution_count": 46,
   "metadata": {},
   "outputs": [
    {
     "data": {
      "text/html": [
       "<div>\n",
       "<style scoped>\n",
       "    .dataframe tbody tr th:only-of-type {\n",
       "        vertical-align: middle;\n",
       "    }\n",
       "\n",
       "    .dataframe tbody tr th {\n",
       "        vertical-align: top;\n",
       "    }\n",
       "\n",
       "    .dataframe thead th {\n",
       "        text-align: right;\n",
       "    }\n",
       "</style>\n",
       "<table border=\"1\" class=\"dataframe\">\n",
       "  <thead>\n",
       "    <tr style=\"text-align: right;\">\n",
       "      <th></th>\n",
       "      <th>Hotel_name</th>\n",
       "      <th>Rating</th>\n",
       "      <th>Description</th>\n",
       "      <th>Link</th>\n",
       "      <th>City_name</th>\n",
       "      <th>Lat</th>\n",
       "      <th>Lon</th>\n",
       "    </tr>\n",
       "  </thead>\n",
       "  <tbody>\n",
       "    <tr>\n",
       "      <th>0</th>\n",
       "      <td>Hôtel d'Argouges</td>\n",
       "      <td>8.8</td>\n",
       "      <td>L'Hôtel d'Argouges est un établissement du XVI...</td>\n",
       "      <td>https://www.booking.com/hotel/fr/d-argouges.f...</td>\n",
       "      <td>Bayeux</td>\n",
       "      <td>49.278994</td>\n",
       "      <td>-0.708417</td>\n",
       "    </tr>\n",
       "    <tr>\n",
       "      <th>1</th>\n",
       "      <td>Best Western ARThotel</td>\n",
       "      <td>7.8</td>\n",
       "      <td>Vous pouvez bénéficier d'une réduction Genius ...</td>\n",
       "      <td>https://www.booking.com/hotel/fr/art.fr.html?...</td>\n",
       "      <td>Le Havre</td>\n",
       "      <td>49.491194</td>\n",
       "      <td>0.106461</td>\n",
       "    </tr>\n",
       "    <tr>\n",
       "      <th>2</th>\n",
       "      <td>Relais Hôtel du Vieux Paris</td>\n",
       "      <td>9.1</td>\n",
       "      <td>Vous pouvez bénéficier d'une réduction Genius ...</td>\n",
       "      <td>https://www.booking.com/hotel/fr/relaishotelv...</td>\n",
       "      <td>Paris</td>\n",
       "      <td>48.853942</td>\n",
       "      <td>2.342875</td>\n",
       "    </tr>\n",
       "    <tr>\n",
       "      <th>3</th>\n",
       "      <td>Hôtel Paulette Rouen centre NOUVEAU</td>\n",
       "      <td>7.5</td>\n",
       "      <td>Vous pouvez bénéficier d'une réduction Genius ...</td>\n",
       "      <td>https://www.booking.com/hotel/fr/hotel-de-par...</td>\n",
       "      <td>Rouen</td>\n",
       "      <td>49.438723</td>\n",
       "      <td>1.091352</td>\n",
       "    </tr>\n",
       "    <tr>\n",
       "      <th>4</th>\n",
       "      <td>The Originals Boutique Hôtel Amiens Sud</td>\n",
       "      <td>7.7</td>\n",
       "      <td>Situé à Amiens, à 1,9 km du Zénith, l'établiss...</td>\n",
       "      <td>https://www.booking.com/hotel/fr/the-original...</td>\n",
       "      <td>Amiens</td>\n",
       "      <td>49.879613</td>\n",
       "      <td>2.266651</td>\n",
       "    </tr>\n",
       "  </tbody>\n",
       "</table>\n",
       "</div>"
      ],
      "text/plain": [
       "                                Hotel_name  Rating  \\\n",
       "0                         Hôtel d'Argouges     8.8   \n",
       "1                    Best Western ARThotel     7.8   \n",
       "2              Relais Hôtel du Vieux Paris     9.1   \n",
       "3      Hôtel Paulette Rouen centre NOUVEAU     7.5   \n",
       "4  The Originals Boutique Hôtel Amiens Sud     7.7   \n",
       "\n",
       "                                         Description  \\\n",
       "0  L'Hôtel d'Argouges est un établissement du XVI...   \n",
       "1  Vous pouvez bénéficier d'une réduction Genius ...   \n",
       "2  Vous pouvez bénéficier d'une réduction Genius ...   \n",
       "3  Vous pouvez bénéficier d'une réduction Genius ...   \n",
       "4  Situé à Amiens, à 1,9 km du Zénith, l'établiss...   \n",
       "\n",
       "                                                Link City_name        Lat  \\\n",
       "0   https://www.booking.com/hotel/fr/d-argouges.f...    Bayeux  49.278994   \n",
       "1   https://www.booking.com/hotel/fr/art.fr.html?...  Le Havre  49.491194   \n",
       "2   https://www.booking.com/hotel/fr/relaishotelv...     Paris  48.853942   \n",
       "3   https://www.booking.com/hotel/fr/hotel-de-par...     Rouen  49.438723   \n",
       "4   https://www.booking.com/hotel/fr/the-original...    Amiens  49.879613   \n",
       "\n",
       "        Lon  \n",
       "0 -0.708417  \n",
       "1  0.106461  \n",
       "2  2.342875  \n",
       "3  1.091352  \n",
       "4  2.266651  "
      ]
     },
     "execution_count": 46,
     "metadata": {},
     "output_type": "execute_result"
    }
   ],
   "source": [
    "#cleaning text of description column\n",
    "hotel_df[\"Description\"]= hotel_df[\"Description\"].str.join(\" \").str.replace(\"\\n\",\"\")\n",
    "hotel_df.head()"
   ]
  },
  {
   "cell_type": "code",
   "execution_count": 47,
   "metadata": {},
   "outputs": [],
   "source": [
    "# Save hotel data into csv file\n",
    "hotel_df.to_csv('HOTEL_DATABASE.csv')"
   ]
  },
  {
   "cell_type": "markdown",
   "metadata": {},
   "source": [
    "# SAVE DATA IN S3 BUCKET"
   ]
  },
  {
   "cell_type": "code",
   "execution_count": 48,
   "metadata": {},
   "outputs": [],
   "source": [
    "# Install and import boto3 library \n",
    "#!pip install Boto3\n",
    "import boto3"
   ]
  },
  {
   "cell_type": "code",
   "execution_count": 49,
   "metadata": {},
   "outputs": [],
   "source": [
    "#set up AWS session with Boto3\n",
    "session = boto3.Session(aws_access_key_id=\"XXXXXXXXXX\", \n",
    "                        aws_secret_access_key=\"XXXXXXXXXX\")"
   ]
  },
  {
   "cell_type": "code",
   "execution_count": 50,
   "metadata": {},
   "outputs": [],
   "source": [
    "#set up an S3 ressource\n",
    "s3 = session.resource(\"s3\")"
   ]
  },
  {
   "cell_type": "code",
   "execution_count": 51,
   "metadata": {},
   "outputs": [],
   "source": [
    "#create a bucket to store data \n",
    "BUCKET_NAME = \"kayak-project\"\n",
    "bucket = s3.create_bucket(Bucket=BUCKET_NAME)"
   ]
  },
  {
   "cell_type": "code",
   "execution_count": 52,
   "metadata": {},
   "outputs": [],
   "source": [
    "#Upload CSV files\n",
    "put_object1 = bucket.put_object(Key=\"WEATHER_DATABASE.csv\", Body=\"WEATHER_DATABASE.csv\")\n",
    "put_object2 = bucket.put_object(Key=\"HOTEL_DATABASE.csv\", Body=\"HOTEL_DATABASE.csv\")"
   ]
  },
  {
   "cell_type": "markdown",
   "metadata": {},
   "source": [
    "# HOTEL VISUALIZATION "
   ]
  },
  {
   "cell_type": "code",
   "execution_count": 53,
   "metadata": {},
   "outputs": [],
   "source": [
    "#filter on top5 cities\n",
    "top5_cities_list=top5.city.unique().tolist()\n",
    "hotel_df=hotel_df[hotel_df.City_name.isin(top5_cities_list)]\n",
    "hotel_df.reset_index(drop=True, inplace=True)"
   ]
  },
  {
   "cell_type": "code",
   "execution_count": 54,
   "metadata": {},
   "outputs": [
    {
     "data": {
      "text/html": [
       "<div>\n",
       "<style scoped>\n",
       "    .dataframe tbody tr th:only-of-type {\n",
       "        vertical-align: middle;\n",
       "    }\n",
       "\n",
       "    .dataframe tbody tr th {\n",
       "        vertical-align: top;\n",
       "    }\n",
       "\n",
       "    .dataframe thead th {\n",
       "        text-align: right;\n",
       "    }\n",
       "</style>\n",
       "<table border=\"1\" class=\"dataframe\">\n",
       "  <thead>\n",
       "    <tr style=\"text-align: right;\">\n",
       "      <th></th>\n",
       "      <th>Hotel_name</th>\n",
       "      <th>Rating</th>\n",
       "      <th>Description</th>\n",
       "      <th>Link</th>\n",
       "      <th>City_name</th>\n",
       "      <th>Lat</th>\n",
       "      <th>Lon</th>\n",
       "    </tr>\n",
       "  </thead>\n",
       "  <tbody>\n",
       "    <tr>\n",
       "      <th>0</th>\n",
       "      <td>The Originals Boutique Hôtel Amiens Sud</td>\n",
       "      <td>7.7</td>\n",
       "      <td>Situé à Amiens, à 1,9 km du Zénith, l'établiss...</td>\n",
       "      <td>https://www.booking.com/hotel/fr/the-original...</td>\n",
       "      <td>Amiens</td>\n",
       "      <td>49.879613</td>\n",
       "      <td>2.266651</td>\n",
       "    </tr>\n",
       "    <tr>\n",
       "      <th>1</th>\n",
       "      <td>Best Western Plus Monopole Métropole</td>\n",
       "      <td>8.6</td>\n",
       "      <td>Vous pouvez bénéficier d'une réduction Genius ...</td>\n",
       "      <td>https://www.booking.com/hotel/fr/monopolemetr...</td>\n",
       "      <td>Strasbourg</td>\n",
       "      <td>48.585019</td>\n",
       "      <td>7.738825</td>\n",
       "    </tr>\n",
       "    <tr>\n",
       "      <th>2</th>\n",
       "      <td>Le Hameau d'Eguisheim - Chambres d'hôtes &amp; Gîtes</td>\n",
       "      <td>9.0</td>\n",
       "      <td>Occupant une maison à colombages typiquement a...</td>\n",
       "      <td>https://www.booking.com/hotel/fr/le-hameau-d-...</td>\n",
       "      <td>Eguisheim</td>\n",
       "      <td>48.042529</td>\n",
       "      <td>7.307127</td>\n",
       "    </tr>\n",
       "    <tr>\n",
       "      <th>3</th>\n",
       "      <td>Hôtel du Ladhof</td>\n",
       "      <td>5.7</td>\n",
       "      <td>Cet établissement est à 13 minutes à pied de l...</td>\n",
       "      <td>https://www.booking.com/hotel/fr/ha-tel-du-la...</td>\n",
       "      <td>Colmar</td>\n",
       "      <td>48.106989</td>\n",
       "      <td>7.386082</td>\n",
       "    </tr>\n",
       "    <tr>\n",
       "      <th>4</th>\n",
       "      <td>Contact Hôtel Foch</td>\n",
       "      <td>7.0</td>\n",
       "      <td>Situé à quelques pas de la gare de Besançon et...</td>\n",
       "      <td>https://www.booking.com/hotel/fr/foch-besanco...</td>\n",
       "      <td>Besancon</td>\n",
       "      <td>47.246197</td>\n",
       "      <td>6.023351</td>\n",
       "    </tr>\n",
       "    <tr>\n",
       "      <th>5</th>\n",
       "      <td>Brit Hotel Besancon l'Horloge</td>\n",
       "      <td>7.5</td>\n",
       "      <td>Vous pouvez bénéficier d'une réduction Genius ...</td>\n",
       "      <td>https://www.booking.com/hotel/fr/kyriad-besan...</td>\n",
       "      <td>Besancon</td>\n",
       "      <td>47.263587</td>\n",
       "      <td>6.051533</td>\n",
       "    </tr>\n",
       "    <tr>\n",
       "      <th>6</th>\n",
       "      <td>Hotel Victor Hugo &amp; Spa</td>\n",
       "      <td>8.5</td>\n",
       "      <td>L'Hotel Victor Hugo &amp; Spa propose un hébergeme...</td>\n",
       "      <td>https://www.booking.com/hotel/fr/logis-de-fra...</td>\n",
       "      <td>Besancon</td>\n",
       "      <td>47.247419</td>\n",
       "      <td>6.023643</td>\n",
       "    </tr>\n",
       "    <tr>\n",
       "      <th>7</th>\n",
       "      <td>Hôtel Restaurant Spa Le Sauvage</td>\n",
       "      <td>8.9</td>\n",
       "      <td>L'Hôtel Restaurant Spa Le Sauvage vous accueil...</td>\n",
       "      <td>https://www.booking.com/hotel/fr/ho-tel-le-sa...</td>\n",
       "      <td>Besancon</td>\n",
       "      <td>47.231718</td>\n",
       "      <td>6.027592</td>\n",
       "    </tr>\n",
       "    <tr>\n",
       "      <th>8</th>\n",
       "      <td>Hotel Campanile Besançon Nord Ecole Valentin</td>\n",
       "      <td>7.1</td>\n",
       "      <td>Le Campanile Besançon Valentin est situé à pro...</td>\n",
       "      <td>https://www.booking.com/hotel/fr/campanile-be...</td>\n",
       "      <td>Besancon</td>\n",
       "      <td>47.277848</td>\n",
       "      <td>5.992913</td>\n",
       "    </tr>\n",
       "    <tr>\n",
       "      <th>9</th>\n",
       "      <td>Doubs Hotel - Besançon Ecole Valentin</td>\n",
       "      <td>8.1</td>\n",
       "      <td>Vous pouvez bénéficier d'une réduction Genius ...</td>\n",
       "      <td>https://www.booking.com/hotel/fr/besanconecol...</td>\n",
       "      <td>Besancon</td>\n",
       "      <td>47.270700</td>\n",
       "      <td>5.995097</td>\n",
       "    </tr>\n",
       "    <tr>\n",
       "      <th>10</th>\n",
       "      <td>Hotel Restaurant Vesontio</td>\n",
       "      <td>8.5</td>\n",
       "      <td>Vous pouvez bénéficier d'une réduction Genius ...</td>\n",
       "      <td>https://www.booking.com/hotel/fr/hotel-restau...</td>\n",
       "      <td>Besancon</td>\n",
       "      <td>47.259049</td>\n",
       "      <td>6.008062</td>\n",
       "    </tr>\n",
       "    <tr>\n",
       "      <th>11</th>\n",
       "      <td>Villa duo</td>\n",
       "      <td>8.8</td>\n",
       "      <td>Située à Besançon, à 5 km de Micropolis, la Vi...</td>\n",
       "      <td>https://www.booking.com/hotel/fr/villa-duo-be...</td>\n",
       "      <td>Besancon</td>\n",
       "      <td>47.260244</td>\n",
       "      <td>5.988918</td>\n",
       "    </tr>\n",
       "    <tr>\n",
       "      <th>12</th>\n",
       "      <td>Mercure Besancon Parc Micaud</td>\n",
       "      <td>7.9</td>\n",
       "      <td>Cet hôtel Mercure est situé dans le centre-vil...</td>\n",
       "      <td>https://www.booking.com/hotel/fr/besancon-par...</td>\n",
       "      <td>Besancon</td>\n",
       "      <td>47.242288</td>\n",
       "      <td>6.031795</td>\n",
       "    </tr>\n",
       "    <tr>\n",
       "      <th>13</th>\n",
       "      <td>Campanile Besançon-Ouest Châteaufarine</td>\n",
       "      <td>6.4</td>\n",
       "      <td>Situé à 7 km à l'ouest du centre de Besançon, ...</td>\n",
       "      <td>https://www.booking.com/hotel/fr/campanile-be...</td>\n",
       "      <td>Besancon</td>\n",
       "      <td>47.216045</td>\n",
       "      <td>5.943496</td>\n",
       "    </tr>\n",
       "    <tr>\n",
       "      <th>14</th>\n",
       "      <td>hotelF1 Besancon Ouest Micropolis -</td>\n",
       "      <td>5.1</td>\n",
       "      <td>L'hotelF1 Besancon Ouest Micropolis - vous acc...</td>\n",
       "      <td>https://www.booking.com/hotel/fr/hotelf1-besa...</td>\n",
       "      <td>Besancon</td>\n",
       "      <td>47.218537</td>\n",
       "      <td>5.982122</td>\n",
       "    </tr>\n",
       "    <tr>\n",
       "      <th>15</th>\n",
       "      <td>ibis budget Besançon Ecole Valentin</td>\n",
       "      <td>6.1</td>\n",
       "      <td>L'ibis budget Besançon École Valentin vous acc...</td>\n",
       "      <td>https://www.booking.com/hotel/fr/ibis-budget....</td>\n",
       "      <td>Besancon</td>\n",
       "      <td>47.277886</td>\n",
       "      <td>5.994614</td>\n",
       "    </tr>\n",
       "    <tr>\n",
       "      <th>16</th>\n",
       "      <td>Ibis Budget Besançon Ouest</td>\n",
       "      <td>5.9</td>\n",
       "      <td>L'Ibis Budget Besançon Ouest vous propose un h...</td>\n",
       "      <td>https://www.booking.com/hotel/fr/ibis-budget-...</td>\n",
       "      <td>Besancon</td>\n",
       "      <td>47.215968</td>\n",
       "      <td>5.943082</td>\n",
       "    </tr>\n",
       "    <tr>\n",
       "      <th>17</th>\n",
       "      <td>B&amp;B Hôtel Besancon</td>\n",
       "      <td>7.6</td>\n",
       "      <td>Doté d'une connexion Wi-Fi gratuite, le B&amp;B Hô...</td>\n",
       "      <td>https://www.booking.com/hotel/fr/b-amp-b-besa...</td>\n",
       "      <td>Besancon</td>\n",
       "      <td>47.220180</td>\n",
       "      <td>5.955331</td>\n",
       "    </tr>\n",
       "    <tr>\n",
       "      <th>18</th>\n",
       "      <td>Hotel Restaurant Siatel Chateaufarine</td>\n",
       "      <td>7.9</td>\n",
       "      <td>Vous pouvez bénéficier d'une réduction Genius ...</td>\n",
       "      <td>https://www.booking.com/hotel/fr/siatel-chate...</td>\n",
       "      <td>Besancon</td>\n",
       "      <td>47.216132</td>\n",
       "      <td>5.941833</td>\n",
       "    </tr>\n",
       "    <tr>\n",
       "      <th>19</th>\n",
       "      <td>Hôtel AKENA BESANCON</td>\n",
       "      <td>8.6</td>\n",
       "      <td>Vous pouvez bénéficier d'une réduction Genius ...</td>\n",
       "      <td>https://www.booking.com/hotel/fr/akena-besanc...</td>\n",
       "      <td>Besancon</td>\n",
       "      <td>47.235475</td>\n",
       "      <td>5.900085</td>\n",
       "    </tr>\n",
       "  </tbody>\n",
       "</table>\n",
       "</div>"
      ],
      "text/plain": [
       "                                          Hotel_name  Rating  \\\n",
       "0            The Originals Boutique Hôtel Amiens Sud     7.7   \n",
       "1               Best Western Plus Monopole Métropole     8.6   \n",
       "2   Le Hameau d'Eguisheim - Chambres d'hôtes & Gîtes     9.0   \n",
       "3                                    Hôtel du Ladhof     5.7   \n",
       "4                                 Contact Hôtel Foch     7.0   \n",
       "5                      Brit Hotel Besancon l'Horloge     7.5   \n",
       "6                            Hotel Victor Hugo & Spa     8.5   \n",
       "7                    Hôtel Restaurant Spa Le Sauvage     8.9   \n",
       "8       Hotel Campanile Besançon Nord Ecole Valentin     7.1   \n",
       "9              Doubs Hotel - Besançon Ecole Valentin     8.1   \n",
       "10                         Hotel Restaurant Vesontio     8.5   \n",
       "11                                         Villa duo     8.8   \n",
       "12                      Mercure Besancon Parc Micaud     7.9   \n",
       "13            Campanile Besançon-Ouest Châteaufarine     6.4   \n",
       "14               hotelF1 Besancon Ouest Micropolis -     5.1   \n",
       "15               ibis budget Besançon Ecole Valentin     6.1   \n",
       "16                        Ibis Budget Besançon Ouest     5.9   \n",
       "17                                B&B Hôtel Besancon     7.6   \n",
       "18             Hotel Restaurant Siatel Chateaufarine     7.9   \n",
       "19                              Hôtel AKENA BESANCON     8.6   \n",
       "\n",
       "                                          Description  \\\n",
       "0   Situé à Amiens, à 1,9 km du Zénith, l'établiss...   \n",
       "1   Vous pouvez bénéficier d'une réduction Genius ...   \n",
       "2   Occupant une maison à colombages typiquement a...   \n",
       "3   Cet établissement est à 13 minutes à pied de l...   \n",
       "4   Situé à quelques pas de la gare de Besançon et...   \n",
       "5   Vous pouvez bénéficier d'une réduction Genius ...   \n",
       "6   L'Hotel Victor Hugo & Spa propose un hébergeme...   \n",
       "7   L'Hôtel Restaurant Spa Le Sauvage vous accueil...   \n",
       "8   Le Campanile Besançon Valentin est situé à pro...   \n",
       "9   Vous pouvez bénéficier d'une réduction Genius ...   \n",
       "10  Vous pouvez bénéficier d'une réduction Genius ...   \n",
       "11  Située à Besançon, à 5 km de Micropolis, la Vi...   \n",
       "12  Cet hôtel Mercure est situé dans le centre-vil...   \n",
       "13  Situé à 7 km à l'ouest du centre de Besançon, ...   \n",
       "14  L'hotelF1 Besancon Ouest Micropolis - vous acc...   \n",
       "15  L'ibis budget Besançon École Valentin vous acc...   \n",
       "16  L'Ibis Budget Besançon Ouest vous propose un h...   \n",
       "17  Doté d'une connexion Wi-Fi gratuite, le B&B Hô...   \n",
       "18  Vous pouvez bénéficier d'une réduction Genius ...   \n",
       "19  Vous pouvez bénéficier d'une réduction Genius ...   \n",
       "\n",
       "                                                 Link   City_name        Lat  \\\n",
       "0    https://www.booking.com/hotel/fr/the-original...      Amiens  49.879613   \n",
       "1    https://www.booking.com/hotel/fr/monopolemetr...  Strasbourg  48.585019   \n",
       "2    https://www.booking.com/hotel/fr/le-hameau-d-...   Eguisheim  48.042529   \n",
       "3    https://www.booking.com/hotel/fr/ha-tel-du-la...      Colmar  48.106989   \n",
       "4    https://www.booking.com/hotel/fr/foch-besanco...    Besancon  47.246197   \n",
       "5    https://www.booking.com/hotel/fr/kyriad-besan...    Besancon  47.263587   \n",
       "6    https://www.booking.com/hotel/fr/logis-de-fra...    Besancon  47.247419   \n",
       "7    https://www.booking.com/hotel/fr/ho-tel-le-sa...    Besancon  47.231718   \n",
       "8    https://www.booking.com/hotel/fr/campanile-be...    Besancon  47.277848   \n",
       "9    https://www.booking.com/hotel/fr/besanconecol...    Besancon  47.270700   \n",
       "10   https://www.booking.com/hotel/fr/hotel-restau...    Besancon  47.259049   \n",
       "11   https://www.booking.com/hotel/fr/villa-duo-be...    Besancon  47.260244   \n",
       "12   https://www.booking.com/hotel/fr/besancon-par...    Besancon  47.242288   \n",
       "13   https://www.booking.com/hotel/fr/campanile-be...    Besancon  47.216045   \n",
       "14   https://www.booking.com/hotel/fr/hotelf1-besa...    Besancon  47.218537   \n",
       "15   https://www.booking.com/hotel/fr/ibis-budget....    Besancon  47.277886   \n",
       "16   https://www.booking.com/hotel/fr/ibis-budget-...    Besancon  47.215968   \n",
       "17   https://www.booking.com/hotel/fr/b-amp-b-besa...    Besancon  47.220180   \n",
       "18   https://www.booking.com/hotel/fr/siatel-chate...    Besancon  47.216132   \n",
       "19   https://www.booking.com/hotel/fr/akena-besanc...    Besancon  47.235475   \n",
       "\n",
       "         Lon  \n",
       "0   2.266651  \n",
       "1   7.738825  \n",
       "2   7.307127  \n",
       "3   7.386082  \n",
       "4   6.023351  \n",
       "5   6.051533  \n",
       "6   6.023643  \n",
       "7   6.027592  \n",
       "8   5.992913  \n",
       "9   5.995097  \n",
       "10  6.008062  \n",
       "11  5.988918  \n",
       "12  6.031795  \n",
       "13  5.943496  \n",
       "14  5.982122  \n",
       "15  5.994614  \n",
       "16  5.943082  \n",
       "17  5.955331  \n",
       "18  5.941833  \n",
       "19  5.900085  "
      ]
     },
     "execution_count": 54,
     "metadata": {},
     "output_type": "execute_result"
    }
   ],
   "source": [
    "hotel_df.head(20)"
   ]
  },
  {
   "cell_type": "code",
   "execution_count": 55,
   "metadata": {},
   "outputs": [
    {
     "data": {
      "text/plain": [
       "City_name     \n",
       "Amiens     97     8.7\n",
       "           95     8.3\n",
       "           98     8.3\n",
       "           96     8.1\n",
       "           102    8.1\n",
       "           103    8.0\n",
       "           90     7.9\n",
       "           93     7.8\n",
       "           0      7.7\n",
       "           92     7.6\n",
       "           101    7.4\n",
       "           91     7.3\n",
       "           99     6.8\n",
       "           94     6.7\n",
       "           100    6.2\n",
       "Besancon   7      8.9\n",
       "           11     8.8\n",
       "           19     8.6\n",
       "           6      8.5\n",
       "           10     8.5\n",
       "           9      8.1\n",
       "Name: Rating, dtype: float64"
      ]
     },
     "execution_count": 55,
     "metadata": {},
     "output_type": "execute_result"
    }
   ],
   "source": [
    "#Top 20 hotels by rating and by cities\n",
    "Top20_hotel_index=hotel_df.groupby('City_name')['Rating'].nlargest(20, keep=\"first\")\n",
    "Top20_hotel_index.head(21)"
   ]
  },
  {
   "cell_type": "code",
   "execution_count": 56,
   "metadata": {},
   "outputs": [],
   "source": [
    "#list of index of the hotel sorted by rate in each city \n",
    "hotel_index_list=[Top20_hotel_index.index[i][1] for i in range(len(Top20_hotel_index))]"
   ]
  },
  {
   "cell_type": "code",
   "execution_count": 57,
   "metadata": {},
   "outputs": [
    {
     "data": {
      "text/html": [
       "<div>\n",
       "<style scoped>\n",
       "    .dataframe tbody tr th:only-of-type {\n",
       "        vertical-align: middle;\n",
       "    }\n",
       "\n",
       "    .dataframe tbody tr th {\n",
       "        vertical-align: top;\n",
       "    }\n",
       "\n",
       "    .dataframe thead th {\n",
       "        text-align: right;\n",
       "    }\n",
       "</style>\n",
       "<table border=\"1\" class=\"dataframe\">\n",
       "  <thead>\n",
       "    <tr style=\"text-align: right;\">\n",
       "      <th></th>\n",
       "      <th>Hotel_name</th>\n",
       "      <th>Rating</th>\n",
       "      <th>Description</th>\n",
       "      <th>Link</th>\n",
       "      <th>City_name</th>\n",
       "      <th>Lat</th>\n",
       "      <th>Lon</th>\n",
       "    </tr>\n",
       "  </thead>\n",
       "  <tbody>\n",
       "    <tr>\n",
       "      <th>97</th>\n",
       "      <td>ibis Styles Amiens Centre</td>\n",
       "      <td>8.7</td>\n",
       "      <td>Situé à Amiens, à 3,4 km du Zénith, l'ibis Sty...</td>\n",
       "      <td>https://www.booking.com/hotel/fr/ibis-styles-...</td>\n",
       "      <td>Amiens</td>\n",
       "      <td>49.891422</td>\n",
       "      <td>2.304996</td>\n",
       "    </tr>\n",
       "    <tr>\n",
       "      <th>95</th>\n",
       "      <td>Hotel Le Prieuré et La Résidence</td>\n",
       "      <td>8.3</td>\n",
       "      <td>L'Hotel Le Prieuré et La Résidence est situé d...</td>\n",
       "      <td>https://www.booking.com/hotel/fr/le-prieure-a...</td>\n",
       "      <td>Amiens</td>\n",
       "      <td>49.894445</td>\n",
       "      <td>2.300942</td>\n",
       "    </tr>\n",
       "    <tr>\n",
       "      <th>98</th>\n",
       "      <td>Mercure Amiens Cathédrale</td>\n",
       "      <td>8.3</td>\n",
       "      <td>L’hôtel 4 étoiles Mercure Amiens Cathédrale vo...</td>\n",
       "      <td>https://www.booking.com/hotel/fr/mercure-amie...</td>\n",
       "      <td>Amiens</td>\n",
       "      <td>49.895711</td>\n",
       "      <td>2.299562</td>\n",
       "    </tr>\n",
       "    <tr>\n",
       "      <th>96</th>\n",
       "      <td>Le Saint Louis</td>\n",
       "      <td>8.1</td>\n",
       "      <td>Vous pouvez bénéficier d'une réduction Genius ...</td>\n",
       "      <td>https://www.booking.com/hotel/fr/le-saint-lou...</td>\n",
       "      <td>Amiens</td>\n",
       "      <td>49.889779</td>\n",
       "      <td>2.302499</td>\n",
       "    </tr>\n",
       "    <tr>\n",
       "      <th>102</th>\n",
       "      <td>ibis budget Amiens Centre Gare</td>\n",
       "      <td>8.1</td>\n",
       "      <td>L'ibis budget Amiens Centre Gare est situé dan...</td>\n",
       "      <td>https://www.booking.com/hotel/fr/ibis-budget-...</td>\n",
       "      <td>Amiens</td>\n",
       "      <td>49.891591</td>\n",
       "      <td>2.313573</td>\n",
       "    </tr>\n",
       "    <tr>\n",
       "      <th>103</th>\n",
       "      <td>Holiday Inn Express Amiens, an IHG Hotel</td>\n",
       "      <td>8.0</td>\n",
       "      <td>Rénové en avril 2015, le Holiday Inn Express A...</td>\n",
       "      <td>https://www.booking.com/hotel/fr/express-by-h...</td>\n",
       "      <td>Amiens</td>\n",
       "      <td>49.891676</td>\n",
       "      <td>2.307754</td>\n",
       "    </tr>\n",
       "    <tr>\n",
       "      <th>90</th>\n",
       "      <td>Grand Hotel de L'Univers</td>\n",
       "      <td>7.9</td>\n",
       "      <td>Le Grand Hôtel de L'Univers est situé au cœur ...</td>\n",
       "      <td>https://www.booking.com/hotel/fr/bwlunivers.f...</td>\n",
       "      <td>Amiens</td>\n",
       "      <td>49.891254</td>\n",
       "      <td>2.304336</td>\n",
       "    </tr>\n",
       "    <tr>\n",
       "      <th>93</th>\n",
       "      <td>Hotel Victor Hugo</td>\n",
       "      <td>7.8</td>\n",
       "      <td>L'Hotel Victor Hugo propose des hébergements à...</td>\n",
       "      <td>https://www.booking.com/hotel/fr/victor-hugo-...</td>\n",
       "      <td>Amiens</td>\n",
       "      <td>49.893251</td>\n",
       "      <td>2.304545</td>\n",
       "    </tr>\n",
       "    <tr>\n",
       "      <th>0</th>\n",
       "      <td>The Originals Boutique Hôtel Amiens Sud</td>\n",
       "      <td>7.7</td>\n",
       "      <td>Situé à Amiens, à 1,9 km du Zénith, l'établiss...</td>\n",
       "      <td>https://www.booking.com/hotel/fr/the-original...</td>\n",
       "      <td>Amiens</td>\n",
       "      <td>49.879613</td>\n",
       "      <td>2.266651</td>\n",
       "    </tr>\n",
       "    <tr>\n",
       "      <th>92</th>\n",
       "      <td>Hotel Central Anzac</td>\n",
       "      <td>7.6</td>\n",
       "      <td>Bénéficiant d'un emplacement central, l'Hotel ...</td>\n",
       "      <td>https://www.booking.com/hotel/fr/central-anza...</td>\n",
       "      <td>Amiens</td>\n",
       "      <td>49.891833</td>\n",
       "      <td>2.305994</td>\n",
       "    </tr>\n",
       "    <tr>\n",
       "      <th>101</th>\n",
       "      <td>B&amp;B HOTEL Amiens Centre Cathédrale</td>\n",
       "      <td>7.4</td>\n",
       "      <td>Doté d'un restaurant et d'une connexion Wi-Fi ...</td>\n",
       "      <td>https://www.booking.com/hotel/fr/ibis-amiens-...</td>\n",
       "      <td>Amiens</td>\n",
       "      <td>49.891999</td>\n",
       "      <td>2.291970</td>\n",
       "    </tr>\n",
       "    <tr>\n",
       "      <th>91</th>\n",
       "      <td>Au Spatial</td>\n",
       "      <td>7.3</td>\n",
       "      <td>L'établissement Au Spatial est situé au cœur d...</td>\n",
       "      <td>https://www.booking.com/hotel/fr/au-spatial.f...</td>\n",
       "      <td>Amiens</td>\n",
       "      <td>49.891939</td>\n",
       "      <td>2.305756</td>\n",
       "    </tr>\n",
       "    <tr>\n",
       "      <th>99</th>\n",
       "      <td>Comfort Hotel Amiens Nord</td>\n",
       "      <td>6.8</td>\n",
       "      <td>Doté d’une terrasse, le Comfort Hotel Amiens N...</td>\n",
       "      <td>https://www.booking.com/hotel/fr/kyriad-amien...</td>\n",
       "      <td>Amiens</td>\n",
       "      <td>49.925134</td>\n",
       "      <td>2.304573</td>\n",
       "    </tr>\n",
       "    <tr>\n",
       "      <th>94</th>\n",
       "      <td>Hôtel De Normandie</td>\n",
       "      <td>6.7</td>\n",
       "      <td>L'Hôtel De Normandie est situé au cœur d'Amien...</td>\n",
       "      <td>https://www.booking.com/hotel/fr/de-normandie...</td>\n",
       "      <td>Amiens</td>\n",
       "      <td>49.891486</td>\n",
       "      <td>2.304355</td>\n",
       "    </tr>\n",
       "    <tr>\n",
       "      <th>100</th>\n",
       "      <td>Première Classe Amiens</td>\n",
       "      <td>6.2</td>\n",
       "      <td>Le Première Classe Amiens se situe à 3 km du c...</td>\n",
       "      <td>https://www.booking.com/hotel/fr/premia-re-cl...</td>\n",
       "      <td>Amiens</td>\n",
       "      <td>49.918568</td>\n",
       "      <td>2.293313</td>\n",
       "    </tr>\n",
       "    <tr>\n",
       "      <th>7</th>\n",
       "      <td>Hôtel Restaurant Spa Le Sauvage</td>\n",
       "      <td>8.9</td>\n",
       "      <td>L'Hôtel Restaurant Spa Le Sauvage vous accueil...</td>\n",
       "      <td>https://www.booking.com/hotel/fr/ho-tel-le-sa...</td>\n",
       "      <td>Besancon</td>\n",
       "      <td>47.231718</td>\n",
       "      <td>6.027592</td>\n",
       "    </tr>\n",
       "    <tr>\n",
       "      <th>11</th>\n",
       "      <td>Villa duo</td>\n",
       "      <td>8.8</td>\n",
       "      <td>Située à Besançon, à 5 km de Micropolis, la Vi...</td>\n",
       "      <td>https://www.booking.com/hotel/fr/villa-duo-be...</td>\n",
       "      <td>Besancon</td>\n",
       "      <td>47.260244</td>\n",
       "      <td>5.988918</td>\n",
       "    </tr>\n",
       "    <tr>\n",
       "      <th>19</th>\n",
       "      <td>Hôtel AKENA BESANCON</td>\n",
       "      <td>8.6</td>\n",
       "      <td>Vous pouvez bénéficier d'une réduction Genius ...</td>\n",
       "      <td>https://www.booking.com/hotel/fr/akena-besanc...</td>\n",
       "      <td>Besancon</td>\n",
       "      <td>47.235475</td>\n",
       "      <td>5.900085</td>\n",
       "    </tr>\n",
       "    <tr>\n",
       "      <th>6</th>\n",
       "      <td>Hotel Victor Hugo &amp; Spa</td>\n",
       "      <td>8.5</td>\n",
       "      <td>L'Hotel Victor Hugo &amp; Spa propose un hébergeme...</td>\n",
       "      <td>https://www.booking.com/hotel/fr/logis-de-fra...</td>\n",
       "      <td>Besancon</td>\n",
       "      <td>47.247419</td>\n",
       "      <td>6.023643</td>\n",
       "    </tr>\n",
       "    <tr>\n",
       "      <th>10</th>\n",
       "      <td>Hotel Restaurant Vesontio</td>\n",
       "      <td>8.5</td>\n",
       "      <td>Vous pouvez bénéficier d'une réduction Genius ...</td>\n",
       "      <td>https://www.booking.com/hotel/fr/hotel-restau...</td>\n",
       "      <td>Besancon</td>\n",
       "      <td>47.259049</td>\n",
       "      <td>6.008062</td>\n",
       "    </tr>\n",
       "  </tbody>\n",
       "</table>\n",
       "</div>"
      ],
      "text/plain": [
       "                                   Hotel_name  Rating  \\\n",
       "97                  ibis Styles Amiens Centre     8.7   \n",
       "95           Hotel Le Prieuré et La Résidence     8.3   \n",
       "98                  Mercure Amiens Cathédrale     8.3   \n",
       "96                             Le Saint Louis     8.1   \n",
       "102            ibis budget Amiens Centre Gare     8.1   \n",
       "103  Holiday Inn Express Amiens, an IHG Hotel     8.0   \n",
       "90                   Grand Hotel de L'Univers     7.9   \n",
       "93                          Hotel Victor Hugo     7.8   \n",
       "0     The Originals Boutique Hôtel Amiens Sud     7.7   \n",
       "92                        Hotel Central Anzac     7.6   \n",
       "101        B&B HOTEL Amiens Centre Cathédrale     7.4   \n",
       "91                                 Au Spatial     7.3   \n",
       "99                  Comfort Hotel Amiens Nord     6.8   \n",
       "94                         Hôtel De Normandie     6.7   \n",
       "100                    Première Classe Amiens     6.2   \n",
       "7             Hôtel Restaurant Spa Le Sauvage     8.9   \n",
       "11                                  Villa duo     8.8   \n",
       "19                       Hôtel AKENA BESANCON     8.6   \n",
       "6                     Hotel Victor Hugo & Spa     8.5   \n",
       "10                  Hotel Restaurant Vesontio     8.5   \n",
       "\n",
       "                                           Description  \\\n",
       "97   Situé à Amiens, à 3,4 km du Zénith, l'ibis Sty...   \n",
       "95   L'Hotel Le Prieuré et La Résidence est situé d...   \n",
       "98   L’hôtel 4 étoiles Mercure Amiens Cathédrale vo...   \n",
       "96   Vous pouvez bénéficier d'une réduction Genius ...   \n",
       "102  L'ibis budget Amiens Centre Gare est situé dan...   \n",
       "103  Rénové en avril 2015, le Holiday Inn Express A...   \n",
       "90   Le Grand Hôtel de L'Univers est situé au cœur ...   \n",
       "93   L'Hotel Victor Hugo propose des hébergements à...   \n",
       "0    Situé à Amiens, à 1,9 km du Zénith, l'établiss...   \n",
       "92   Bénéficiant d'un emplacement central, l'Hotel ...   \n",
       "101  Doté d'un restaurant et d'une connexion Wi-Fi ...   \n",
       "91   L'établissement Au Spatial est situé au cœur d...   \n",
       "99   Doté d’une terrasse, le Comfort Hotel Amiens N...   \n",
       "94   L'Hôtel De Normandie est situé au cœur d'Amien...   \n",
       "100  Le Première Classe Amiens se situe à 3 km du c...   \n",
       "7    L'Hôtel Restaurant Spa Le Sauvage vous accueil...   \n",
       "11   Située à Besançon, à 5 km de Micropolis, la Vi...   \n",
       "19   Vous pouvez bénéficier d'une réduction Genius ...   \n",
       "6    L'Hotel Victor Hugo & Spa propose un hébergeme...   \n",
       "10   Vous pouvez bénéficier d'une réduction Genius ...   \n",
       "\n",
       "                                                  Link City_name        Lat  \\\n",
       "97    https://www.booking.com/hotel/fr/ibis-styles-...    Amiens  49.891422   \n",
       "95    https://www.booking.com/hotel/fr/le-prieure-a...    Amiens  49.894445   \n",
       "98    https://www.booking.com/hotel/fr/mercure-amie...    Amiens  49.895711   \n",
       "96    https://www.booking.com/hotel/fr/le-saint-lou...    Amiens  49.889779   \n",
       "102   https://www.booking.com/hotel/fr/ibis-budget-...    Amiens  49.891591   \n",
       "103   https://www.booking.com/hotel/fr/express-by-h...    Amiens  49.891676   \n",
       "90    https://www.booking.com/hotel/fr/bwlunivers.f...    Amiens  49.891254   \n",
       "93    https://www.booking.com/hotel/fr/victor-hugo-...    Amiens  49.893251   \n",
       "0     https://www.booking.com/hotel/fr/the-original...    Amiens  49.879613   \n",
       "92    https://www.booking.com/hotel/fr/central-anza...    Amiens  49.891833   \n",
       "101   https://www.booking.com/hotel/fr/ibis-amiens-...    Amiens  49.891999   \n",
       "91    https://www.booking.com/hotel/fr/au-spatial.f...    Amiens  49.891939   \n",
       "99    https://www.booking.com/hotel/fr/kyriad-amien...    Amiens  49.925134   \n",
       "94    https://www.booking.com/hotel/fr/de-normandie...    Amiens  49.891486   \n",
       "100   https://www.booking.com/hotel/fr/premia-re-cl...    Amiens  49.918568   \n",
       "7     https://www.booking.com/hotel/fr/ho-tel-le-sa...  Besancon  47.231718   \n",
       "11    https://www.booking.com/hotel/fr/villa-duo-be...  Besancon  47.260244   \n",
       "19    https://www.booking.com/hotel/fr/akena-besanc...  Besancon  47.235475   \n",
       "6     https://www.booking.com/hotel/fr/logis-de-fra...  Besancon  47.247419   \n",
       "10    https://www.booking.com/hotel/fr/hotel-restau...  Besancon  47.259049   \n",
       "\n",
       "          Lon  \n",
       "97   2.304996  \n",
       "95   2.300942  \n",
       "98   2.299562  \n",
       "96   2.302499  \n",
       "102  2.313573  \n",
       "103  2.307754  \n",
       "90   2.304336  \n",
       "93   2.304545  \n",
       "0    2.266651  \n",
       "92   2.305994  \n",
       "101  2.291970  \n",
       "91   2.305756  \n",
       "99   2.304573  \n",
       "94   2.304355  \n",
       "100  2.293313  \n",
       "7    6.027592  \n",
       "11   5.988918  \n",
       "19   5.900085  \n",
       "6    6.023643  \n",
       "10   6.008062  "
      ]
     },
     "execution_count": 57,
     "metadata": {},
     "output_type": "execute_result"
    }
   ],
   "source": [
    "#select the hotels by index\n",
    "Top20_hotel=hotel_df.iloc[hotel_index_list,:]\n",
    "Top20_hotel.head(20)"
   ]
  },
  {
   "cell_type": "code",
   "execution_count": 58,
   "metadata": {},
   "outputs": [
    {
     "data": {
      "application/vnd.plotly.v1+json": {
       "config": {
        "plotlyServerURL": "https://plot.ly"
       },
       "data": [
        {
         "hovertemplate": "City_name=Amiens<br>Rating=%{marker.size}<br>Lat=%{lat}<br>Lon=%{lon}<extra></extra>",
         "lat": [
          49.891422,
          49.89444519,
          49.89571084,
          49.88977885,
          49.891591,
          49.8916762,
          49.89125423,
          49.893251,
          49.87961282,
          49.89183258,
          49.891999,
          49.89193885,
          49.92513403,
          49.89148612,
          49.91856793
         ],
         "legendgroup": "Amiens",
         "lon": [
          2.304996,
          2.30094239,
          2.29956239,
          2.30249941,
          2.313573,
          2.30775386,
          2.30433606,
          2.304545,
          2.26665102,
          2.30599433,
          2.29197,
          2.30575562,
          2.30457276,
          2.3043555,
          2.29331338
         ],
         "marker": {
          "color": "#636efa",
          "size": [
           8.7,
           8.3,
           8.3,
           8.1,
           8.1,
           8,
           7.9,
           7.8,
           7.7,
           7.6,
           7.4,
           7.3,
           6.8,
           6.7,
           6.2
          ],
          "sizemode": "area",
          "sizeref": 0.0225
         },
         "mode": "markers",
         "name": "Amiens",
         "showlegend": true,
         "subplot": "mapbox",
         "type": "scattermapbox"
        },
        {
         "hovertemplate": "City_name=Besancon<br>Rating=%{marker.size}<br>Lat=%{lat}<br>Lon=%{lon}<extra></extra>",
         "lat": [
          47.23171767,
          47.260244,
          47.23547525,
          47.24741871,
          47.25904854,
          47.27069957,
          47.25435723,
          47.24228752,
          47.21613222,
          47.25425346,
          47.2354914,
          47.24684641,
          47.22018011,
          47.26358654,
          47.27784785,
          47.24619696,
          47.27044104,
          47.21604477,
          47.27788606,
          47.21596759
         ],
         "legendgroup": "Besancon",
         "lon": [
          6.02759153,
          5.988918,
          5.9000854,
          6.02364331,
          6.00806236,
          5.99509656,
          5.99548012,
          6.03179455,
          5.94183326,
          6.0216397,
          6.01498839,
          6.02312028,
          5.95533135,
          6.05153292,
          5.99291325,
          6.02335095,
          5.9982723,
          5.94349623,
          5.99461377,
          5.94308209
         ],
         "marker": {
          "color": "#EF553B",
          "size": [
           8.9,
           8.8,
           8.6,
           8.5,
           8.5,
           8.1,
           8,
           7.9,
           7.9,
           7.9,
           7.8,
           7.7,
           7.6,
           7.5,
           7.1,
           7,
           6.9,
           6.4,
           6.1,
           5.9
          ],
          "sizemode": "area",
          "sizeref": 0.0225
         },
         "mode": "markers",
         "name": "Besancon",
         "showlegend": true,
         "subplot": "mapbox",
         "type": "scattermapbox"
        },
        {
         "hovertemplate": "City_name=Colmar<br>Rating=%{marker.size}<br>Lat=%{lat}<br>Lon=%{lon}<extra></extra>",
         "lat": [
          48.07080074,
          48.07859549,
          48.07357179,
          48.09965719,
          48.07394456,
          48.07192026,
          48.07376803,
          48.08601523,
          48.07641681,
          48.0762385,
          48.11068714,
          48.07720622,
          48.06517112,
          48.0764186,
          48.0810608,
          48.09630283,
          48.08745399,
          48.08405233,
          48.079198,
          48.112478
         ],
         "legendgroup": "Colmar",
         "lon": [
          7.34638973,
          7.35552706,
          7.35667169,
          7.3624015,
          7.35857606,
          7.36053944,
          7.35829376,
          7.35729933,
          7.35935189,
          7.35644773,
          7.36243308,
          7.40387186,
          7.36302316,
          7.35596895,
          7.35717729,
          7.36164164,
          7.36068696,
          7.36607082,
          7.363507,
          7.36766875
         ],
         "marker": {
          "color": "#00cc96",
          "size": [
           9,
           8.9,
           8.7,
           8.6,
           8.5,
           8.5,
           8.4,
           8.4,
           8.3,
           8.2,
           8.2,
           8.2,
           8.1,
           8.1,
           8.1,
           8.1,
           8,
           7.9,
           7.9,
           7.8
          ],
          "sizemode": "area",
          "sizeref": 0.0225
         },
         "mode": "markers",
         "name": "Colmar",
         "showlegend": true,
         "subplot": "mapbox",
         "type": "scattermapbox"
        },
        {
         "hovertemplate": "City_name=Eguisheim<br>Rating=%{marker.size}<br>Lat=%{lat}<br>Lon=%{lon}<extra></extra>",
         "lat": [
          48.04252897,
          48.04242043,
          48.04327133,
          48.04496277,
          48.04215781,
          48.0430391,
          48.04223841,
          48.04349458,
          48.04502734,
          48.04228862
         ],
         "legendgroup": "Eguisheim",
         "lon": [
          7.30712727,
          7.30631925,
          7.30412185,
          7.30157845,
          7.30737026,
          7.30580762,
          7.30916776,
          7.30439007,
          7.31185466,
          7.3094514
         ],
         "marker": {
          "color": "#ab63fa",
          "size": [
           9,
           9,
           8.8,
           8.8,
           8.7,
           8.6,
           8.5,
           8.3,
           7.9,
           7.8
          ],
          "sizemode": "area",
          "sizeref": 0.0225
         },
         "mode": "markers",
         "name": "Eguisheim",
         "showlegend": true,
         "subplot": "mapbox",
         "type": "scattermapbox"
        },
        {
         "hovertemplate": "City_name=Strasbourg<br>Rating=%{marker.size}<br>Lat=%{lat}<br>Lon=%{lon}<extra></extra>",
         "lat": [
          48.59108149,
          48.58999293,
          48.5828931,
          48.58573972,
          48.58068766,
          48.58237114,
          48.584163,
          48.58080122,
          48.58279611,
          48.58936133,
          48.58403356,
          48.60808508,
          48.58149369,
          48.59304756,
          48.58501891,
          48.58094495,
          48.5880105,
          48.57408002,
          48.58106251,
          48.589685
         ],
         "legendgroup": "Strasbourg",
         "lon": [
          7.727094,
          7.75154248,
          7.7420407,
          7.75831036,
          7.7550716,
          7.74588235,
          7.735927,
          7.74173364,
          7.74312839,
          7.77331933,
          7.73525991,
          7.80001536,
          7.75279775,
          7.71466415,
          7.73882546,
          7.7504307,
          7.74749973,
          7.76544945,
          7.74778068,
          7.739508
         ],
         "marker": {
          "color": "#FFA15A",
          "size": [
           9,
           8.9,
           8.9,
           8.8,
           8.8,
           8.8,
           8.8,
           8.7,
           8.7,
           8.7,
           8.7,
           8.7,
           8.7,
           8.7,
           8.6,
           8.6,
           8.6,
           8.5,
           8.5,
           8.5
          ],
          "sizemode": "area",
          "sizeref": 0.0225
         },
         "mode": "markers",
         "name": "Strasbourg",
         "showlegend": true,
         "subplot": "mapbox",
         "type": "scattermapbox"
        }
       ],
       "layout": {
        "height": 800,
        "legend": {
         "itemsizing": "constant",
         "title": {
          "text": "City_name"
         },
         "tracegroupgap": 0
        },
        "mapbox": {
         "center": {
          "lat": 47,
          "lon": 2
         },
         "domain": {
          "x": [
           0,
           1
          ],
          "y": [
           0,
           1
          ]
         },
         "style": "open-street-map",
         "zoom": 5.15
        },
        "margin": {
         "t": 60
        },
        "template": {
         "data": {
          "bar": [
           {
            "error_x": {
             "color": "#2a3f5f"
            },
            "error_y": {
             "color": "#2a3f5f"
            },
            "marker": {
             "line": {
              "color": "#E5ECF6",
              "width": 0.5
             },
             "pattern": {
              "fillmode": "overlay",
              "size": 10,
              "solidity": 0.2
             }
            },
            "type": "bar"
           }
          ],
          "barpolar": [
           {
            "marker": {
             "line": {
              "color": "#E5ECF6",
              "width": 0.5
             },
             "pattern": {
              "fillmode": "overlay",
              "size": 10,
              "solidity": 0.2
             }
            },
            "type": "barpolar"
           }
          ],
          "carpet": [
           {
            "aaxis": {
             "endlinecolor": "#2a3f5f",
             "gridcolor": "white",
             "linecolor": "white",
             "minorgridcolor": "white",
             "startlinecolor": "#2a3f5f"
            },
            "baxis": {
             "endlinecolor": "#2a3f5f",
             "gridcolor": "white",
             "linecolor": "white",
             "minorgridcolor": "white",
             "startlinecolor": "#2a3f5f"
            },
            "type": "carpet"
           }
          ],
          "choropleth": [
           {
            "colorbar": {
             "outlinewidth": 0,
             "ticks": ""
            },
            "type": "choropleth"
           }
          ],
          "contour": [
           {
            "colorbar": {
             "outlinewidth": 0,
             "ticks": ""
            },
            "colorscale": [
             [
              0,
              "#0d0887"
             ],
             [
              0.1111111111111111,
              "#46039f"
             ],
             [
              0.2222222222222222,
              "#7201a8"
             ],
             [
              0.3333333333333333,
              "#9c179e"
             ],
             [
              0.4444444444444444,
              "#bd3786"
             ],
             [
              0.5555555555555556,
              "#d8576b"
             ],
             [
              0.6666666666666666,
              "#ed7953"
             ],
             [
              0.7777777777777778,
              "#fb9f3a"
             ],
             [
              0.8888888888888888,
              "#fdca26"
             ],
             [
              1,
              "#f0f921"
             ]
            ],
            "type": "contour"
           }
          ],
          "contourcarpet": [
           {
            "colorbar": {
             "outlinewidth": 0,
             "ticks": ""
            },
            "type": "contourcarpet"
           }
          ],
          "heatmap": [
           {
            "colorbar": {
             "outlinewidth": 0,
             "ticks": ""
            },
            "colorscale": [
             [
              0,
              "#0d0887"
             ],
             [
              0.1111111111111111,
              "#46039f"
             ],
             [
              0.2222222222222222,
              "#7201a8"
             ],
             [
              0.3333333333333333,
              "#9c179e"
             ],
             [
              0.4444444444444444,
              "#bd3786"
             ],
             [
              0.5555555555555556,
              "#d8576b"
             ],
             [
              0.6666666666666666,
              "#ed7953"
             ],
             [
              0.7777777777777778,
              "#fb9f3a"
             ],
             [
              0.8888888888888888,
              "#fdca26"
             ],
             [
              1,
              "#f0f921"
             ]
            ],
            "type": "heatmap"
           }
          ],
          "heatmapgl": [
           {
            "colorbar": {
             "outlinewidth": 0,
             "ticks": ""
            },
            "colorscale": [
             [
              0,
              "#0d0887"
             ],
             [
              0.1111111111111111,
              "#46039f"
             ],
             [
              0.2222222222222222,
              "#7201a8"
             ],
             [
              0.3333333333333333,
              "#9c179e"
             ],
             [
              0.4444444444444444,
              "#bd3786"
             ],
             [
              0.5555555555555556,
              "#d8576b"
             ],
             [
              0.6666666666666666,
              "#ed7953"
             ],
             [
              0.7777777777777778,
              "#fb9f3a"
             ],
             [
              0.8888888888888888,
              "#fdca26"
             ],
             [
              1,
              "#f0f921"
             ]
            ],
            "type": "heatmapgl"
           }
          ],
          "histogram": [
           {
            "marker": {
             "pattern": {
              "fillmode": "overlay",
              "size": 10,
              "solidity": 0.2
             }
            },
            "type": "histogram"
           }
          ],
          "histogram2d": [
           {
            "colorbar": {
             "outlinewidth": 0,
             "ticks": ""
            },
            "colorscale": [
             [
              0,
              "#0d0887"
             ],
             [
              0.1111111111111111,
              "#46039f"
             ],
             [
              0.2222222222222222,
              "#7201a8"
             ],
             [
              0.3333333333333333,
              "#9c179e"
             ],
             [
              0.4444444444444444,
              "#bd3786"
             ],
             [
              0.5555555555555556,
              "#d8576b"
             ],
             [
              0.6666666666666666,
              "#ed7953"
             ],
             [
              0.7777777777777778,
              "#fb9f3a"
             ],
             [
              0.8888888888888888,
              "#fdca26"
             ],
             [
              1,
              "#f0f921"
             ]
            ],
            "type": "histogram2d"
           }
          ],
          "histogram2dcontour": [
           {
            "colorbar": {
             "outlinewidth": 0,
             "ticks": ""
            },
            "colorscale": [
             [
              0,
              "#0d0887"
             ],
             [
              0.1111111111111111,
              "#46039f"
             ],
             [
              0.2222222222222222,
              "#7201a8"
             ],
             [
              0.3333333333333333,
              "#9c179e"
             ],
             [
              0.4444444444444444,
              "#bd3786"
             ],
             [
              0.5555555555555556,
              "#d8576b"
             ],
             [
              0.6666666666666666,
              "#ed7953"
             ],
             [
              0.7777777777777778,
              "#fb9f3a"
             ],
             [
              0.8888888888888888,
              "#fdca26"
             ],
             [
              1,
              "#f0f921"
             ]
            ],
            "type": "histogram2dcontour"
           }
          ],
          "mesh3d": [
           {
            "colorbar": {
             "outlinewidth": 0,
             "ticks": ""
            },
            "type": "mesh3d"
           }
          ],
          "parcoords": [
           {
            "line": {
             "colorbar": {
              "outlinewidth": 0,
              "ticks": ""
             }
            },
            "type": "parcoords"
           }
          ],
          "pie": [
           {
            "automargin": true,
            "type": "pie"
           }
          ],
          "scatter": [
           {
            "marker": {
             "colorbar": {
              "outlinewidth": 0,
              "ticks": ""
             }
            },
            "type": "scatter"
           }
          ],
          "scatter3d": [
           {
            "line": {
             "colorbar": {
              "outlinewidth": 0,
              "ticks": ""
             }
            },
            "marker": {
             "colorbar": {
              "outlinewidth": 0,
              "ticks": ""
             }
            },
            "type": "scatter3d"
           }
          ],
          "scattercarpet": [
           {
            "marker": {
             "colorbar": {
              "outlinewidth": 0,
              "ticks": ""
             }
            },
            "type": "scattercarpet"
           }
          ],
          "scattergeo": [
           {
            "marker": {
             "colorbar": {
              "outlinewidth": 0,
              "ticks": ""
             }
            },
            "type": "scattergeo"
           }
          ],
          "scattergl": [
           {
            "marker": {
             "colorbar": {
              "outlinewidth": 0,
              "ticks": ""
             }
            },
            "type": "scattergl"
           }
          ],
          "scattermapbox": [
           {
            "marker": {
             "colorbar": {
              "outlinewidth": 0,
              "ticks": ""
             }
            },
            "type": "scattermapbox"
           }
          ],
          "scatterpolar": [
           {
            "marker": {
             "colorbar": {
              "outlinewidth": 0,
              "ticks": ""
             }
            },
            "type": "scatterpolar"
           }
          ],
          "scatterpolargl": [
           {
            "marker": {
             "colorbar": {
              "outlinewidth": 0,
              "ticks": ""
             }
            },
            "type": "scatterpolargl"
           }
          ],
          "scatterternary": [
           {
            "marker": {
             "colorbar": {
              "outlinewidth": 0,
              "ticks": ""
             }
            },
            "type": "scatterternary"
           }
          ],
          "surface": [
           {
            "colorbar": {
             "outlinewidth": 0,
             "ticks": ""
            },
            "colorscale": [
             [
              0,
              "#0d0887"
             ],
             [
              0.1111111111111111,
              "#46039f"
             ],
             [
              0.2222222222222222,
              "#7201a8"
             ],
             [
              0.3333333333333333,
              "#9c179e"
             ],
             [
              0.4444444444444444,
              "#bd3786"
             ],
             [
              0.5555555555555556,
              "#d8576b"
             ],
             [
              0.6666666666666666,
              "#ed7953"
             ],
             [
              0.7777777777777778,
              "#fb9f3a"
             ],
             [
              0.8888888888888888,
              "#fdca26"
             ],
             [
              1,
              "#f0f921"
             ]
            ],
            "type": "surface"
           }
          ],
          "table": [
           {
            "cells": {
             "fill": {
              "color": "#EBF0F8"
             },
             "line": {
              "color": "white"
             }
            },
            "header": {
             "fill": {
              "color": "#C8D4E3"
             },
             "line": {
              "color": "white"
             }
            },
            "type": "table"
           }
          ]
         },
         "layout": {
          "annotationdefaults": {
           "arrowcolor": "#2a3f5f",
           "arrowhead": 0,
           "arrowwidth": 1
          },
          "autotypenumbers": "strict",
          "coloraxis": {
           "colorbar": {
            "outlinewidth": 0,
            "ticks": ""
           }
          },
          "colorscale": {
           "diverging": [
            [
             0,
             "#8e0152"
            ],
            [
             0.1,
             "#c51b7d"
            ],
            [
             0.2,
             "#de77ae"
            ],
            [
             0.3,
             "#f1b6da"
            ],
            [
             0.4,
             "#fde0ef"
            ],
            [
             0.5,
             "#f7f7f7"
            ],
            [
             0.6,
             "#e6f5d0"
            ],
            [
             0.7,
             "#b8e186"
            ],
            [
             0.8,
             "#7fbc41"
            ],
            [
             0.9,
             "#4d9221"
            ],
            [
             1,
             "#276419"
            ]
           ],
           "sequential": [
            [
             0,
             "#0d0887"
            ],
            [
             0.1111111111111111,
             "#46039f"
            ],
            [
             0.2222222222222222,
             "#7201a8"
            ],
            [
             0.3333333333333333,
             "#9c179e"
            ],
            [
             0.4444444444444444,
             "#bd3786"
            ],
            [
             0.5555555555555556,
             "#d8576b"
            ],
            [
             0.6666666666666666,
             "#ed7953"
            ],
            [
             0.7777777777777778,
             "#fb9f3a"
            ],
            [
             0.8888888888888888,
             "#fdca26"
            ],
            [
             1,
             "#f0f921"
            ]
           ],
           "sequentialminus": [
            [
             0,
             "#0d0887"
            ],
            [
             0.1111111111111111,
             "#46039f"
            ],
            [
             0.2222222222222222,
             "#7201a8"
            ],
            [
             0.3333333333333333,
             "#9c179e"
            ],
            [
             0.4444444444444444,
             "#bd3786"
            ],
            [
             0.5555555555555556,
             "#d8576b"
            ],
            [
             0.6666666666666666,
             "#ed7953"
            ],
            [
             0.7777777777777778,
             "#fb9f3a"
            ],
            [
             0.8888888888888888,
             "#fdca26"
            ],
            [
             1,
             "#f0f921"
            ]
           ]
          },
          "colorway": [
           "#636efa",
           "#EF553B",
           "#00cc96",
           "#ab63fa",
           "#FFA15A",
           "#19d3f3",
           "#FF6692",
           "#B6E880",
           "#FF97FF",
           "#FECB52"
          ],
          "font": {
           "color": "#2a3f5f"
          },
          "geo": {
           "bgcolor": "white",
           "lakecolor": "white",
           "landcolor": "#E5ECF6",
           "showlakes": true,
           "showland": true,
           "subunitcolor": "white"
          },
          "hoverlabel": {
           "align": "left"
          },
          "hovermode": "closest",
          "mapbox": {
           "style": "light"
          },
          "paper_bgcolor": "white",
          "plot_bgcolor": "#E5ECF6",
          "polar": {
           "angularaxis": {
            "gridcolor": "white",
            "linecolor": "white",
            "ticks": ""
           },
           "bgcolor": "#E5ECF6",
           "radialaxis": {
            "gridcolor": "white",
            "linecolor": "white",
            "ticks": ""
           }
          },
          "scene": {
           "xaxis": {
            "backgroundcolor": "#E5ECF6",
            "gridcolor": "white",
            "gridwidth": 2,
            "linecolor": "white",
            "showbackground": true,
            "ticks": "",
            "zerolinecolor": "white"
           },
           "yaxis": {
            "backgroundcolor": "#E5ECF6",
            "gridcolor": "white",
            "gridwidth": 2,
            "linecolor": "white",
            "showbackground": true,
            "ticks": "",
            "zerolinecolor": "white"
           },
           "zaxis": {
            "backgroundcolor": "#E5ECF6",
            "gridcolor": "white",
            "gridwidth": 2,
            "linecolor": "white",
            "showbackground": true,
            "ticks": "",
            "zerolinecolor": "white"
           }
          },
          "shapedefaults": {
           "line": {
            "color": "#2a3f5f"
           }
          },
          "ternary": {
           "aaxis": {
            "gridcolor": "white",
            "linecolor": "white",
            "ticks": ""
           },
           "baxis": {
            "gridcolor": "white",
            "linecolor": "white",
            "ticks": ""
           },
           "bgcolor": "#E5ECF6",
           "caxis": {
            "gridcolor": "white",
            "linecolor": "white",
            "ticks": ""
           }
          },
          "title": {
           "x": 0.05
          },
          "xaxis": {
           "automargin": true,
           "gridcolor": "white",
           "linecolor": "white",
           "ticks": "",
           "title": {
            "standoff": 15
           },
           "zerolinecolor": "white",
           "zerolinewidth": 2
          },
          "yaxis": {
           "automargin": true,
           "gridcolor": "white",
           "linecolor": "white",
           "ticks": "",
           "title": {
            "standoff": 15
           },
           "zerolinecolor": "white",
           "zerolinewidth": 2
          }
         }
        }
       }
      }
     },
     "metadata": {},
     "output_type": "display_data"
    }
   ],
   "source": [
    "#plot the top 20 hotels in the top 5 destinations\n",
    "fig = px.scatter_mapbox(Top20_hotel, lat=\"Lat\", lon=\"Lon\", color=\"City_name\", zoom =5.15,\n",
    "                        mapbox_style=\"open-street-map\", range_color = [6,10.0], size=\"Rating\",\n",
    "                        height=800, center={'lat':47.0000, 'lon':2.0000})\n",
    "fig.show()"
   ]
  },
  {
   "cell_type": "markdown",
   "metadata": {},
   "source": [
    "# CREATE SQL DATABASE"
   ]
  },
  {
   "cell_type": "code",
   "execution_count": 59,
   "metadata": {},
   "outputs": [],
   "source": [
    "#!pip install psycopg2\n",
    "from sqlalchemy import create_engine, text\n",
    "\n",
    "# Connect to my postgresSQL database\n",
    "engine = create_engine(f\"postgresql+psycopg2://{DBUSERNAME}:{DBPASSWORD}@{DBHOSTNAME}/{DBNAME}\", echo=True)\n",
    "engine = create_engine(\"sqlite:///:memory:\", echo=True)\n",
    "conn = engine.connect()"
   ]
  },
  {
   "cell_type": "code",
   "execution_count": 60,
   "metadata": {},
   "outputs": [
    {
     "name": "stdout",
     "output_type": "stream",
     "text": [
      "2022-07-10 13:35:14,587 INFO sqlalchemy.engine.Engine PRAGMA main.table_info(\"top5_cities_weather\")\n"
     ]
    },
    {
     "name": "stderr",
     "output_type": "stream",
     "text": [
      "2022-07-10 13:35:14 [sqlalchemy.engine.Engine] INFO: PRAGMA main.table_info(\"top5_cities_weather\")\n"
     ]
    },
    {
     "name": "stdout",
     "output_type": "stream",
     "text": [
      "2022-07-10 13:35:14,589 INFO sqlalchemy.engine.Engine [raw sql] ()\n"
     ]
    },
    {
     "name": "stderr",
     "output_type": "stream",
     "text": [
      "2022-07-10 13:35:14 [sqlalchemy.engine.Engine] INFO: [raw sql] ()\n"
     ]
    },
    {
     "name": "stdout",
     "output_type": "stream",
     "text": [
      "2022-07-10 13:35:14,592 INFO sqlalchemy.engine.Engine PRAGMA temp.table_info(\"top5_cities_weather\")\n"
     ]
    },
    {
     "name": "stderr",
     "output_type": "stream",
     "text": [
      "2022-07-10 13:35:14 [sqlalchemy.engine.Engine] INFO: PRAGMA temp.table_info(\"top5_cities_weather\")\n"
     ]
    },
    {
     "name": "stdout",
     "output_type": "stream",
     "text": [
      "2022-07-10 13:35:14,593 INFO sqlalchemy.engine.Engine [raw sql] ()\n"
     ]
    },
    {
     "name": "stderr",
     "output_type": "stream",
     "text": [
      "2022-07-10 13:35:14 [sqlalchemy.engine.Engine] INFO: [raw sql] ()\n"
     ]
    },
    {
     "name": "stdout",
     "output_type": "stream",
     "text": [
      "2022-07-10 13:35:14,596 INFO sqlalchemy.engine.Engine BEGIN (implicit)\n"
     ]
    },
    {
     "name": "stderr",
     "output_type": "stream",
     "text": [
      "2022-07-10 13:35:14 [sqlalchemy.engine.Engine] INFO: BEGIN (implicit)\n"
     ]
    },
    {
     "name": "stdout",
     "output_type": "stream",
     "text": [
      "2022-07-10 13:35:14,599 INFO sqlalchemy.engine.Engine \n",
      "CREATE TABLE top5_cities_weather (\n",
      "\t\"index\" BIGINT, \n",
      "\tcity TEXT, \n",
      "\tlatitude FLOAT, \n",
      "\tlongitude FLOAT, \n",
      "\tavg_weekly_temp_feels_like FLOAT, \n",
      "\tmain_weather TEXT, \n",
      "\t\"Rank\" INTEGER\n",
      ")\n",
      "\n",
      "\n"
     ]
    },
    {
     "name": "stderr",
     "output_type": "stream",
     "text": [
      "2022-07-10 13:35:14 [sqlalchemy.engine.Engine] INFO: \n",
      "CREATE TABLE top5_cities_weather (\n",
      "\t\"index\" BIGINT, \n",
      "\tcity TEXT, \n",
      "\tlatitude FLOAT, \n",
      "\tlongitude FLOAT, \n",
      "\tavg_weekly_temp_feels_like FLOAT, \n",
      "\tmain_weather TEXT, \n",
      "\t\"Rank\" INTEGER\n",
      ")\n",
      "\n",
      "\n"
     ]
    },
    {
     "name": "stdout",
     "output_type": "stream",
     "text": [
      "2022-07-10 13:35:14,600 INFO sqlalchemy.engine.Engine [no key 0.00131s] ()\n"
     ]
    },
    {
     "name": "stderr",
     "output_type": "stream",
     "text": [
      "2022-07-10 13:35:14 [sqlalchemy.engine.Engine] INFO: [no key 0.00131s] ()\n"
     ]
    },
    {
     "name": "stdout",
     "output_type": "stream",
     "text": [
      "2022-07-10 13:35:14,602 INFO sqlalchemy.engine.Engine CREATE INDEX ix_top5_cities_weather_index ON top5_cities_weather (\"index\")\n"
     ]
    },
    {
     "name": "stderr",
     "output_type": "stream",
     "text": [
      "2022-07-10 13:35:14 [sqlalchemy.engine.Engine] INFO: CREATE INDEX ix_top5_cities_weather_index ON top5_cities_weather (\"index\")\n"
     ]
    },
    {
     "name": "stdout",
     "output_type": "stream",
     "text": [
      "2022-07-10 13:35:14,603 INFO sqlalchemy.engine.Engine [no key 0.00127s] ()\n"
     ]
    },
    {
     "name": "stderr",
     "output_type": "stream",
     "text": [
      "2022-07-10 13:35:14 [sqlalchemy.engine.Engine] INFO: [no key 0.00127s] ()\n"
     ]
    },
    {
     "name": "stdout",
     "output_type": "stream",
     "text": [
      "2022-07-10 13:35:14,605 INFO sqlalchemy.engine.Engine COMMIT\n"
     ]
    },
    {
     "name": "stderr",
     "output_type": "stream",
     "text": [
      "2022-07-10 13:35:14 [sqlalchemy.engine.Engine] INFO: COMMIT\n"
     ]
    },
    {
     "name": "stdout",
     "output_type": "stream",
     "text": [
      "2022-07-10 13:35:14,608 INFO sqlalchemy.engine.Engine BEGIN (implicit)\n"
     ]
    },
    {
     "name": "stderr",
     "output_type": "stream",
     "text": [
      "2022-07-10 13:35:14 [sqlalchemy.engine.Engine] INFO: BEGIN (implicit)\n"
     ]
    },
    {
     "name": "stdout",
     "output_type": "stream",
     "text": [
      "2022-07-10 13:35:14,611 INFO sqlalchemy.engine.Engine INSERT INTO top5_cities_weather (\"index\", city, latitude, longitude, avg_weekly_temp_feels_like, main_weather, \"Rank\") VALUES (?, ?, ?, ?, ?, ?, ?)\n"
     ]
    },
    {
     "name": "stderr",
     "output_type": "stream",
     "text": [
      "2022-07-10 13:35:14 [sqlalchemy.engine.Engine] INFO: INSERT INTO top5_cities_weather (\"index\", city, latitude, longitude, avg_weekly_temp_feels_like, main_weather, \"Rank\") VALUES (?, ?, ?, ?, ?, ?, ?)\n"
     ]
    },
    {
     "name": "stdout",
     "output_type": "stream",
     "text": [
      "2022-07-10 13:35:14,613 INFO sqlalchemy.engine.Engine [generated in 0.00153s] ((0, 'Eguisheim', 48.0448, 7.308, 27.06, 'Clouds', 1), (1, 'Colmar', 48.0778, 7.358, 27.092857142857138, 'Clouds', 2), (2, 'Strasbourg', 48.5846, 7.7507, 27.23, 'Clouds', 3), (3, 'Besancon', 47.238, 6.0244, 27.664285714285715, 'Clouds', 4), (4, 'Amiens', 49.8942, 2.2957, 27.744285714285713, 'Clouds', 5))\n"
     ]
    },
    {
     "name": "stderr",
     "output_type": "stream",
     "text": [
      "2022-07-10 13:35:14 [sqlalchemy.engine.Engine] INFO: [generated in 0.00153s] ((0, 'Eguisheim', 48.0448, 7.308, 27.06, 'Clouds', 1), (1, 'Colmar', 48.0778, 7.358, 27.092857142857138, 'Clouds', 2), (2, 'Strasbourg', 48.5846, 7.7507, 27.23, 'Clouds', 3), (3, 'Besancon', 47.238, 6.0244, 27.664285714285715, 'Clouds', 4), (4, 'Amiens', 49.8942, 2.2957, 27.744285714285713, 'Clouds', 5))\n"
     ]
    },
    {
     "name": "stdout",
     "output_type": "stream",
     "text": [
      "2022-07-10 13:35:14,615 INFO sqlalchemy.engine.Engine COMMIT\n"
     ]
    },
    {
     "name": "stderr",
     "output_type": "stream",
     "text": [
      "2022-07-10 13:35:14 [sqlalchemy.engine.Engine] INFO: COMMIT\n"
     ]
    },
    {
     "name": "stdout",
     "output_type": "stream",
     "text": [
      "2022-07-10 13:35:14,619 INFO sqlalchemy.engine.Engine PRAGMA main.table_info(\"top_20_hotels\")\n"
     ]
    },
    {
     "name": "stderr",
     "output_type": "stream",
     "text": [
      "2022-07-10 13:35:14 [sqlalchemy.engine.Engine] INFO: PRAGMA main.table_info(\"top_20_hotels\")\n"
     ]
    },
    {
     "name": "stdout",
     "output_type": "stream",
     "text": [
      "2022-07-10 13:35:14,621 INFO sqlalchemy.engine.Engine [raw sql] ()\n"
     ]
    },
    {
     "name": "stderr",
     "output_type": "stream",
     "text": [
      "2022-07-10 13:35:14 [sqlalchemy.engine.Engine] INFO: [raw sql] ()\n"
     ]
    },
    {
     "name": "stdout",
     "output_type": "stream",
     "text": [
      "2022-07-10 13:35:14,624 INFO sqlalchemy.engine.Engine PRAGMA temp.table_info(\"top_20_hotels\")\n"
     ]
    },
    {
     "name": "stderr",
     "output_type": "stream",
     "text": [
      "2022-07-10 13:35:14 [sqlalchemy.engine.Engine] INFO: PRAGMA temp.table_info(\"top_20_hotels\")\n"
     ]
    },
    {
     "name": "stdout",
     "output_type": "stream",
     "text": [
      "2022-07-10 13:35:14,627 INFO sqlalchemy.engine.Engine [raw sql] ()\n"
     ]
    },
    {
     "name": "stderr",
     "output_type": "stream",
     "text": [
      "2022-07-10 13:35:14 [sqlalchemy.engine.Engine] INFO: [raw sql] ()\n"
     ]
    },
    {
     "name": "stdout",
     "output_type": "stream",
     "text": [
      "2022-07-10 13:35:14,630 INFO sqlalchemy.engine.Engine BEGIN (implicit)\n"
     ]
    },
    {
     "name": "stderr",
     "output_type": "stream",
     "text": [
      "2022-07-10 13:35:14 [sqlalchemy.engine.Engine] INFO: BEGIN (implicit)\n"
     ]
    },
    {
     "name": "stdout",
     "output_type": "stream",
     "text": [
      "2022-07-10 13:35:14,632 INFO sqlalchemy.engine.Engine \n",
      "CREATE TABLE top_20_hotels (\n",
      "\t\"index\" BIGINT, \n",
      "\t\"Hotel_name\" TEXT, \n",
      "\t\"Rating\" FLOAT, \n",
      "\t\"Description\" TEXT, \n",
      "\t\"Link\" TEXT, \n",
      "\t\"City_name\" TEXT, \n",
      "\t\"Lat\" FLOAT, \n",
      "\t\"Lon\" FLOAT\n",
      ")\n",
      "\n",
      "\n"
     ]
    },
    {
     "name": "stderr",
     "output_type": "stream",
     "text": [
      "2022-07-10 13:35:14 [sqlalchemy.engine.Engine] INFO: \n",
      "CREATE TABLE top_20_hotels (\n",
      "\t\"index\" BIGINT, \n",
      "\t\"Hotel_name\" TEXT, \n",
      "\t\"Rating\" FLOAT, \n",
      "\t\"Description\" TEXT, \n",
      "\t\"Link\" TEXT, \n",
      "\t\"City_name\" TEXT, \n",
      "\t\"Lat\" FLOAT, \n",
      "\t\"Lon\" FLOAT\n",
      ")\n",
      "\n",
      "\n"
     ]
    },
    {
     "name": "stdout",
     "output_type": "stream",
     "text": [
      "2022-07-10 13:35:14,633 INFO sqlalchemy.engine.Engine [no key 0.00139s] ()\n"
     ]
    },
    {
     "name": "stderr",
     "output_type": "stream",
     "text": [
      "2022-07-10 13:35:14 [sqlalchemy.engine.Engine] INFO: [no key 0.00139s] ()\n"
     ]
    },
    {
     "name": "stdout",
     "output_type": "stream",
     "text": [
      "2022-07-10 13:35:14,636 INFO sqlalchemy.engine.Engine CREATE INDEX ix_top_20_hotels_index ON top_20_hotels (\"index\")\n"
     ]
    },
    {
     "name": "stderr",
     "output_type": "stream",
     "text": [
      "2022-07-10 13:35:14 [sqlalchemy.engine.Engine] INFO: CREATE INDEX ix_top_20_hotels_index ON top_20_hotels (\"index\")\n"
     ]
    },
    {
     "name": "stdout",
     "output_type": "stream",
     "text": [
      "2022-07-10 13:35:14,638 INFO sqlalchemy.engine.Engine [no key 0.00196s] ()\n"
     ]
    },
    {
     "name": "stderr",
     "output_type": "stream",
     "text": [
      "2022-07-10 13:35:14 [sqlalchemy.engine.Engine] INFO: [no key 0.00196s] ()\n"
     ]
    },
    {
     "name": "stdout",
     "output_type": "stream",
     "text": [
      "2022-07-10 13:35:14,640 INFO sqlalchemy.engine.Engine COMMIT\n"
     ]
    },
    {
     "name": "stderr",
     "output_type": "stream",
     "text": [
      "2022-07-10 13:35:14 [sqlalchemy.engine.Engine] INFO: COMMIT\n"
     ]
    },
    {
     "name": "stdout",
     "output_type": "stream",
     "text": [
      "2022-07-10 13:35:14,642 INFO sqlalchemy.engine.Engine BEGIN (implicit)\n"
     ]
    },
    {
     "name": "stderr",
     "output_type": "stream",
     "text": [
      "2022-07-10 13:35:14 [sqlalchemy.engine.Engine] INFO: BEGIN (implicit)\n"
     ]
    },
    {
     "name": "stdout",
     "output_type": "stream",
     "text": [
      "2022-07-10 13:35:14,645 INFO sqlalchemy.engine.Engine INSERT INTO top_20_hotels (\"index\", \"Hotel_name\", \"Rating\", \"Description\", \"Link\", \"City_name\", \"Lat\", \"Lon\") VALUES (?, ?, ?, ?, ?, ?, ?, ?)\n"
     ]
    },
    {
     "name": "stderr",
     "output_type": "stream",
     "text": [
      "2022-07-10 13:35:14 [sqlalchemy.engine.Engine] INFO: INSERT INTO top_20_hotels (\"index\", \"Hotel_name\", \"Rating\", \"Description\", \"Link\", \"City_name\", \"Lat\", \"Lon\") VALUES (?, ?, ?, ?, ?, ?, ?, ?)\n"
     ]
    },
    {
     "name": "stdout",
     "output_type": "stream",
     "text": [
      "2022-07-10 13:35:14,647 INFO sqlalchemy.engine.Engine [generated in 0.00238s] ((97, 'ibis Styles Amiens Centre', 8.7, \"Situé à Amiens, à 3,4 km du Zénith, l'ibis Styles Amiens Centre propose des chambres climatisées et un bar. Il propose une réception ouverte 24h/24,  ... (678 characters truncated) ... récient particulièrement l'emplacement de cet établissement. Ils lui donnent la note de   pour un séjour à deux.  Chaîne hôtelière/marque:ibis Styles\", ' https://www.booking.com/hotel/fr/ibis-styles-amiens-centre.fr.html?label=gen173nr-1FCAMoTUIGYW1pZW5zSA1YBGhNiAEBmAENuAEXyAEM2AEB6AEB-AECiAIBqAIDuAKV6qqWBsACAdICJDRhMDgzNDAyLTM4NjctNDA1Mi1iYTU1LWFmODIxMjRhOWI5MtgCBeACAQ&sid=8325a47d3b372a78714deaab13dbdc28', 'Amiens', 49.891422, 2.304996), (95, 'Hotel Le Prieuré et La Résidence', 8.3, \"L'Hotel Le Prieuré et La Résidence est situé dans le centre-ville d'Amiens, au pied de la cathédrale. Il propose une connexion Wi-Fi gratuite et des  ... (678 characters truncated) ... ients indépendants. Les couples apprécient particulièrement l'emplacement de cet établissement. Ils lui donnent la note de   pour un séjour à deux.  \", ' https://www.booking.com/hotel/fr/le-prieure-amiens.fr.html?label=gen173nr-1FCAMoTUIGYW1pZW5zSA1YBGhNiAEBmAENuAEXyAEM2AEB6AEB-AECiAIBqAIDuAKV6qqWBsACAdICJDRhMDgzNDAyLTM4NjctNDA1Mi1iYTU1LWFmODIxMjRhOWI5MtgCBeACAQ&sid=8325a47d3b372a78714deaab13dbdc28', 'Amiens', 49.89444519, 2.30094239), (98, 'Mercure Amiens Cathédrale', 8.3, \"L’hôtel 4 étoiles Mercure Amiens Cathédrale vous accueille en face de la plus grande cathédrale médiévale de France, classée au patrimoine mondial de ... (711 characters truncated) ...  apprécient particulièrement l'emplacement de cet établissement. Ils lui donnent la note de   pour un séjour à deux.  Chaîne hôtelière/marque:Mercure\", ' https://www.booking.com/hotel/fr/mercure-amiens-cathdrale.fr.html?label=gen173nr-1FCAMoTUIGYW1pZW5zSA1YBGhNiAEBmAENuAEXyAEM2AEB6AEB-AECiAIBqAIDuAKV6qqWBsACAdICJDRhMDgzNDAyLTM4NjctNDA1Mi1iYTU1LWFmODIxMjRhOWI5MtgCBeACAQ&sid=8325a47d3b372a78714deaab13dbdc28', 'Amiens', 49.89571084, 2.29956239), (96, 'Le Saint Louis', 8.1, \"Vous pouvez bénéficier d'une réduction Genius dans l'établissement Le Saint Louis\\xa0!   pour économiser. Le Saint Louis est situé dans le centre-vil ... (538 characters truncated) ... ients indépendants. Les couples apprécient particulièrement l'emplacement de cet établissement. Ils lui donnent la note de   pour un séjour à deux.  \", ' https://www.booking.com/hotel/fr/le-saint-louis-amienq.fr.html?label=gen173nr-1FCAMoTUIGYW1pZW5zSA1YBGhNiAEBmAENuAEXyAEM2AEB6AEB-AECiAIBqAIDuAKV6qqWBsACAdICJDRhMDgzNDAyLTM4NjctNDA1Mi1iYTU1LWFmODIxMjRhOWI5MtgCBeACAQ&sid=8325a47d3b372a78714deaab13dbdc28', 'Amiens', 49.88977885, 2.30249941), (102, 'ibis budget Amiens Centre Gare', 8.1, \"L'ibis budget Amiens Centre Gare est situé dans le centre-ville d'Amiens, à 5 minutes à pied de la gare d'Amiens et à 15 minutes à pied de la cathédr ... (358 characters truncated) ... récient particulièrement l'emplacement de cet établissement. Ils lui donnent la note de   pour un séjour à deux.  Chaîne hôtelière/marque:ibis Budget\", ' https://www.booking.com/hotel/fr/ibis-budget-amiens-centre-gare.fr.html?label=gen173nr-1FCAMoTUIGYW1pZW5zSA1YBGhNiAEBmAENuAEXyAEM2AEB6AEB-AECiAIBqAIDuAKV6qqWBsACAdICJDRhMDgzNDAyLTM4NjctNDA1Mi1iYTU1LWFmODIxMjRhOWI5MtgCBeACAQ&sid=8325a47d3b372a78714deaab13dbdc28', 'Amiens', 49.891591, 2.313573), (103, 'Holiday Inn Express Amiens, an IHG Hotel', 8.0, \"Rénové en avril 2015, le Holiday Inn Express Amiens comprend des chambres confortables avec une connexion Wi-Fi gratuite. Vous séjournerez dans le ce ... (782 characters truncated) ... particulièrement l'emplacement de cet établissement. Ils lui donnent la note de   pour un séjour à deux.  Chaîne hôtelière/marque:Holiday Inn Express\", ' https://www.booking.com/hotel/fr/express-by-holiday-inn.fr.html?label=gen173nr-1FCAMoTUIGYW1pZW5zSA1YBGhNiAEBmAENuAEXyAEM2AEB6AEB-AECiAIBqAIDuAKV6qqWBsACAdICJDRhMDgzNDAyLTM4NjctNDA1Mi1iYTU1LWFmODIxMjRhOWI5MtgCBeACAQ&sid=8325a47d3b372a78714deaab13dbdc28', 'Amiens', 49.8916762, 2.30775386), (90, \"Grand Hotel de L'Univers\", 7.9, \"Le Grand Hôtel de L'Univers est situé au cœur d'Amiens, à seulement 100 mètres de la gare. Il propose des chambres insonorisées pourvues d'une télévi ... (471 characters truncated) ... ients indépendants. Les couples apprécient particulièrement l'emplacement de cet établissement. Ils lui donnent la note de   pour un séjour à deux.  \", ' https://www.booking.com/hotel/fr/bwlunivers.fr.html?label=gen173nr-1FCAMoTUIGYW1pZW5zSA1YBGhNiAEBmAENuAEXyAEM2AEB6AEB-AECiAIBqAIDuAKV6qqWBsACAdICJDRhMDgzNDAyLTM4NjctNDA1Mi1iYTU1LWFmODIxMjRhOWI5MtgCBeACAQ&sid=8325a47d3b372a78714deaab13dbdc28', 'Amiens', 49.89125423, 2.30433606), (93, 'Hotel Victor Hugo', 7.8, \"L'Hotel Victor Hugo propose des hébergements à Amiens. L'établissement est situé à 2,2 km du Zénith d'Amiens et à 100 mètres du musée de l'Hôtel de B ... (611 characters truncated) ... ients indépendants. Les couples apprécient particulièrement l'emplacement de cet établissement. Ils lui donnent la note de   pour un séjour à deux.  \", ' https://www.booking.com/hotel/fr/victor-hugo-amiens.fr.html?label=gen173nr-1FCAMoTUIGYW1pZW5zSA1YBGhNiAEBmAENuAEXyAEM2AEB6AEB-AECiAIBqAIDuAKV6qqWBsACAdICJDRhMDgzNDAyLTM4NjctNDA1Mi1iYTU1LWFmODIxMjRhOWI5MtgCBeACAQ&sid=8325a47d3b372a78714deaab13dbdc28', 'Amiens', 49.893251, 2.304545)  ... displaying 10 of 85 total bound parameter sets ...  (75, 'Hôtel Gutenberg', 8.5, \"Vous pouvez bénéficier d'une réduction Genius dans l'établissement Hôtel Gutenberg\\xa0!   pour économiser. Offrant une connexion Wi-Fi gratuite dans  ... (754 characters truncated) ... ients indépendants. Les couples apprécient particulièrement l'emplacement de cet établissement. Ils lui donnent la note de   pour un séjour à deux.  \", ' https://www.booking.com/hotel/fr/gutenberg.fr.html?label=gen173nr-1FCAMoTTjiAkgNWARoTYgBAZgBDbgBF8gBDNgBAegBAfgBAogCAagCA7gCluqqlgbAAgHSAiQwOWVjMzk5ZC00NWNkLTRiMDEtYmU1OC05ODkwYTFmOTFjYjDYAgXgAgE&sid=ed3cd46dcafa395388041084ea3902f7', 'Strasbourg', 48.58106251, 7.74778068), (84, 'voco Strasbourg Centre - The Garden, an IHG Hotel', 8.5, \"Doté d'un jardin et d'un restaurant, le voco Strasbourg Centre - The Garden, an IHG Hotel est situé à Strasbourg. Cet établissement possède également ... (1271 characters truncated) ... les apprécient particulièrement l'emplacement de cet établissement. Ils lui donnent la note de   pour un séjour à deux.  Chaîne hôtelière/marque:Voco\", ' https://www.booking.com/hotel/fr/golden-tulip-strasbourg-centre-the-garden.fr.html?label=gen173nr-1FCAMoTTjiAkgNWARoTYgBAZgBDbgBF8gBDNgBAegBAfgBAogCAagCA7gCluqqlgbAAgHSAiQwOWVjMzk5ZC00NWNkLTRiMDEtYmU1OC05ODkwYTFmOTFjYjDYAgXgAgE&sid=ed3cd46dcafa395388041084ea3902f7', 'Strasbourg', 48.589685, 7.739508))\n"
     ]
    },
    {
     "name": "stderr",
     "output_type": "stream",
     "text": [
      "2022-07-10 13:35:14 [sqlalchemy.engine.Engine] INFO: [generated in 0.00238s] ((97, 'ibis Styles Amiens Centre', 8.7, \"Situé à Amiens, à 3,4 km du Zénith, l'ibis Styles Amiens Centre propose des chambres climatisées et un bar. Il propose une réception ouverte 24h/24,  ... (678 characters truncated) ... récient particulièrement l'emplacement de cet établissement. Ils lui donnent la note de   pour un séjour à deux.  Chaîne hôtelière/marque:ibis Styles\", ' https://www.booking.com/hotel/fr/ibis-styles-amiens-centre.fr.html?label=gen173nr-1FCAMoTUIGYW1pZW5zSA1YBGhNiAEBmAENuAEXyAEM2AEB6AEB-AECiAIBqAIDuAKV6qqWBsACAdICJDRhMDgzNDAyLTM4NjctNDA1Mi1iYTU1LWFmODIxMjRhOWI5MtgCBeACAQ&sid=8325a47d3b372a78714deaab13dbdc28', 'Amiens', 49.891422, 2.304996), (95, 'Hotel Le Prieuré et La Résidence', 8.3, \"L'Hotel Le Prieuré et La Résidence est situé dans le centre-ville d'Amiens, au pied de la cathédrale. Il propose une connexion Wi-Fi gratuite et des  ... (678 characters truncated) ... ients indépendants. Les couples apprécient particulièrement l'emplacement de cet établissement. Ils lui donnent la note de   pour un séjour à deux.  \", ' https://www.booking.com/hotel/fr/le-prieure-amiens.fr.html?label=gen173nr-1FCAMoTUIGYW1pZW5zSA1YBGhNiAEBmAENuAEXyAEM2AEB6AEB-AECiAIBqAIDuAKV6qqWBsACAdICJDRhMDgzNDAyLTM4NjctNDA1Mi1iYTU1LWFmODIxMjRhOWI5MtgCBeACAQ&sid=8325a47d3b372a78714deaab13dbdc28', 'Amiens', 49.89444519, 2.30094239), (98, 'Mercure Amiens Cathédrale', 8.3, \"L’hôtel 4 étoiles Mercure Amiens Cathédrale vous accueille en face de la plus grande cathédrale médiévale de France, classée au patrimoine mondial de ... (711 characters truncated) ...  apprécient particulièrement l'emplacement de cet établissement. Ils lui donnent la note de   pour un séjour à deux.  Chaîne hôtelière/marque:Mercure\", ' https://www.booking.com/hotel/fr/mercure-amiens-cathdrale.fr.html?label=gen173nr-1FCAMoTUIGYW1pZW5zSA1YBGhNiAEBmAENuAEXyAEM2AEB6AEB-AECiAIBqAIDuAKV6qqWBsACAdICJDRhMDgzNDAyLTM4NjctNDA1Mi1iYTU1LWFmODIxMjRhOWI5MtgCBeACAQ&sid=8325a47d3b372a78714deaab13dbdc28', 'Amiens', 49.89571084, 2.29956239), (96, 'Le Saint Louis', 8.1, \"Vous pouvez bénéficier d'une réduction Genius dans l'établissement Le Saint Louis\\xa0!   pour économiser. Le Saint Louis est situé dans le centre-vil ... (538 characters truncated) ... ients indépendants. Les couples apprécient particulièrement l'emplacement de cet établissement. Ils lui donnent la note de   pour un séjour à deux.  \", ' https://www.booking.com/hotel/fr/le-saint-louis-amienq.fr.html?label=gen173nr-1FCAMoTUIGYW1pZW5zSA1YBGhNiAEBmAENuAEXyAEM2AEB6AEB-AECiAIBqAIDuAKV6qqWBsACAdICJDRhMDgzNDAyLTM4NjctNDA1Mi1iYTU1LWFmODIxMjRhOWI5MtgCBeACAQ&sid=8325a47d3b372a78714deaab13dbdc28', 'Amiens', 49.88977885, 2.30249941), (102, 'ibis budget Amiens Centre Gare', 8.1, \"L'ibis budget Amiens Centre Gare est situé dans le centre-ville d'Amiens, à 5 minutes à pied de la gare d'Amiens et à 15 minutes à pied de la cathédr ... (358 characters truncated) ... récient particulièrement l'emplacement de cet établissement. Ils lui donnent la note de   pour un séjour à deux.  Chaîne hôtelière/marque:ibis Budget\", ' https://www.booking.com/hotel/fr/ibis-budget-amiens-centre-gare.fr.html?label=gen173nr-1FCAMoTUIGYW1pZW5zSA1YBGhNiAEBmAENuAEXyAEM2AEB6AEB-AECiAIBqAIDuAKV6qqWBsACAdICJDRhMDgzNDAyLTM4NjctNDA1Mi1iYTU1LWFmODIxMjRhOWI5MtgCBeACAQ&sid=8325a47d3b372a78714deaab13dbdc28', 'Amiens', 49.891591, 2.313573), (103, 'Holiday Inn Express Amiens, an IHG Hotel', 8.0, \"Rénové en avril 2015, le Holiday Inn Express Amiens comprend des chambres confortables avec une connexion Wi-Fi gratuite. Vous séjournerez dans le ce ... (782 characters truncated) ... particulièrement l'emplacement de cet établissement. Ils lui donnent la note de   pour un séjour à deux.  Chaîne hôtelière/marque:Holiday Inn Express\", ' https://www.booking.com/hotel/fr/express-by-holiday-inn.fr.html?label=gen173nr-1FCAMoTUIGYW1pZW5zSA1YBGhNiAEBmAENuAEXyAEM2AEB6AEB-AECiAIBqAIDuAKV6qqWBsACAdICJDRhMDgzNDAyLTM4NjctNDA1Mi1iYTU1LWFmODIxMjRhOWI5MtgCBeACAQ&sid=8325a47d3b372a78714deaab13dbdc28', 'Amiens', 49.8916762, 2.30775386), (90, \"Grand Hotel de L'Univers\", 7.9, \"Le Grand Hôtel de L'Univers est situé au cœur d'Amiens, à seulement 100 mètres de la gare. Il propose des chambres insonorisées pourvues d'une télévi ... (471 characters truncated) ... ients indépendants. Les couples apprécient particulièrement l'emplacement de cet établissement. Ils lui donnent la note de   pour un séjour à deux.  \", ' https://www.booking.com/hotel/fr/bwlunivers.fr.html?label=gen173nr-1FCAMoTUIGYW1pZW5zSA1YBGhNiAEBmAENuAEXyAEM2AEB6AEB-AECiAIBqAIDuAKV6qqWBsACAdICJDRhMDgzNDAyLTM4NjctNDA1Mi1iYTU1LWFmODIxMjRhOWI5MtgCBeACAQ&sid=8325a47d3b372a78714deaab13dbdc28', 'Amiens', 49.89125423, 2.30433606), (93, 'Hotel Victor Hugo', 7.8, \"L'Hotel Victor Hugo propose des hébergements à Amiens. L'établissement est situé à 2,2 km du Zénith d'Amiens et à 100 mètres du musée de l'Hôtel de B ... (611 characters truncated) ... ients indépendants. Les couples apprécient particulièrement l'emplacement de cet établissement. Ils lui donnent la note de   pour un séjour à deux.  \", ' https://www.booking.com/hotel/fr/victor-hugo-amiens.fr.html?label=gen173nr-1FCAMoTUIGYW1pZW5zSA1YBGhNiAEBmAENuAEXyAEM2AEB6AEB-AECiAIBqAIDuAKV6qqWBsACAdICJDRhMDgzNDAyLTM4NjctNDA1Mi1iYTU1LWFmODIxMjRhOWI5MtgCBeACAQ&sid=8325a47d3b372a78714deaab13dbdc28', 'Amiens', 49.893251, 2.304545)  ... displaying 10 of 85 total bound parameter sets ...  (75, 'Hôtel Gutenberg', 8.5, \"Vous pouvez bénéficier d'une réduction Genius dans l'établissement Hôtel Gutenberg\\xa0!   pour économiser. Offrant une connexion Wi-Fi gratuite dans  ... (754 characters truncated) ... ients indépendants. Les couples apprécient particulièrement l'emplacement de cet établissement. Ils lui donnent la note de   pour un séjour à deux.  \", ' https://www.booking.com/hotel/fr/gutenberg.fr.html?label=gen173nr-1FCAMoTTjiAkgNWARoTYgBAZgBDbgBF8gBDNgBAegBAfgBAogCAagCA7gCluqqlgbAAgHSAiQwOWVjMzk5ZC00NWNkLTRiMDEtYmU1OC05ODkwYTFmOTFjYjDYAgXgAgE&sid=ed3cd46dcafa395388041084ea3902f7', 'Strasbourg', 48.58106251, 7.74778068), (84, 'voco Strasbourg Centre - The Garden, an IHG Hotel', 8.5, \"Doté d'un jardin et d'un restaurant, le voco Strasbourg Centre - The Garden, an IHG Hotel est situé à Strasbourg. Cet établissement possède également ... (1271 characters truncated) ... les apprécient particulièrement l'emplacement de cet établissement. Ils lui donnent la note de   pour un séjour à deux.  Chaîne hôtelière/marque:Voco\", ' https://www.booking.com/hotel/fr/golden-tulip-strasbourg-centre-the-garden.fr.html?label=gen173nr-1FCAMoTTjiAkgNWARoTYgBAZgBDbgBF8gBDNgBAegBAfgBAogCAagCA7gCluqqlgbAAgHSAiQwOWVjMzk5ZC00NWNkLTRiMDEtYmU1OC05ODkwYTFmOTFjYjDYAgXgAgE&sid=ed3cd46dcafa395388041084ea3902f7', 'Strasbourg', 48.589685, 7.739508))\n"
     ]
    },
    {
     "name": "stdout",
     "output_type": "stream",
     "text": [
      "2022-07-10 13:35:14,657 INFO sqlalchemy.engine.Engine COMMIT\n"
     ]
    },
    {
     "name": "stderr",
     "output_type": "stream",
     "text": [
      "2022-07-10 13:35:14 [sqlalchemy.engine.Engine] INFO: COMMIT\n"
     ]
    },
    {
     "data": {
      "text/plain": [
       "85"
      ]
     },
     "execution_count": 60,
     "metadata": {},
     "output_type": "execute_result"
    }
   ],
   "source": [
    "#save top5 weather dataframe cleaned data\n",
    "top5_to_save=top5.drop(['weekly_temp',\"weekly_temp_feels_like\",'weekly_wind_speed','weekly_humidity','weekly_main_weather'], axis=1)\n",
    "\n",
    "\n",
    "# Transform the top5 weather DataFrame into a SQL table inside the RDS Data Warehouse\n",
    "top5_to_save.to_sql(\n",
    "    \"top5_cities_weather\",\n",
    "    engine,\n",
    "    if_exists='replace'\n",
    ")\n",
    "\n",
    "# Transform the df_final DataFrame into a SQL table inside the RDS Data Warehouse\n",
    "Top20_hotel.to_sql(\n",
    "    \"top_20_hotels\",\n",
    "    engine,\n",
    "    if_exists='replace'\n",
    ")\n"
   ]
  },
  {
   "cell_type": "code",
   "execution_count": 62,
   "metadata": {},
   "outputs": [
    {
     "name": "stdout",
     "output_type": "stream",
     "text": [
      "2022-07-10 13:36:19,544 INFO sqlalchemy.engine.Engine SELECT * FROM top_20_hotels\n"
     ]
    },
    {
     "name": "stderr",
     "output_type": "stream",
     "text": [
      "2022-07-10 13:36:19 [sqlalchemy.engine.Engine] INFO: SELECT * FROM top_20_hotels\n"
     ]
    },
    {
     "name": "stdout",
     "output_type": "stream",
     "text": [
      "2022-07-10 13:36:19,546 INFO sqlalchemy.engine.Engine [generated in 0.00167s] ()\n"
     ]
    },
    {
     "name": "stderr",
     "output_type": "stream",
     "text": [
      "2022-07-10 13:36:19 [sqlalchemy.engine.Engine] INFO: [generated in 0.00167s] ()\n"
     ]
    },
    {
     "name": "stdout",
     "output_type": "stream",
     "text": [
      "2022-07-10 13:36:19,552 INFO sqlalchemy.engine.Engine SELECT * FROM top5_cities_weather\n"
     ]
    },
    {
     "name": "stderr",
     "output_type": "stream",
     "text": [
      "2022-07-10 13:36:19 [sqlalchemy.engine.Engine] INFO: SELECT * FROM top5_cities_weather\n"
     ]
    },
    {
     "name": "stdout",
     "output_type": "stream",
     "text": [
      "2022-07-10 13:36:19,554 INFO sqlalchemy.engine.Engine [generated in 0.00171s] ()\n"
     ]
    },
    {
     "name": "stderr",
     "output_type": "stream",
     "text": [
      "2022-07-10 13:36:19 [sqlalchemy.engine.Engine] INFO: [generated in 0.00171s] ()\n"
     ]
    }
   ],
   "source": [
    "# SQL Request to get the data from the RDS Data Warehouse\n",
    "df_final_hotels1 = text(\"SELECT * FROM top_20_hotels\")\n",
    "df_final_hotels = pd.read_sql(df_final_hotels1, engine)\n",
    "\n",
    "df_final_weather1 = text(\"SELECT * FROM top5_cities_weather\")\n",
    "df_final_weather = pd.read_sql(df_final_weather1, engine)"
   ]
  },
  {
   "cell_type": "code",
   "execution_count": 63,
   "metadata": {},
   "outputs": [
    {
     "data": {
      "text/html": [
       "<div>\n",
       "<style scoped>\n",
       "    .dataframe tbody tr th:only-of-type {\n",
       "        vertical-align: middle;\n",
       "    }\n",
       "\n",
       "    .dataframe tbody tr th {\n",
       "        vertical-align: top;\n",
       "    }\n",
       "\n",
       "    .dataframe thead th {\n",
       "        text-align: right;\n",
       "    }\n",
       "</style>\n",
       "<table border=\"1\" class=\"dataframe\">\n",
       "  <thead>\n",
       "    <tr style=\"text-align: right;\">\n",
       "      <th></th>\n",
       "      <th>index</th>\n",
       "      <th>Hotel_name</th>\n",
       "      <th>Rating</th>\n",
       "      <th>Description</th>\n",
       "      <th>Link</th>\n",
       "      <th>City_name</th>\n",
       "      <th>Lat</th>\n",
       "      <th>Lon</th>\n",
       "    </tr>\n",
       "  </thead>\n",
       "  <tbody>\n",
       "    <tr>\n",
       "      <th>0</th>\n",
       "      <td>97</td>\n",
       "      <td>ibis Styles Amiens Centre</td>\n",
       "      <td>8.7</td>\n",
       "      <td>Situé à Amiens, à 3,4 km du Zénith, l'ibis Sty...</td>\n",
       "      <td>https://www.booking.com/hotel/fr/ibis-styles-...</td>\n",
       "      <td>Amiens</td>\n",
       "      <td>49.891422</td>\n",
       "      <td>2.304996</td>\n",
       "    </tr>\n",
       "    <tr>\n",
       "      <th>1</th>\n",
       "      <td>95</td>\n",
       "      <td>Hotel Le Prieuré et La Résidence</td>\n",
       "      <td>8.3</td>\n",
       "      <td>L'Hotel Le Prieuré et La Résidence est situé d...</td>\n",
       "      <td>https://www.booking.com/hotel/fr/le-prieure-a...</td>\n",
       "      <td>Amiens</td>\n",
       "      <td>49.894445</td>\n",
       "      <td>2.300942</td>\n",
       "    </tr>\n",
       "    <tr>\n",
       "      <th>2</th>\n",
       "      <td>98</td>\n",
       "      <td>Mercure Amiens Cathédrale</td>\n",
       "      <td>8.3</td>\n",
       "      <td>L’hôtel 4 étoiles Mercure Amiens Cathédrale vo...</td>\n",
       "      <td>https://www.booking.com/hotel/fr/mercure-amie...</td>\n",
       "      <td>Amiens</td>\n",
       "      <td>49.895711</td>\n",
       "      <td>2.299562</td>\n",
       "    </tr>\n",
       "    <tr>\n",
       "      <th>3</th>\n",
       "      <td>96</td>\n",
       "      <td>Le Saint Louis</td>\n",
       "      <td>8.1</td>\n",
       "      <td>Vous pouvez bénéficier d'une réduction Genius ...</td>\n",
       "      <td>https://www.booking.com/hotel/fr/le-saint-lou...</td>\n",
       "      <td>Amiens</td>\n",
       "      <td>49.889779</td>\n",
       "      <td>2.302499</td>\n",
       "    </tr>\n",
       "    <tr>\n",
       "      <th>4</th>\n",
       "      <td>102</td>\n",
       "      <td>ibis budget Amiens Centre Gare</td>\n",
       "      <td>8.1</td>\n",
       "      <td>L'ibis budget Amiens Centre Gare est situé dan...</td>\n",
       "      <td>https://www.booking.com/hotel/fr/ibis-budget-...</td>\n",
       "      <td>Amiens</td>\n",
       "      <td>49.891591</td>\n",
       "      <td>2.313573</td>\n",
       "    </tr>\n",
       "  </tbody>\n",
       "</table>\n",
       "</div>"
      ],
      "text/plain": [
       "   index                        Hotel_name  Rating  \\\n",
       "0     97         ibis Styles Amiens Centre     8.7   \n",
       "1     95  Hotel Le Prieuré et La Résidence     8.3   \n",
       "2     98         Mercure Amiens Cathédrale     8.3   \n",
       "3     96                    Le Saint Louis     8.1   \n",
       "4    102    ibis budget Amiens Centre Gare     8.1   \n",
       "\n",
       "                                         Description  \\\n",
       "0  Situé à Amiens, à 3,4 km du Zénith, l'ibis Sty...   \n",
       "1  L'Hotel Le Prieuré et La Résidence est situé d...   \n",
       "2  L’hôtel 4 étoiles Mercure Amiens Cathédrale vo...   \n",
       "3  Vous pouvez bénéficier d'une réduction Genius ...   \n",
       "4  L'ibis budget Amiens Centre Gare est situé dan...   \n",
       "\n",
       "                                                Link City_name        Lat  \\\n",
       "0   https://www.booking.com/hotel/fr/ibis-styles-...    Amiens  49.891422   \n",
       "1   https://www.booking.com/hotel/fr/le-prieure-a...    Amiens  49.894445   \n",
       "2   https://www.booking.com/hotel/fr/mercure-amie...    Amiens  49.895711   \n",
       "3   https://www.booking.com/hotel/fr/le-saint-lou...    Amiens  49.889779   \n",
       "4   https://www.booking.com/hotel/fr/ibis-budget-...    Amiens  49.891591   \n",
       "\n",
       "        Lon  \n",
       "0  2.304996  \n",
       "1  2.300942  \n",
       "2  2.299562  \n",
       "3  2.302499  \n",
       "4  2.313573  "
      ]
     },
     "execution_count": 63,
     "metadata": {},
     "output_type": "execute_result"
    }
   ],
   "source": [
    "#visualize dataframe collected from RDS data warehouse\n",
    "df_final_hotels.head()"
   ]
  },
  {
   "cell_type": "code",
   "execution_count": 64,
   "metadata": {},
   "outputs": [
    {
     "data": {
      "text/html": [
       "<div>\n",
       "<style scoped>\n",
       "    .dataframe tbody tr th:only-of-type {\n",
       "        vertical-align: middle;\n",
       "    }\n",
       "\n",
       "    .dataframe tbody tr th {\n",
       "        vertical-align: top;\n",
       "    }\n",
       "\n",
       "    .dataframe thead th {\n",
       "        text-align: right;\n",
       "    }\n",
       "</style>\n",
       "<table border=\"1\" class=\"dataframe\">\n",
       "  <thead>\n",
       "    <tr style=\"text-align: right;\">\n",
       "      <th></th>\n",
       "      <th>index</th>\n",
       "      <th>city</th>\n",
       "      <th>latitude</th>\n",
       "      <th>longitude</th>\n",
       "      <th>avg_weekly_temp_feels_like</th>\n",
       "      <th>main_weather</th>\n",
       "      <th>Rank</th>\n",
       "    </tr>\n",
       "  </thead>\n",
       "  <tbody>\n",
       "    <tr>\n",
       "      <th>0</th>\n",
       "      <td>0</td>\n",
       "      <td>Eguisheim</td>\n",
       "      <td>48.0448</td>\n",
       "      <td>7.3080</td>\n",
       "      <td>27.060000</td>\n",
       "      <td>Clouds</td>\n",
       "      <td>1</td>\n",
       "    </tr>\n",
       "    <tr>\n",
       "      <th>1</th>\n",
       "      <td>1</td>\n",
       "      <td>Colmar</td>\n",
       "      <td>48.0778</td>\n",
       "      <td>7.3580</td>\n",
       "      <td>27.092857</td>\n",
       "      <td>Clouds</td>\n",
       "      <td>2</td>\n",
       "    </tr>\n",
       "    <tr>\n",
       "      <th>2</th>\n",
       "      <td>2</td>\n",
       "      <td>Strasbourg</td>\n",
       "      <td>48.5846</td>\n",
       "      <td>7.7507</td>\n",
       "      <td>27.230000</td>\n",
       "      <td>Clouds</td>\n",
       "      <td>3</td>\n",
       "    </tr>\n",
       "    <tr>\n",
       "      <th>3</th>\n",
       "      <td>3</td>\n",
       "      <td>Besancon</td>\n",
       "      <td>47.2380</td>\n",
       "      <td>6.0244</td>\n",
       "      <td>27.664286</td>\n",
       "      <td>Clouds</td>\n",
       "      <td>4</td>\n",
       "    </tr>\n",
       "    <tr>\n",
       "      <th>4</th>\n",
       "      <td>4</td>\n",
       "      <td>Amiens</td>\n",
       "      <td>49.8942</td>\n",
       "      <td>2.2957</td>\n",
       "      <td>27.744286</td>\n",
       "      <td>Clouds</td>\n",
       "      <td>5</td>\n",
       "    </tr>\n",
       "  </tbody>\n",
       "</table>\n",
       "</div>"
      ],
      "text/plain": [
       "   index        city  latitude  longitude  avg_weekly_temp_feels_like  \\\n",
       "0      0   Eguisheim   48.0448     7.3080                   27.060000   \n",
       "1      1      Colmar   48.0778     7.3580                   27.092857   \n",
       "2      2  Strasbourg   48.5846     7.7507                   27.230000   \n",
       "3      3    Besancon   47.2380     6.0244                   27.664286   \n",
       "4      4      Amiens   49.8942     2.2957                   27.744286   \n",
       "\n",
       "  main_weather  Rank  \n",
       "0       Clouds     1  \n",
       "1       Clouds     2  \n",
       "2       Clouds     3  \n",
       "3       Clouds     4  \n",
       "4       Clouds     5  "
      ]
     },
     "execution_count": 64,
     "metadata": {},
     "output_type": "execute_result"
    }
   ],
   "source": [
    "#visualize dataframe collected from RDS data warehouse\n",
    "df_final_weather.head()"
   ]
  }
 ],
 "metadata": {
  "kernelspec": {
   "display_name": "Python 3 (ipykernel)",
   "language": "python",
   "name": "python3"
  },
  "language_info": {
   "codemirror_mode": {
    "name": "ipython",
    "version": 3
   },
   "file_extension": ".py",
   "mimetype": "text/x-python",
   "name": "python",
   "nbconvert_exporter": "python",
   "pygments_lexer": "ipython3",
   "version": "3.10.5"
  }
 },
 "nbformat": 4,
 "nbformat_minor": 4
}
